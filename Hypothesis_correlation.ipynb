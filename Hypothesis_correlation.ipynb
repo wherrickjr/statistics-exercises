{
 "cells": [
  {
   "cell_type": "code",
   "execution_count": 94,
   "id": "f8112c3a",
   "metadata": {},
   "outputs": [],
   "source": [
    "from env import host, username, password\n",
    "import pandas as pd\n",
    "import numpy as np\n",
    "import scipy.stats as stats\n",
    "url = f'mysql+pymysql://{username}:{password}@{host}/telco_churn'\n"
   ]
  },
  {
   "cell_type": "code",
   "execution_count": 109,
   "id": "29383659",
   "metadata": {},
   "outputs": [],
   "source": [
    "query = 'select total_charges, churn from customers'"
   ]
  },
  {
   "cell_type": "code",
   "execution_count": 129,
   "id": "ed08afe5",
   "metadata": {},
   "outputs": [],
   "source": [
    "fulldata = pd.read_sql(query, url)\n"
   ]
  },
  {
   "cell_type": "code",
   "execution_count": 131,
   "id": "1a25abde",
   "metadata": {},
   "outputs": [],
   "source": [
    "fulldata['total_charges'].replace(' ', np.nan, inplace=True)\n"
   ]
  },
  {
   "cell_type": "code",
   "execution_count": 145,
   "id": "528a452f",
   "metadata": {},
   "outputs": [],
   "source": [
    "nonas = fulldata.dropna()\n"
   ]
  },
  {
   "cell_type": "code",
   "execution_count": 146,
   "id": "40d93c9f",
   "metadata": {},
   "outputs": [
    {
     "data": {
      "text/html": [
       "<div>\n",
       "<style scoped>\n",
       "    .dataframe tbody tr th:only-of-type {\n",
       "        vertical-align: middle;\n",
       "    }\n",
       "\n",
       "    .dataframe tbody tr th {\n",
       "        vertical-align: top;\n",
       "    }\n",
       "\n",
       "    .dataframe thead th {\n",
       "        text-align: right;\n",
       "    }\n",
       "</style>\n",
       "<table border=\"1\" class=\"dataframe\">\n",
       "  <thead>\n",
       "    <tr style=\"text-align: right;\">\n",
       "      <th></th>\n",
       "      <th>total_charges</th>\n",
       "      <th>churn</th>\n",
       "    </tr>\n",
       "  </thead>\n",
       "  <tbody>\n",
       "    <tr>\n",
       "      <th>0</th>\n",
       "      <td>593.3</td>\n",
       "      <td>No</td>\n",
       "    </tr>\n",
       "    <tr>\n",
       "      <th>1</th>\n",
       "      <td>542.4</td>\n",
       "      <td>No</td>\n",
       "    </tr>\n",
       "    <tr>\n",
       "      <th>2</th>\n",
       "      <td>280.85</td>\n",
       "      <td>Yes</td>\n",
       "    </tr>\n",
       "    <tr>\n",
       "      <th>3</th>\n",
       "      <td>1237.85</td>\n",
       "      <td>Yes</td>\n",
       "    </tr>\n",
       "    <tr>\n",
       "      <th>4</th>\n",
       "      <td>267.4</td>\n",
       "      <td>Yes</td>\n",
       "    </tr>\n",
       "    <tr>\n",
       "      <th>...</th>\n",
       "      <td>...</td>\n",
       "      <td>...</td>\n",
       "    </tr>\n",
       "    <tr>\n",
       "      <th>7038</th>\n",
       "      <td>742.9</td>\n",
       "      <td>No</td>\n",
       "    </tr>\n",
       "    <tr>\n",
       "      <th>7039</th>\n",
       "      <td>1873.7</td>\n",
       "      <td>Yes</td>\n",
       "    </tr>\n",
       "    <tr>\n",
       "      <th>7040</th>\n",
       "      <td>92.75</td>\n",
       "      <td>No</td>\n",
       "    </tr>\n",
       "    <tr>\n",
       "      <th>7041</th>\n",
       "      <td>4627.65</td>\n",
       "      <td>No</td>\n",
       "    </tr>\n",
       "    <tr>\n",
       "      <th>7042</th>\n",
       "      <td>3707.6</td>\n",
       "      <td>No</td>\n",
       "    </tr>\n",
       "  </tbody>\n",
       "</table>\n",
       "<p>7032 rows × 2 columns</p>\n",
       "</div>"
      ],
      "text/plain": [
       "     total_charges churn\n",
       "0            593.3    No\n",
       "1            542.4    No\n",
       "2           280.85   Yes\n",
       "3          1237.85   Yes\n",
       "4            267.4   Yes\n",
       "...            ...   ...\n",
       "7038         742.9    No\n",
       "7039        1873.7   Yes\n",
       "7040         92.75    No\n",
       "7041       4627.65    No\n",
       "7042        3707.6    No\n",
       "\n",
       "[7032 rows x 2 columns]"
      ]
     },
     "execution_count": 146,
     "metadata": {},
     "output_type": "execute_result"
    }
   ],
   "source": [
    "nonas"
   ]
  },
  {
   "cell_type": "code",
   "execution_count": 147,
   "id": "1f10fc7f",
   "metadata": {},
   "outputs": [],
   "source": [
    "x = nonas['churn'].str.startswith('Y') == True"
   ]
  },
  {
   "cell_type": "code",
   "execution_count": 149,
   "id": "c9a3b863",
   "metadata": {},
   "outputs": [],
   "source": [
    "charges_floats = nonas['total_charges'].astype(float)"
   ]
  },
  {
   "cell_type": "code",
   "execution_count": 150,
   "id": "708cffa5",
   "metadata": {},
   "outputs": [
    {
     "data": {
      "text/plain": [
       "0        593.30\n",
       "1        542.40\n",
       "2        280.85\n",
       "3       1237.85\n",
       "4        267.40\n",
       "         ...   \n",
       "7038     742.90\n",
       "7039    1873.70\n",
       "7040      92.75\n",
       "7041    4627.65\n",
       "7042    3707.60\n",
       "Name: total_charges, Length: 7032, dtype: float64"
      ]
     },
     "execution_count": 150,
     "metadata": {},
     "output_type": "execute_result"
    }
   ],
   "source": [
    "charges_floats"
   ]
  },
  {
   "cell_type": "code",
   "execution_count": 151,
   "id": "560388c7",
   "metadata": {},
   "outputs": [
    {
     "data": {
      "text/plain": [
       "0       False\n",
       "1       False\n",
       "2        True\n",
       "3        True\n",
       "4        True\n",
       "        ...  \n",
       "7038    False\n",
       "7039     True\n",
       "7040    False\n",
       "7041    False\n",
       "7042    False\n",
       "Name: churn, Length: 7032, dtype: bool"
      ]
     },
     "execution_count": 151,
     "metadata": {},
     "output_type": "execute_result"
    }
   ],
   "source": [
    "x"
   ]
  },
  {
   "cell_type": "code",
   "execution_count": 152,
   "id": "6621aeff",
   "metadata": {},
   "outputs": [],
   "source": [
    "r, p = stats.pearsonr(charges_floats, x)\n"
   ]
  },
  {
   "cell_type": "code",
   "execution_count": 153,
   "id": "2861d5c1",
   "metadata": {},
   "outputs": [
    {
     "data": {
      "text/plain": [
       "-0.19948408356756428"
      ]
     },
     "execution_count": 153,
     "metadata": {},
     "output_type": "execute_result"
    }
   ],
   "source": [
    "r"
   ]
  },
  {
   "cell_type": "code",
   "execution_count": 154,
   "id": "dec496c5",
   "metadata": {},
   "outputs": [
    {
     "data": {
      "text/plain": [
       "4.876865689751806e-64"
      ]
     },
     "execution_count": 154,
     "metadata": {},
     "output_type": "execute_result"
    }
   ],
   "source": [
    "p"
   ]
  },
  {
   "cell_type": "code",
   "execution_count": null,
   "id": "f29c6918",
   "metadata": {},
   "outputs": [],
   "source": []
  }
 ],
 "metadata": {
  "kernelspec": {
   "display_name": "Python 3 (ipykernel)",
   "language": "python",
   "name": "python3"
  },
  "language_info": {
   "codemirror_mode": {
    "name": "ipython",
    "version": 3
   },
   "file_extension": ".py",
   "mimetype": "text/x-python",
   "name": "python",
   "nbconvert_exporter": "python",
   "pygments_lexer": "ipython3",
   "version": "3.9.13"
  }
 },
 "nbformat": 4,
 "nbformat_minor": 5
}
