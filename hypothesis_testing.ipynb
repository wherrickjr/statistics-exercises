{
 "cells": [
  {
   "cell_type": "markdown",
   "id": "eec3ff10",
   "metadata": {},
   "source": [
    "# H0 = network latency has not changed\n",
    "# Ha = network latency went up\n",
    "-- true positive would be that latency went up and we rejected the null\n",
    "-- type 1 error would be that we rejected the null when latency did not change\n",
    "\n",
    "-- true negative would be that we fail to reject the null and latency didnt change\n",
    "-- type 2 error would be that we fail to reject null and the latency went up\n",
    "\n",
    "\n",
    "# H0 = the website design is neutral\n",
    "# Ha = the website design is good\n",
    "-- true positive would be that website is good and we rejected the null\n",
    "-- type 1 error would be that we rejected the null when website is neutral\n",
    "\n",
    "-- true negative would be that we fail to reject the null and website is neutral\n",
    "-- type 2 error would be that we fail to reject null and website is good\n",
    "\n",
    "\n",
    "# H0 = television ad is not affecting sales\n",
    "# Ha = television ad is driving revenue\n",
    "-- true positive would be that television ads are driving revenue and we rejected the null\n",
    "-- type 1 error would be that we rejected the null when television ads did not affect revenue\n",
    "\n",
    "-- true negative would be that we fail to reject the null and television ads did not affect revenue\n",
    "-- type 2 error would be that we fail to reject null and television ads affected revenue \n"
   ]
  },
  {
   "cell_type": "markdown",
   "id": "5a27cee9",
   "metadata": {},
   "source": [
    "## Central limit theorem\n",
    "- a population that is not necessarily normally distributed\n",
    "- taking samples will result in normally distributed"
   ]
  },
  {
   "cell_type": "code",
   "execution_count": 1,
   "id": "aaed1709",
   "metadata": {},
   "outputs": [],
   "source": [
    "import numpy as np\n",
    "import seaborn as sns\n",
    "import scipy.stats as stats\n",
    "import pandas as pd\n",
    "import matplotlib.pyplot as plt\n",
    "\n",
    "np.random.seed(123)"
   ]
  },
  {
   "cell_type": "code",
   "execution_count": 2,
   "id": "c058952c",
   "metadata": {},
   "outputs": [
    {
     "data": {
      "text/plain": [
       "array([[6, 3, 5, 3, 2, 4, 3, 4, 2, 2],\n",
       "       [1, 2, 2, 1, 1, 2, 4, 6, 5, 1],\n",
       "       [1, 5, 2, 4, 3, 5, 3, 5, 1, 6],\n",
       "       [1, 2, 4, 5, 5, 5, 2, 6, 4, 3]])"
      ]
     },
     "execution_count": 2,
     "metadata": {},
     "output_type": "execute_result"
    }
   ],
   "source": [
    "# Define a roll [1,2,3,4,5,6]\n",
    "n_dice_per_experiment = ncols = 10\n",
    "n_experiment = nrows = 100\n",
    "\n",
    "#100 rows and 10 columns, from numbers 1-6\n",
    "data = np.random.randint(1, 7, (nrows, ncols))\n",
    "\n",
    "#this gives number of columns in data array\n",
    "data [:4]"
   ]
  },
  {
   "cell_type": "code",
   "execution_count": 3,
   "id": "0050a17d",
   "metadata": {},
   "outputs": [
    {
     "data": {
      "text/plain": [
       "array([3.4, 2.5, 3.5, 3.7, 3.2, 4.7, 3.4, 3.2, 3.4, 3. , 3.7, 3.5, 4. ,\n",
       "       4.5, 2.9, 2.8, 2.9, 3.8, 3.2, 3.6, 3.4, 4. , 3.5, 3.3, 3.6, 3. ,\n",
       "       4.3, 3. , 3.3, 3.2, 4.2, 3.9, 3.2, 3.8, 3.6, 3.4, 2.7, 3.4, 3.2,\n",
       "       3.1, 3.2, 3. , 4.1, 3.3, 3. , 4.1, 3.4, 3.3, 2.9, 3.8, 3.4, 3.6,\n",
       "       3.9, 3.2, 4.7, 3.8, 3.5, 2.8, 3.8, 4.7, 4.1, 3.5, 2.8, 3.7, 3.4,\n",
       "       3.7, 3.6, 4.1, 3.6, 3.5, 2.9, 4. , 3.2, 3.4, 4.4, 2.9, 3.2, 3.9,\n",
       "       1.9, 3. , 3. , 3.5, 3.3, 4.4, 3.4, 4.2, 4.1, 3.2, 3.5, 3.5, 3.8,\n",
       "       3.1, 3.6, 2.9, 2.9, 4. , 3.3, 3.1, 3.4, 3.6])"
      ]
     },
     "execution_count": 3,
     "metadata": {},
     "output_type": "execute_result"
    }
   ],
   "source": [
    "#take the mean of each row:\n",
    "calculated_mean_of_rows = data.mean(axis = 1)\n",
    "calculated_mean_of_rows"
   ]
  },
  {
   "cell_type": "code",
   "execution_count": 4,
   "id": "e73b7397",
   "metadata": {},
   "outputs": [
    {
     "data": {
      "text/plain": [
       "Text(0, 0.5, 'Number of Outcomes')"
      ]
     },
     "execution_count": 4,
     "metadata": {},
     "output_type": "execute_result"
    },
    {
     "data": {
      "image/png": "[encoded data removed]",
      "text/plain": [
       "<Figure size 640x480 with 1 Axes>"
      ]
     },
     "metadata": {},
     "output_type": "display_data"
    }
   ],
   "source": [
    "plt.hist(calculated_mean_of_rows)\n",
    "plt.xlabel(f'Average of {n_dice_per_experiment} dice rolls')\n",
    "plt.ylabel('Number of Outcomes')"
   ]
  },
  {
   "cell_type": "markdown",
   "id": "78274cb6",
   "metadata": {},
   "source": [
    "## One sample T-test\n",
    "1. Plot distributions\n",
    "2. Establish hypothesis"
   ]
  },
  {
   "cell_type": "code",
   "execution_count": 5,
   "id": "66696d2a",
   "metadata": {},
   "outputs": [],
   "source": [
    "import env"
   ]
  },
  {
   "cell_type": "code",
   "execution_count": 6,
   "id": "4f7502fd",
   "metadata": {},
   "outputs": [],
   "source": [
    "url = f'mysql+pymysql://{env.username}:{env.password}@{env.host}/telco_churn'\n",
    "query = 'select * from customers'\n",
    "\n"
   ]
  },
  {
   "cell_type": "code",
   "execution_count": 7,
   "id": "6b469752",
   "metadata": {},
   "outputs": [],
   "source": [
    "df = pd.read_sql(query, url)"
   ]
  },
  {
   "cell_type": "code",
   "execution_count": 8,
   "id": "21b942a8",
   "metadata": {},
   "outputs": [
    {
     "data": {
      "text/html": [
       "<div>\n",
       "<style scoped>\n",
       "    .dataframe tbody tr th:only-of-type {\n",
       "        vertical-align: middle;\n",
       "    }\n",
       "\n",
       "    .dataframe tbody tr th {\n",
       "        vertical-align: top;\n",
       "    }\n",
       "\n",
       "    .dataframe thead th {\n",
       "        text-align: right;\n",
       "    }\n",
       "</style>\n",
       "<table border=\"1\" class=\"dataframe\">\n",
       "  <thead>\n",
       "    <tr style=\"text-align: right;\">\n",
       "      <th></th>\n",
       "      <th>customer_id</th>\n",
       "      <th>gender</th>\n",
       "      <th>senior_citizen</th>\n",
       "      <th>partner</th>\n",
       "      <th>dependents</th>\n",
       "      <th>tenure</th>\n",
       "      <th>phone_service</th>\n",
       "      <th>multiple_lines</th>\n",
       "      <th>internet_service_type_id</th>\n",
       "      <th>online_security</th>\n",
       "      <th>...</th>\n",
       "      <th>device_protection</th>\n",
       "      <th>tech_support</th>\n",
       "      <th>streaming_tv</th>\n",
       "      <th>streaming_movies</th>\n",
       "      <th>contract_type_id</th>\n",
       "      <th>paperless_billing</th>\n",
       "      <th>payment_type_id</th>\n",
       "      <th>monthly_charges</th>\n",
       "      <th>total_charges</th>\n",
       "      <th>churn</th>\n",
       "    </tr>\n",
       "  </thead>\n",
       "  <tbody>\n",
       "    <tr>\n",
       "      <th>0</th>\n",
       "      <td>0002-ORFBO</td>\n",
       "      <td>Female</td>\n",
       "      <td>0</td>\n",
       "      <td>Yes</td>\n",
       "      <td>Yes</td>\n",
       "      <td>9</td>\n",
       "      <td>Yes</td>\n",
       "      <td>No</td>\n",
       "      <td>1</td>\n",
       "      <td>No</td>\n",
       "      <td>...</td>\n",
       "      <td>No</td>\n",
       "      <td>Yes</td>\n",
       "      <td>Yes</td>\n",
       "      <td>No</td>\n",
       "      <td>2</td>\n",
       "      <td>Yes</td>\n",
       "      <td>2</td>\n",
       "      <td>65.60</td>\n",
       "      <td>593.3</td>\n",
       "      <td>No</td>\n",
       "    </tr>\n",
       "    <tr>\n",
       "      <th>1</th>\n",
       "      <td>0003-MKNFE</td>\n",
       "      <td>Male</td>\n",
       "      <td>0</td>\n",
       "      <td>No</td>\n",
       "      <td>No</td>\n",
       "      <td>9</td>\n",
       "      <td>Yes</td>\n",
       "      <td>Yes</td>\n",
       "      <td>1</td>\n",
       "      <td>No</td>\n",
       "      <td>...</td>\n",
       "      <td>No</td>\n",
       "      <td>No</td>\n",
       "      <td>No</td>\n",
       "      <td>Yes</td>\n",
       "      <td>1</td>\n",
       "      <td>No</td>\n",
       "      <td>2</td>\n",
       "      <td>59.90</td>\n",
       "      <td>542.4</td>\n",
       "      <td>No</td>\n",
       "    </tr>\n",
       "    <tr>\n",
       "      <th>2</th>\n",
       "      <td>0004-TLHLJ</td>\n",
       "      <td>Male</td>\n",
       "      <td>0</td>\n",
       "      <td>No</td>\n",
       "      <td>No</td>\n",
       "      <td>4</td>\n",
       "      <td>Yes</td>\n",
       "      <td>No</td>\n",
       "      <td>2</td>\n",
       "      <td>No</td>\n",
       "      <td>...</td>\n",
       "      <td>Yes</td>\n",
       "      <td>No</td>\n",
       "      <td>No</td>\n",
       "      <td>No</td>\n",
       "      <td>1</td>\n",
       "      <td>Yes</td>\n",
       "      <td>1</td>\n",
       "      <td>73.90</td>\n",
       "      <td>280.85</td>\n",
       "      <td>Yes</td>\n",
       "    </tr>\n",
       "    <tr>\n",
       "      <th>3</th>\n",
       "      <td>0011-IGKFF</td>\n",
       "      <td>Male</td>\n",
       "      <td>1</td>\n",
       "      <td>Yes</td>\n",
       "      <td>No</td>\n",
       "      <td>13</td>\n",
       "      <td>Yes</td>\n",
       "      <td>No</td>\n",
       "      <td>2</td>\n",
       "      <td>No</td>\n",
       "      <td>...</td>\n",
       "      <td>Yes</td>\n",
       "      <td>No</td>\n",
       "      <td>Yes</td>\n",
       "      <td>Yes</td>\n",
       "      <td>1</td>\n",
       "      <td>Yes</td>\n",
       "      <td>1</td>\n",
       "      <td>98.00</td>\n",
       "      <td>1237.85</td>\n",
       "      <td>Yes</td>\n",
       "    </tr>\n",
       "    <tr>\n",
       "      <th>4</th>\n",
       "      <td>0013-EXCHZ</td>\n",
       "      <td>Female</td>\n",
       "      <td>1</td>\n",
       "      <td>Yes</td>\n",
       "      <td>No</td>\n",
       "      <td>3</td>\n",
       "      <td>Yes</td>\n",
       "      <td>No</td>\n",
       "      <td>2</td>\n",
       "      <td>No</td>\n",
       "      <td>...</td>\n",
       "      <td>No</td>\n",
       "      <td>Yes</td>\n",
       "      <td>Yes</td>\n",
       "      <td>No</td>\n",
       "      <td>1</td>\n",
       "      <td>Yes</td>\n",
       "      <td>2</td>\n",
       "      <td>83.90</td>\n",
       "      <td>267.4</td>\n",
       "      <td>Yes</td>\n",
       "    </tr>\n",
       "    <tr>\n",
       "      <th>...</th>\n",
       "      <td>...</td>\n",
       "      <td>...</td>\n",
       "      <td>...</td>\n",
       "      <td>...</td>\n",
       "      <td>...</td>\n",
       "      <td>...</td>\n",
       "      <td>...</td>\n",
       "      <td>...</td>\n",
       "      <td>...</td>\n",
       "      <td>...</td>\n",
       "      <td>...</td>\n",
       "      <td>...</td>\n",
       "      <td>...</td>\n",
       "      <td>...</td>\n",
       "      <td>...</td>\n",
       "      <td>...</td>\n",
       "      <td>...</td>\n",
       "      <td>...</td>\n",
       "      <td>...</td>\n",
       "      <td>...</td>\n",
       "      <td>...</td>\n",
       "    </tr>\n",
       "    <tr>\n",
       "      <th>7038</th>\n",
       "      <td>9987-LUTYD</td>\n",
       "      <td>Female</td>\n",
       "      <td>0</td>\n",
       "      <td>No</td>\n",
       "      <td>No</td>\n",
       "      <td>13</td>\n",
       "      <td>Yes</td>\n",
       "      <td>No</td>\n",
       "      <td>1</td>\n",
       "      <td>Yes</td>\n",
       "      <td>...</td>\n",
       "      <td>No</td>\n",
       "      <td>Yes</td>\n",
       "      <td>No</td>\n",
       "      <td>No</td>\n",
       "      <td>2</td>\n",
       "      <td>No</td>\n",
       "      <td>2</td>\n",
       "      <td>55.15</td>\n",
       "      <td>742.9</td>\n",
       "      <td>No</td>\n",
       "    </tr>\n",
       "    <tr>\n",
       "      <th>7039</th>\n",
       "      <td>9992-RRAMN</td>\n",
       "      <td>Male</td>\n",
       "      <td>0</td>\n",
       "      <td>Yes</td>\n",
       "      <td>No</td>\n",
       "      <td>22</td>\n",
       "      <td>Yes</td>\n",
       "      <td>Yes</td>\n",
       "      <td>2</td>\n",
       "      <td>No</td>\n",
       "      <td>...</td>\n",
       "      <td>No</td>\n",
       "      <td>No</td>\n",
       "      <td>No</td>\n",
       "      <td>Yes</td>\n",
       "      <td>1</td>\n",
       "      <td>Yes</td>\n",
       "      <td>1</td>\n",
       "      <td>85.10</td>\n",
       "      <td>1873.7</td>\n",
       "      <td>Yes</td>\n",
       "    </tr>\n",
       "    <tr>\n",
       "      <th>7040</th>\n",
       "      <td>9992-UJOEL</td>\n",
       "      <td>Male</td>\n",
       "      <td>0</td>\n",
       "      <td>No</td>\n",
       "      <td>No</td>\n",
       "      <td>2</td>\n",
       "      <td>Yes</td>\n",
       "      <td>No</td>\n",
       "      <td>1</td>\n",
       "      <td>No</td>\n",
       "      <td>...</td>\n",
       "      <td>No</td>\n",
       "      <td>No</td>\n",
       "      <td>No</td>\n",
       "      <td>No</td>\n",
       "      <td>1</td>\n",
       "      <td>Yes</td>\n",
       "      <td>2</td>\n",
       "      <td>50.30</td>\n",
       "      <td>92.75</td>\n",
       "      <td>No</td>\n",
       "    </tr>\n",
       "    <tr>\n",
       "      <th>7041</th>\n",
       "      <td>9993-LHIEB</td>\n",
       "      <td>Male</td>\n",
       "      <td>0</td>\n",
       "      <td>Yes</td>\n",
       "      <td>Yes</td>\n",
       "      <td>67</td>\n",
       "      <td>Yes</td>\n",
       "      <td>No</td>\n",
       "      <td>1</td>\n",
       "      <td>Yes</td>\n",
       "      <td>...</td>\n",
       "      <td>Yes</td>\n",
       "      <td>Yes</td>\n",
       "      <td>No</td>\n",
       "      <td>Yes</td>\n",
       "      <td>3</td>\n",
       "      <td>No</td>\n",
       "      <td>2</td>\n",
       "      <td>67.85</td>\n",
       "      <td>4627.65</td>\n",
       "      <td>No</td>\n",
       "    </tr>\n",
       "    <tr>\n",
       "      <th>7042</th>\n",
       "      <td>9995-HOTOH</td>\n",
       "      <td>Male</td>\n",
       "      <td>0</td>\n",
       "      <td>Yes</td>\n",
       "      <td>Yes</td>\n",
       "      <td>63</td>\n",
       "      <td>No</td>\n",
       "      <td>No phone service</td>\n",
       "      <td>1</td>\n",
       "      <td>Yes</td>\n",
       "      <td>...</td>\n",
       "      <td>Yes</td>\n",
       "      <td>No</td>\n",
       "      <td>Yes</td>\n",
       "      <td>Yes</td>\n",
       "      <td>3</td>\n",
       "      <td>No</td>\n",
       "      <td>1</td>\n",
       "      <td>59.00</td>\n",
       "      <td>3707.6</td>\n",
       "      <td>No</td>\n",
       "    </tr>\n",
       "  </tbody>\n",
       "</table>\n",
       "<p>7043 rows × 21 columns</p>\n",
       "</div>"
      ],
      "text/plain": [
       "     customer_id  gender  senior_citizen partner dependents  tenure  \\\n",
       "0     0002-ORFBO  Female               0     Yes        Yes       9   \n",
       "1     0003-MKNFE    Male               0      No         No       9   \n",
       "2     0004-TLHLJ    Male               0      No         No       4   \n",
       "3     0011-IGKFF    Male               1     Yes         No      13   \n",
       "4     0013-EXCHZ  Female               1     Yes         No       3   \n",
       "...          ...     ...             ...     ...        ...     ...   \n",
       "7038  9987-LUTYD  Female               0      No         No      13   \n",
       "7039  9992-RRAMN    Male               0     Yes         No      22   \n",
       "7040  9992-UJOEL    Male               0      No         No       2   \n",
       "7041  9993-LHIEB    Male               0     Yes        Yes      67   \n",
       "7042  9995-HOTOH    Male               0     Yes        Yes      63   \n",
       "\n",
       "     phone_service    multiple_lines  internet_service_type_id  \\\n",
       "0              Yes                No                         1   \n",
       "1              Yes               Yes                         1   \n",
       "2              Yes                No                         2   \n",
       "3              Yes                No                         2   \n",
       "4              Yes                No                         2   \n",
       "...            ...               ...                       ...   \n",
       "7038           Yes                No                         1   \n",
       "7039           Yes               Yes                         2   \n",
       "7040           Yes                No                         1   \n",
       "7041           Yes                No                         1   \n",
       "7042            No  No phone service                         1   \n",
       "\n",
       "     online_security  ... device_protection tech_support streaming_tv  \\\n",
       "0                 No  ...                No          Yes          Yes   \n",
       "1                 No  ...                No           No           No   \n",
       "2                 No  ...               Yes           No           No   \n",
       "3                 No  ...               Yes           No          Yes   \n",
       "4                 No  ...                No          Yes          Yes   \n",
       "...              ...  ...               ...          ...          ...   \n",
       "7038             Yes  ...                No          Yes           No   \n",
       "7039              No  ...                No           No           No   \n",
       "7040              No  ...                No           No           No   \n",
       "7041             Yes  ...               Yes          Yes           No   \n",
       "7042             Yes  ...               Yes           No          Yes   \n",
       "\n",
       "     streaming_movies contract_type_id  paperless_billing payment_type_id  \\\n",
       "0                  No                2                Yes               2   \n",
       "1                 Yes                1                 No               2   \n",
       "2                  No                1                Yes               1   \n",
       "3                 Yes                1                Yes               1   \n",
       "4                  No                1                Yes               2   \n",
       "...               ...              ...                ...             ...   \n",
       "7038               No                2                 No               2   \n",
       "7039              Yes                1                Yes               1   \n",
       "7040               No                1                Yes               2   \n",
       "7041              Yes                3                 No               2   \n",
       "7042              Yes                3                 No               1   \n",
       "\n",
       "      monthly_charges  total_charges churn  \n",
       "0               65.60          593.3    No  \n",
       "1               59.90          542.4    No  \n",
       "2               73.90         280.85   Yes  \n",
       "3               98.00        1237.85   Yes  \n",
       "4               83.90          267.4   Yes  \n",
       "...               ...            ...   ...  \n",
       "7038            55.15          742.9    No  \n",
       "7039            85.10         1873.7   Yes  \n",
       "7040            50.30          92.75    No  \n",
       "7041            67.85        4627.65    No  \n",
       "7042            59.00         3707.6    No  \n",
       "\n",
       "[7043 rows x 21 columns]"
      ]
     },
     "execution_count": 8,
     "metadata": {},
     "output_type": "execute_result"
    }
   ],
   "source": [
    "df"
   ]
  },
  {
   "cell_type": "code",
   "execution_count": 9,
   "id": "6c4ad999",
   "metadata": {},
   "outputs": [
    {
     "data": {
      "text/plain": [
       "Index(['customer_id', 'gender', 'senior_citizen', 'partner', 'dependents',\n",
       "       'tenure', 'phone_service', 'multiple_lines', 'internet_service_type_id',\n",
       "       'online_security', 'online_backup', 'device_protection', 'tech_support',\n",
       "       'streaming_tv', 'streaming_movies', 'contract_type_id',\n",
       "       'paperless_billing', 'payment_type_id', 'monthly_charges',\n",
       "       'total_charges', 'churn'],\n",
       "      dtype='object')"
      ]
     },
     "execution_count": 9,
     "metadata": {},
     "output_type": "execute_result"
    }
   ],
   "source": [
    "df.columns"
   ]
  },
  {
   "cell_type": "code",
   "execution_count": 10,
   "id": "b8867190",
   "metadata": {},
   "outputs": [
    {
     "data": {
      "text/plain": [
       "<AxesSubplot:>"
      ]
     },
     "execution_count": 10,
     "metadata": {},
     "output_type": "execute_result"
    },
    {
     "data": {
      "image/png": "[encoded data removed]",
      "text/plain": [
       "<Figure size 640x480 with 1 Axes>"
      ]
     },
     "metadata": {},
     "output_type": "display_data"
    }
   ],
   "source": [
    "df.monthly_charges.hist()"
   ]
  },
  {
   "cell_type": "code",
   "execution_count": 11,
   "id": "c30991af",
   "metadata": {},
   "outputs": [
    {
     "data": {
      "text/plain": [
       "<AxesSubplot:>"
      ]
     },
     "execution_count": 11,
     "metadata": {},
     "output_type": "execute_result"
    },
    {
     "data": {
      "image/png": "[encoded data removed]",
      "text/plain": [
       "<Figure size 640x480 with 1 Axes>"
      ]
     },
     "metadata": {},
     "output_type": "display_data"
    }
   ],
   "source": [
    "# give us a df that filters churn column for yes\n",
    "churn_sample = df[df.churn == 'Yes'].monthly_charges\n",
    "churn_sample.hist()"
   ]
  },
  {
   "cell_type": "code",
   "execution_count": 12,
   "id": "8f6373b2",
   "metadata": {},
   "outputs": [
    {
     "data": {
      "text/plain": [
       "2       73.90\n",
       "3       98.00\n",
       "4       83.90\n",
       "18      62.70\n",
       "19      25.10\n",
       "        ...  \n",
       "7020    96.80\n",
       "7023    83.85\n",
       "7036    70.15\n",
       "7037    20.95\n",
       "7039    85.10\n",
       "Name: monthly_charges, Length: 1869, dtype: float64"
      ]
     },
     "execution_count": 12,
     "metadata": {},
     "output_type": "execute_result"
    }
   ],
   "source": [
    "churn_sample"
   ]
  },
  {
   "cell_type": "markdown",
   "id": "712d302f",
   "metadata": {},
   "source": [
    "## set hypothesis\n",
    "H_0: mean of monthly charged of churned customers <= mean of \n",
    "    monthly charges of all customers\n",
    "\n",
    "H_a: mean of monthly charges of chruned customers > mean of \n",
    "    monthly charges of all customers\n",
    "    \n",
    "alpha value = 0.05\n",
    "    \n",
    "        \n",
    "        "
   ]
  },
  {
   "cell_type": "code",
   "execution_count": 13,
   "id": "e5f1f841",
   "metadata": {},
   "outputs": [
    {
     "data": {
      "text/plain": [
       "No     5174\n",
       "Yes    1869\n",
       "Name: churn, dtype: int64"
      ]
     },
     "execution_count": 13,
     "metadata": {},
     "output_type": "execute_result"
    }
   ],
   "source": [
    "#sample size:\n",
    "df.churn.value_counts()"
   ]
  },
  {
   "cell_type": "code",
   "execution_count": 14,
   "id": "41bd2cff",
   "metadata": {},
   "outputs": [
    {
     "data": {
      "text/html": [
       "<div>\n",
       "<style scoped>\n",
       "    .dataframe tbody tr th:only-of-type {\n",
       "        vertical-align: middle;\n",
       "    }\n",
       "\n",
       "    .dataframe tbody tr th {\n",
       "        vertical-align: top;\n",
       "    }\n",
       "\n",
       "    .dataframe thead th {\n",
       "        text-align: right;\n",
       "    }\n",
       "</style>\n",
       "<table border=\"1\" class=\"dataframe\">\n",
       "  <thead>\n",
       "    <tr style=\"text-align: right;\">\n",
       "      <th></th>\n",
       "      <th>customer_id</th>\n",
       "      <th>gender</th>\n",
       "      <th>senior_citizen</th>\n",
       "      <th>partner</th>\n",
       "      <th>dependents</th>\n",
       "      <th>tenure</th>\n",
       "      <th>phone_service</th>\n",
       "      <th>multiple_lines</th>\n",
       "      <th>internet_service_type_id</th>\n",
       "      <th>online_security</th>\n",
       "      <th>...</th>\n",
       "      <th>device_protection</th>\n",
       "      <th>tech_support</th>\n",
       "      <th>streaming_tv</th>\n",
       "      <th>streaming_movies</th>\n",
       "      <th>contract_type_id</th>\n",
       "      <th>paperless_billing</th>\n",
       "      <th>payment_type_id</th>\n",
       "      <th>monthly_charges</th>\n",
       "      <th>total_charges</th>\n",
       "      <th>churn</th>\n",
       "    </tr>\n",
       "  </thead>\n",
       "  <tbody>\n",
       "    <tr>\n",
       "      <th>0</th>\n",
       "      <td>0002-ORFBO</td>\n",
       "      <td>Female</td>\n",
       "      <td>0</td>\n",
       "      <td>Yes</td>\n",
       "      <td>Yes</td>\n",
       "      <td>9</td>\n",
       "      <td>Yes</td>\n",
       "      <td>No</td>\n",
       "      <td>1</td>\n",
       "      <td>No</td>\n",
       "      <td>...</td>\n",
       "      <td>No</td>\n",
       "      <td>Yes</td>\n",
       "      <td>Yes</td>\n",
       "      <td>No</td>\n",
       "      <td>2</td>\n",
       "      <td>Yes</td>\n",
       "      <td>2</td>\n",
       "      <td>65.60</td>\n",
       "      <td>593.3</td>\n",
       "      <td>No</td>\n",
       "    </tr>\n",
       "    <tr>\n",
       "      <th>1</th>\n",
       "      <td>0003-MKNFE</td>\n",
       "      <td>Male</td>\n",
       "      <td>0</td>\n",
       "      <td>No</td>\n",
       "      <td>No</td>\n",
       "      <td>9</td>\n",
       "      <td>Yes</td>\n",
       "      <td>Yes</td>\n",
       "      <td>1</td>\n",
       "      <td>No</td>\n",
       "      <td>...</td>\n",
       "      <td>No</td>\n",
       "      <td>No</td>\n",
       "      <td>No</td>\n",
       "      <td>Yes</td>\n",
       "      <td>1</td>\n",
       "      <td>No</td>\n",
       "      <td>2</td>\n",
       "      <td>59.90</td>\n",
       "      <td>542.4</td>\n",
       "      <td>No</td>\n",
       "    </tr>\n",
       "    <tr>\n",
       "      <th>2</th>\n",
       "      <td>0004-TLHLJ</td>\n",
       "      <td>Male</td>\n",
       "      <td>0</td>\n",
       "      <td>No</td>\n",
       "      <td>No</td>\n",
       "      <td>4</td>\n",
       "      <td>Yes</td>\n",
       "      <td>No</td>\n",
       "      <td>2</td>\n",
       "      <td>No</td>\n",
       "      <td>...</td>\n",
       "      <td>Yes</td>\n",
       "      <td>No</td>\n",
       "      <td>No</td>\n",
       "      <td>No</td>\n",
       "      <td>1</td>\n",
       "      <td>Yes</td>\n",
       "      <td>1</td>\n",
       "      <td>73.90</td>\n",
       "      <td>280.85</td>\n",
       "      <td>Yes</td>\n",
       "    </tr>\n",
       "    <tr>\n",
       "      <th>3</th>\n",
       "      <td>0011-IGKFF</td>\n",
       "      <td>Male</td>\n",
       "      <td>1</td>\n",
       "      <td>Yes</td>\n",
       "      <td>No</td>\n",
       "      <td>13</td>\n",
       "      <td>Yes</td>\n",
       "      <td>No</td>\n",
       "      <td>2</td>\n",
       "      <td>No</td>\n",
       "      <td>...</td>\n",
       "      <td>Yes</td>\n",
       "      <td>No</td>\n",
       "      <td>Yes</td>\n",
       "      <td>Yes</td>\n",
       "      <td>1</td>\n",
       "      <td>Yes</td>\n",
       "      <td>1</td>\n",
       "      <td>98.00</td>\n",
       "      <td>1237.85</td>\n",
       "      <td>Yes</td>\n",
       "    </tr>\n",
       "    <tr>\n",
       "      <th>4</th>\n",
       "      <td>0013-EXCHZ</td>\n",
       "      <td>Female</td>\n",
       "      <td>1</td>\n",
       "      <td>Yes</td>\n",
       "      <td>No</td>\n",
       "      <td>3</td>\n",
       "      <td>Yes</td>\n",
       "      <td>No</td>\n",
       "      <td>2</td>\n",
       "      <td>No</td>\n",
       "      <td>...</td>\n",
       "      <td>No</td>\n",
       "      <td>Yes</td>\n",
       "      <td>Yes</td>\n",
       "      <td>No</td>\n",
       "      <td>1</td>\n",
       "      <td>Yes</td>\n",
       "      <td>2</td>\n",
       "      <td>83.90</td>\n",
       "      <td>267.4</td>\n",
       "      <td>Yes</td>\n",
       "    </tr>\n",
       "    <tr>\n",
       "      <th>...</th>\n",
       "      <td>...</td>\n",
       "      <td>...</td>\n",
       "      <td>...</td>\n",
       "      <td>...</td>\n",
       "      <td>...</td>\n",
       "      <td>...</td>\n",
       "      <td>...</td>\n",
       "      <td>...</td>\n",
       "      <td>...</td>\n",
       "      <td>...</td>\n",
       "      <td>...</td>\n",
       "      <td>...</td>\n",
       "      <td>...</td>\n",
       "      <td>...</td>\n",
       "      <td>...</td>\n",
       "      <td>...</td>\n",
       "      <td>...</td>\n",
       "      <td>...</td>\n",
       "      <td>...</td>\n",
       "      <td>...</td>\n",
       "      <td>...</td>\n",
       "    </tr>\n",
       "    <tr>\n",
       "      <th>7038</th>\n",
       "      <td>9987-LUTYD</td>\n",
       "      <td>Female</td>\n",
       "      <td>0</td>\n",
       "      <td>No</td>\n",
       "      <td>No</td>\n",
       "      <td>13</td>\n",
       "      <td>Yes</td>\n",
       "      <td>No</td>\n",
       "      <td>1</td>\n",
       "      <td>Yes</td>\n",
       "      <td>...</td>\n",
       "      <td>No</td>\n",
       "      <td>Yes</td>\n",
       "      <td>No</td>\n",
       "      <td>No</td>\n",
       "      <td>2</td>\n",
       "      <td>No</td>\n",
       "      <td>2</td>\n",
       "      <td>55.15</td>\n",
       "      <td>742.9</td>\n",
       "      <td>No</td>\n",
       "    </tr>\n",
       "    <tr>\n",
       "      <th>7039</th>\n",
       "      <td>9992-RRAMN</td>\n",
       "      <td>Male</td>\n",
       "      <td>0</td>\n",
       "      <td>Yes</td>\n",
       "      <td>No</td>\n",
       "      <td>22</td>\n",
       "      <td>Yes</td>\n",
       "      <td>Yes</td>\n",
       "      <td>2</td>\n",
       "      <td>No</td>\n",
       "      <td>...</td>\n",
       "      <td>No</td>\n",
       "      <td>No</td>\n",
       "      <td>No</td>\n",
       "      <td>Yes</td>\n",
       "      <td>1</td>\n",
       "      <td>Yes</td>\n",
       "      <td>1</td>\n",
       "      <td>85.10</td>\n",
       "      <td>1873.7</td>\n",
       "      <td>Yes</td>\n",
       "    </tr>\n",
       "    <tr>\n",
       "      <th>7040</th>\n",
       "      <td>9992-UJOEL</td>\n",
       "      <td>Male</td>\n",
       "      <td>0</td>\n",
       "      <td>No</td>\n",
       "      <td>No</td>\n",
       "      <td>2</td>\n",
       "      <td>Yes</td>\n",
       "      <td>No</td>\n",
       "      <td>1</td>\n",
       "      <td>No</td>\n",
       "      <td>...</td>\n",
       "      <td>No</td>\n",
       "      <td>No</td>\n",
       "      <td>No</td>\n",
       "      <td>No</td>\n",
       "      <td>1</td>\n",
       "      <td>Yes</td>\n",
       "      <td>2</td>\n",
       "      <td>50.30</td>\n",
       "      <td>92.75</td>\n",
       "      <td>No</td>\n",
       "    </tr>\n",
       "    <tr>\n",
       "      <th>7041</th>\n",
       "      <td>9993-LHIEB</td>\n",
       "      <td>Male</td>\n",
       "      <td>0</td>\n",
       "      <td>Yes</td>\n",
       "      <td>Yes</td>\n",
       "      <td>67</td>\n",
       "      <td>Yes</td>\n",
       "      <td>No</td>\n",
       "      <td>1</td>\n",
       "      <td>Yes</td>\n",
       "      <td>...</td>\n",
       "      <td>Yes</td>\n",
       "      <td>Yes</td>\n",
       "      <td>No</td>\n",
       "      <td>Yes</td>\n",
       "      <td>3</td>\n",
       "      <td>No</td>\n",
       "      <td>2</td>\n",
       "      <td>67.85</td>\n",
       "      <td>4627.65</td>\n",
       "      <td>No</td>\n",
       "    </tr>\n",
       "    <tr>\n",
       "      <th>7042</th>\n",
       "      <td>9995-HOTOH</td>\n",
       "      <td>Male</td>\n",
       "      <td>0</td>\n",
       "      <td>Yes</td>\n",
       "      <td>Yes</td>\n",
       "      <td>63</td>\n",
       "      <td>No</td>\n",
       "      <td>No phone service</td>\n",
       "      <td>1</td>\n",
       "      <td>Yes</td>\n",
       "      <td>...</td>\n",
       "      <td>Yes</td>\n",
       "      <td>No</td>\n",
       "      <td>Yes</td>\n",
       "      <td>Yes</td>\n",
       "      <td>3</td>\n",
       "      <td>No</td>\n",
       "      <td>1</td>\n",
       "      <td>59.00</td>\n",
       "      <td>3707.6</td>\n",
       "      <td>No</td>\n",
       "    </tr>\n",
       "  </tbody>\n",
       "</table>\n",
       "<p>7043 rows × 21 columns</p>\n",
       "</div>"
      ],
      "text/plain": [
       "     customer_id  gender  senior_citizen partner dependents  tenure  \\\n",
       "0     0002-ORFBO  Female               0     Yes        Yes       9   \n",
       "1     0003-MKNFE    Male               0      No         No       9   \n",
       "2     0004-TLHLJ    Male               0      No         No       4   \n",
       "3     0011-IGKFF    Male               1     Yes         No      13   \n",
       "4     0013-EXCHZ  Female               1     Yes         No       3   \n",
       "...          ...     ...             ...     ...        ...     ...   \n",
       "7038  9987-LUTYD  Female               0      No         No      13   \n",
       "7039  9992-RRAMN    Male               0     Yes         No      22   \n",
       "7040  9992-UJOEL    Male               0      No         No       2   \n",
       "7041  9993-LHIEB    Male               0     Yes        Yes      67   \n",
       "7042  9995-HOTOH    Male               0     Yes        Yes      63   \n",
       "\n",
       "     phone_service    multiple_lines  internet_service_type_id  \\\n",
       "0              Yes                No                         1   \n",
       "1              Yes               Yes                         1   \n",
       "2              Yes                No                         2   \n",
       "3              Yes                No                         2   \n",
       "4              Yes                No                         2   \n",
       "...            ...               ...                       ...   \n",
       "7038           Yes                No                         1   \n",
       "7039           Yes               Yes                         2   \n",
       "7040           Yes                No                         1   \n",
       "7041           Yes                No                         1   \n",
       "7042            No  No phone service                         1   \n",
       "\n",
       "     online_security  ... device_protection tech_support streaming_tv  \\\n",
       "0                 No  ...                No          Yes          Yes   \n",
       "1                 No  ...                No           No           No   \n",
       "2                 No  ...               Yes           No           No   \n",
       "3                 No  ...               Yes           No          Yes   \n",
       "4                 No  ...                No          Yes          Yes   \n",
       "...              ...  ...               ...          ...          ...   \n",
       "7038             Yes  ...                No          Yes           No   \n",
       "7039              No  ...                No           No           No   \n",
       "7040              No  ...                No           No           No   \n",
       "7041             Yes  ...               Yes          Yes           No   \n",
       "7042             Yes  ...               Yes           No          Yes   \n",
       "\n",
       "     streaming_movies contract_type_id  paperless_billing payment_type_id  \\\n",
       "0                  No                2                Yes               2   \n",
       "1                 Yes                1                 No               2   \n",
       "2                  No                1                Yes               1   \n",
       "3                 Yes                1                Yes               1   \n",
       "4                  No                1                Yes               2   \n",
       "...               ...              ...                ...             ...   \n",
       "7038               No                2                 No               2   \n",
       "7039              Yes                1                Yes               1   \n",
       "7040               No                1                Yes               2   \n",
       "7041              Yes                3                 No               2   \n",
       "7042              Yes                3                 No               1   \n",
       "\n",
       "      monthly_charges  total_charges churn  \n",
       "0               65.60          593.3    No  \n",
       "1               59.90          542.4    No  \n",
       "2               73.90         280.85   Yes  \n",
       "3               98.00        1237.85   Yes  \n",
       "4               83.90          267.4   Yes  \n",
       "...               ...            ...   ...  \n",
       "7038            55.15          742.9    No  \n",
       "7039            85.10         1873.7   Yes  \n",
       "7040            50.30          92.75    No  \n",
       "7041            67.85        4627.65    No  \n",
       "7042            59.00         3707.6    No  \n",
       "\n",
       "[7043 rows x 21 columns]"
      ]
     },
     "execution_count": 14,
     "metadata": {},
     "output_type": "execute_result"
    }
   ],
   "source": [
    "df"
   ]
  },
  {
   "cell_type": "code",
   "execution_count": 15,
   "id": "94f1e0f8",
   "metadata": {},
   "outputs": [],
   "source": [
    "churn_sample = df[df.churn == 'Yes'].monthly_charges\n",
    "## filters df to only show rows that have yes for churn, \n",
    "## then the .monthly_charges shows only the monthly_charges column"
   ]
  },
  {
   "cell_type": "code",
   "execution_count": 16,
   "id": "cca1e520",
   "metadata": {},
   "outputs": [],
   "source": [
    "overall_mean = df.monthly_charges.mean()"
   ]
  },
  {
   "cell_type": "code",
   "execution_count": 17,
   "id": "aff3a0c1",
   "metadata": {},
   "outputs": [
    {
     "name": "stdout",
     "output_type": "stream",
     "text": [
      "16.96540308050567 1.8703196496911995e-60 0.05\n"
     ]
    }
   ],
   "source": [
    "t, p = stats.ttest_1samp(churn_sample, overall_mean)\n",
    "alpha = .05\n",
    "print(t, p/2, alpha)"
   ]
  },
  {
   "cell_type": "code",
   "execution_count": 18,
   "id": "2dad2550",
   "metadata": {},
   "outputs": [
    {
     "name": "stdout",
     "output_type": "stream",
     "text": [
      "We reject $H_{0}$\n"
     ]
    }
   ],
   "source": [
    "if p/2 > alpha:\n",
    "    print(\"We fail to reject null hypothesis\")\n",
    "\n",
    "elif t < 0:\n",
    "    print(\"We fail to reject $H_{0}$\")\n",
    "\n",
    "else:\n",
    "    print(\"We reject $H_{0}$\")"
   ]
  },
  {
   "cell_type": "code",
   "execution_count": 19,
   "id": "69033f87",
   "metadata": {},
   "outputs": [
    {
     "data": {
      "text/plain": [
       "setosa        50\n",
       "versicolor    50\n",
       "virginica     50\n",
       "Name: species, dtype: int64"
      ]
     },
     "execution_count": 19,
     "metadata": {},
     "output_type": "execute_result"
    }
   ],
   "source": [
    "dfflowers = sns.load_dataset('iris')\n",
    "dfflowers.species.value_counts()"
   ]
  },
  {
   "cell_type": "code",
   "execution_count": 20,
   "id": "d576fed0",
   "metadata": {},
   "outputs": [
    {
     "data": {
      "text/plain": [
       "count    150.000000\n",
       "mean       5.843333\n",
       "std        0.828066\n",
       "min        4.300000\n",
       "25%        5.100000\n",
       "50%        5.800000\n",
       "75%        6.400000\n",
       "max        7.900000\n",
       "Name: sepal_length, dtype: float64"
      ]
     },
     "execution_count": 20,
     "metadata": {},
     "output_type": "execute_result"
    }
   ],
   "source": [
    "dfflowers.sepal_length.describe()"
   ]
  },
  {
   "cell_type": "code",
   "execution_count": 21,
   "id": "88cade15",
   "metadata": {},
   "outputs": [],
   "source": [
    "versicolor_sepal_length = dfflowers[dfflowers.species == 'versicolor'].sepal_length\n",
    "virginica_sepal_length = dfflowers[dfflowers.species == 'virginica'].sepal_length\n",
    "setosa_sepal_length = dfflowers[dfflowers.species == 'setosa'].sepal_length"
   ]
  },
  {
   "cell_type": "code",
   "execution_count": 22,
   "id": "a1836525",
   "metadata": {},
   "outputs": [
    {
     "data": {
      "text/plain": [
       "<AxesSubplot:>"
      ]
     },
     "execution_count": 22,
     "metadata": {},
     "output_type": "execute_result"
    },
    {
     "data": {
      "image/png": "[encoded data removed]",
      "text/plain": [
       "<Figure size 640x480 with 1 Axes>"
      ]
     },
     "metadata": {},
     "output_type": "display_data"
    }
   ],
   "source": [
    "versicolor_sepal_length.hist()"
   ]
  },
  {
   "cell_type": "code",
   "execution_count": 23,
   "id": "1837871c",
   "metadata": {},
   "outputs": [
    {
     "data": {
      "text/plain": [
       "<AxesSubplot:>"
      ]
     },
     "execution_count": 23,
     "metadata": {},
     "output_type": "execute_result"
    },
    {
     "data": {
      "image/png": "[encoded data removed]",
      "text/plain": [
       "<Figure size 640x480 with 1 Axes>"
      ]
     },
     "metadata": {},
     "output_type": "display_data"
    }
   ],
   "source": [
    "virginica_sepal_length.hist()"
   ]
  },
  {
   "cell_type": "code",
   "execution_count": 24,
   "id": "0c44288c",
   "metadata": {},
   "outputs": [
    {
     "data": {
      "text/plain": [
       "<AxesSubplot:>"
      ]
     },
     "execution_count": 24,
     "metadata": {},
     "output_type": "execute_result"
    },
    {
     "data": {
      "image/png": "[encoded data removed]",
      "text/plain": [
       "<Figure size 640x480 with 1 Axes>"
      ]
     },
     "metadata": {},
     "output_type": "display_data"
    }
   ],
   "source": [
    "setosa_sepal_length.hist()\n",
    "versicolor_sepal_length.hist()\n",
    "virginica_sepal_length.hist()"
   ]
  },
  {
   "cell_type": "code",
   "execution_count": 25,
   "id": "552c99fa",
   "metadata": {},
   "outputs": [
    {
     "data": {
      "text/plain": [
       "LeveneResult(statistic=6.352720020482689, pvalue=0.0022585277836218586)"
      ]
     },
     "execution_count": 25,
     "metadata": {},
     "output_type": "execute_result"
    }
   ],
   "source": [
    "stats.levene(versicolor_sepal_length, virginica_sepal_length,\\\n",
    "            setosa_sepal_length)"
   ]
  },
  {
   "cell_type": "code",
   "execution_count": 26,
   "id": "7442cf3a",
   "metadata": {},
   "outputs": [],
   "source": [
    "import seaborn as sns\n",
    "mpg = sns.load_dataset('mpg')"
   ]
  },
  {
   "cell_type": "code",
   "execution_count": 27,
   "id": "4745ebab",
   "metadata": {},
   "outputs": [
    {
     "data": {
      "text/html": [
       "<div>\n",
       "<style scoped>\n",
       "    .dataframe tbody tr th:only-of-type {\n",
       "        vertical-align: middle;\n",
       "    }\n",
       "\n",
       "    .dataframe tbody tr th {\n",
       "        vertical-align: top;\n",
       "    }\n",
       "\n",
       "    .dataframe thead th {\n",
       "        text-align: right;\n",
       "    }\n",
       "</style>\n",
       "<table border=\"1\" class=\"dataframe\">\n",
       "  <thead>\n",
       "    <tr style=\"text-align: right;\">\n",
       "      <th></th>\n",
       "      <th>mpg</th>\n",
       "      <th>cylinders</th>\n",
       "      <th>displacement</th>\n",
       "      <th>horsepower</th>\n",
       "      <th>weight</th>\n",
       "      <th>acceleration</th>\n",
       "      <th>model_year</th>\n",
       "      <th>origin</th>\n",
       "      <th>name</th>\n",
       "    </tr>\n",
       "  </thead>\n",
       "  <tbody>\n",
       "    <tr>\n",
       "      <th>0</th>\n",
       "      <td>18.0</td>\n",
       "      <td>8</td>\n",
       "      <td>307.0</td>\n",
       "      <td>130.0</td>\n",
       "      <td>3504</td>\n",
       "      <td>12.0</td>\n",
       "      <td>70</td>\n",
       "      <td>usa</td>\n",
       "      <td>chevrolet chevelle malibu</td>\n",
       "    </tr>\n",
       "    <tr>\n",
       "      <th>1</th>\n",
       "      <td>15.0</td>\n",
       "      <td>8</td>\n",
       "      <td>350.0</td>\n",
       "      <td>165.0</td>\n",
       "      <td>3693</td>\n",
       "      <td>11.5</td>\n",
       "      <td>70</td>\n",
       "      <td>usa</td>\n",
       "      <td>buick skylark 320</td>\n",
       "    </tr>\n",
       "    <tr>\n",
       "      <th>2</th>\n",
       "      <td>18.0</td>\n",
       "      <td>8</td>\n",
       "      <td>318.0</td>\n",
       "      <td>150.0</td>\n",
       "      <td>3436</td>\n",
       "      <td>11.0</td>\n",
       "      <td>70</td>\n",
       "      <td>usa</td>\n",
       "      <td>plymouth satellite</td>\n",
       "    </tr>\n",
       "    <tr>\n",
       "      <th>3</th>\n",
       "      <td>16.0</td>\n",
       "      <td>8</td>\n",
       "      <td>304.0</td>\n",
       "      <td>150.0</td>\n",
       "      <td>3433</td>\n",
       "      <td>12.0</td>\n",
       "      <td>70</td>\n",
       "      <td>usa</td>\n",
       "      <td>amc rebel sst</td>\n",
       "    </tr>\n",
       "    <tr>\n",
       "      <th>4</th>\n",
       "      <td>17.0</td>\n",
       "      <td>8</td>\n",
       "      <td>302.0</td>\n",
       "      <td>140.0</td>\n",
       "      <td>3449</td>\n",
       "      <td>10.5</td>\n",
       "      <td>70</td>\n",
       "      <td>usa</td>\n",
       "      <td>ford torino</td>\n",
       "    </tr>\n",
       "  </tbody>\n",
       "</table>\n",
       "</div>"
      ],
      "text/plain": [
       "    mpg  cylinders  displacement  horsepower  weight  acceleration  \\\n",
       "0  18.0          8         307.0       130.0    3504          12.0   \n",
       "1  15.0          8         350.0       165.0    3693          11.5   \n",
       "2  18.0          8         318.0       150.0    3436          11.0   \n",
       "3  16.0          8         304.0       150.0    3433          12.0   \n",
       "4  17.0          8         302.0       140.0    3449          10.5   \n",
       "\n",
       "   model_year origin                       name  \n",
       "0          70    usa  chevrolet chevelle malibu  \n",
       "1          70    usa          buick skylark 320  \n",
       "2          70    usa         plymouth satellite  \n",
       "3          70    usa              amc rebel sst  \n",
       "4          70    usa                ford torino  "
      ]
     },
     "execution_count": 27,
     "metadata": {},
     "output_type": "execute_result"
    }
   ],
   "source": [
    "mpg.head()"
   ]
  },
  {
   "cell_type": "code",
   "execution_count": 28,
   "id": "e5958110",
   "metadata": {},
   "outputs": [],
   "source": [
    "mpg = mpg[~mpg.horsepower.isna()]"
   ]
  },
  {
   "cell_type": "code",
   "execution_count": 29,
   "id": "997eefa1",
   "metadata": {},
   "outputs": [
    {
     "data": {
      "text/plain": [
       "mpg             0\n",
       "cylinders       0\n",
       "displacement    0\n",
       "horsepower      0\n",
       "weight          0\n",
       "acceleration    0\n",
       "model_year      0\n",
       "origin          0\n",
       "name            0\n",
       "dtype: int64"
      ]
     },
     "execution_count": 29,
     "metadata": {},
     "output_type": "execute_result"
    }
   ],
   "source": [
    "mpg.isna().sum()"
   ]
  },
  {
   "cell_type": "code",
   "execution_count": 30,
   "id": "cbcf862e",
   "metadata": {},
   "outputs": [
    {
     "data": {
      "text/plain": [
       "usa       245\n",
       "japan      79\n",
       "europe     68\n",
       "Name: origin, dtype: int64"
      ]
     },
     "execution_count": 30,
     "metadata": {},
     "output_type": "execute_result"
    }
   ],
   "source": [
    "mpg.origin.value_counts()"
   ]
  },
  {
   "cell_type": "code",
   "execution_count": 31,
   "id": "42631c36",
   "metadata": {},
   "outputs": [],
   "source": [
    "USA = mpg[mpg['origin'] == 'usa'].horsepower\n",
    "japan = mpg[mpg['origin'] == 'japan'].horsepower\n",
    "europe = mpg[mpg['origin'] == 'europe'].horsepower"
   ]
  },
  {
   "cell_type": "markdown",
   "id": "e653a541",
   "metadata": {},
   "source": [
    "Is the horsepower of vehicles different across the distint origins of the vehicles?\n",
    "$H_{0}$: mean_horsepower_USA == mean_horsepower_japan == mean_horsepower_europe\n",
    "\n",
    "$H_{a}$: mean horsepowers from at least 2 countries are significantly different\n",
    "\n",
    "Assumptions:\n",
    "1. At least 30 observations: met (see value counts above)\n",
    "\n",
    "2. groups are independent\n",
    "\n",
    "3. equal population variance"
   ]
  },
  {
   "cell_type": "code",
   "execution_count": 32,
   "id": "c60b5c89",
   "metadata": {},
   "outputs": [
    {
     "data": {
      "text/plain": [
       "LeveneResult(statistic=26.526632103545772, pvalue=1.5863075873913356e-11)"
      ]
     },
     "execution_count": 32,
     "metadata": {},
     "output_type": "execute_result"
    }
   ],
   "source": [
    "stats.levene(USA, \\\n",
    "             japan, europe)"
   ]
  },
  {
   "cell_type": "markdown",
   "id": "c44580c9",
   "metadata": {},
   "source": [
    " the low p value means that the variances are signifigantly different\n",
    " from eachother and therefor cannot use ANOVA test\n",
    " \n",
    " use Kruskal-Wallis"
   ]
  },
  {
   "cell_type": "code",
   "execution_count": 118,
   "id": "1ef509f1",
   "metadata": {},
   "outputs": [],
   "source": [
    "t, p = stats.kruskal(USA, japan, europe)"
   ]
  },
  {
   "cell_type": "code",
   "execution_count": 119,
   "id": "f698614c",
   "metadata": {},
   "outputs": [
    {
     "data": {
      "text/plain": [
       "1.1759521262123952e-23"
      ]
     },
     "execution_count": 119,
     "metadata": {},
     "output_type": "execute_result"
    }
   ],
   "source": [
    "p"
   ]
  },
  {
   "cell_type": "markdown",
   "id": "9e6fa109",
   "metadata": {},
   "source": [
    "with a p-value < 0.05, we can say there is a signifigant difference\n",
    "between the horsepower of all the vehicles made in the countries"
   ]
  },
  {
   "cell_type": "code",
   "execution_count": 120,
   "id": "17b56550",
   "metadata": {},
   "outputs": [],
   "source": [
    "t, p = stats.ttest_ind(japan, europe, equal_var = False)"
   ]
  },
  {
   "cell_type": "code",
   "execution_count": 121,
   "id": "0c6620bf",
   "metadata": {},
   "outputs": [
    {
     "data": {
      "text/plain": [
       "0.8193616065509621"
      ]
     },
     "execution_count": 121,
     "metadata": {},
     "output_type": "execute_result"
    }
   ],
   "source": [
    "p"
   ]
  },
  {
   "cell_type": "markdown",
   "id": "8fdc8ace",
   "metadata": {},
   "source": [
    "Exercises"
   ]
  },
  {
   "cell_type": "markdown",
   "id": "8d0b4304",
   "metadata": {},
   "source": [
    "Answer with the type of test you would use (assume normal distribution):\n",
    "\n",
    "\n",
    "## Exercise 1\n",
    "1. Is there a difference in grades of students on the second floor compared to grades of all students?\n",
    "        Ue a One sampe t-test\n",
    "\n",
    "\n",
    "2. Are adults who drink milk taller than adults who dont drink milk?\n",
    "        Independent t-test or 2-sample t-test\n",
    "\n",
    "3. Is the the price of gas higher in texas or in new mexico?\n",
    "        Independent t-test\n",
    "\n",
    "4. Are there differences in stress levels between students who take data science vs students who take web development vs students who take cloud academy?\n",
    "        ANOVA test"
   ]
  },
  {
   "cell_type": "markdown",
   "id": "7ebff40e",
   "metadata": {},
   "source": [
    "Load the mpg dataset and use it to answer the following questions:\n",
    "\n",
    "1. Is there a difference in fuel-efficiency in cars from 2008 vs 1999?\n",
    "\n",
    "\n",
    "2. Are compact cars more fuel-efficient than the average car?\n",
    "\n",
    "\n",
    "3. Do manual cars get better gas mileage than automatic cars?"
   ]
  },
  {
   "cell_type": "code",
   "execution_count": 122,
   "id": "fde8d0c3",
   "metadata": {},
   "outputs": [
    {
     "data": {
      "text/html": [
       "<div>\n",
       "<style scoped>\n",
       "    .dataframe tbody tr th:only-of-type {\n",
       "        vertical-align: middle;\n",
       "    }\n",
       "\n",
       "    .dataframe tbody tr th {\n",
       "        vertical-align: top;\n",
       "    }\n",
       "\n",
       "    .dataframe thead th {\n",
       "        text-align: right;\n",
       "    }\n",
       "</style>\n",
       "<table border=\"1\" class=\"dataframe\">\n",
       "  <thead>\n",
       "    <tr style=\"text-align: right;\">\n",
       "      <th></th>\n",
       "      <th>manufacturer</th>\n",
       "      <th>model</th>\n",
       "      <th>displ</th>\n",
       "      <th>year</th>\n",
       "      <th>cyl</th>\n",
       "      <th>trans</th>\n",
       "      <th>drv</th>\n",
       "      <th>cty</th>\n",
       "      <th>hwy</th>\n",
       "      <th>fl</th>\n",
       "      <th>class</th>\n",
       "      <th>transmission</th>\n",
       "    </tr>\n",
       "  </thead>\n",
       "  <tbody>\n",
       "    <tr>\n",
       "      <th>1</th>\n",
       "      <td>audi</td>\n",
       "      <td>a4</td>\n",
       "      <td>1.8</td>\n",
       "      <td>1999</td>\n",
       "      <td>4</td>\n",
       "      <td>auto(l5)</td>\n",
       "      <td>f</td>\n",
       "      <td>18</td>\n",
       "      <td>29</td>\n",
       "      <td>p</td>\n",
       "      <td>compact</td>\n",
       "      <td>auto</td>\n",
       "    </tr>\n",
       "    <tr>\n",
       "      <th>2</th>\n",
       "      <td>audi</td>\n",
       "      <td>a4</td>\n",
       "      <td>1.8</td>\n",
       "      <td>1999</td>\n",
       "      <td>4</td>\n",
       "      <td>manual(m5)</td>\n",
       "      <td>f</td>\n",
       "      <td>21</td>\n",
       "      <td>29</td>\n",
       "      <td>p</td>\n",
       "      <td>compact</td>\n",
       "      <td>manual</td>\n",
       "    </tr>\n",
       "    <tr>\n",
       "      <th>3</th>\n",
       "      <td>audi</td>\n",
       "      <td>a4</td>\n",
       "      <td>2.0</td>\n",
       "      <td>2008</td>\n",
       "      <td>4</td>\n",
       "      <td>manual(m6)</td>\n",
       "      <td>f</td>\n",
       "      <td>20</td>\n",
       "      <td>31</td>\n",
       "      <td>p</td>\n",
       "      <td>compact</td>\n",
       "      <td>manual</td>\n",
       "    </tr>\n",
       "    <tr>\n",
       "      <th>4</th>\n",
       "      <td>audi</td>\n",
       "      <td>a4</td>\n",
       "      <td>2.0</td>\n",
       "      <td>2008</td>\n",
       "      <td>4</td>\n",
       "      <td>auto(av)</td>\n",
       "      <td>f</td>\n",
       "      <td>21</td>\n",
       "      <td>30</td>\n",
       "      <td>p</td>\n",
       "      <td>compact</td>\n",
       "      <td>auto</td>\n",
       "    </tr>\n",
       "    <tr>\n",
       "      <th>5</th>\n",
       "      <td>audi</td>\n",
       "      <td>a4</td>\n",
       "      <td>2.8</td>\n",
       "      <td>1999</td>\n",
       "      <td>6</td>\n",
       "      <td>auto(l5)</td>\n",
       "      <td>f</td>\n",
       "      <td>16</td>\n",
       "      <td>26</td>\n",
       "      <td>p</td>\n",
       "      <td>compact</td>\n",
       "      <td>auto</td>\n",
       "    </tr>\n",
       "    <tr>\n",
       "      <th>...</th>\n",
       "      <td>...</td>\n",
       "      <td>...</td>\n",
       "      <td>...</td>\n",
       "      <td>...</td>\n",
       "      <td>...</td>\n",
       "      <td>...</td>\n",
       "      <td>...</td>\n",
       "      <td>...</td>\n",
       "      <td>...</td>\n",
       "      <td>...</td>\n",
       "      <td>...</td>\n",
       "      <td>...</td>\n",
       "    </tr>\n",
       "    <tr>\n",
       "      <th>230</th>\n",
       "      <td>volkswagen</td>\n",
       "      <td>passat</td>\n",
       "      <td>2.0</td>\n",
       "      <td>2008</td>\n",
       "      <td>4</td>\n",
       "      <td>auto(s6)</td>\n",
       "      <td>f</td>\n",
       "      <td>19</td>\n",
       "      <td>28</td>\n",
       "      <td>p</td>\n",
       "      <td>midsize</td>\n",
       "      <td>auto</td>\n",
       "    </tr>\n",
       "    <tr>\n",
       "      <th>231</th>\n",
       "      <td>volkswagen</td>\n",
       "      <td>passat</td>\n",
       "      <td>2.0</td>\n",
       "      <td>2008</td>\n",
       "      <td>4</td>\n",
       "      <td>manual(m6)</td>\n",
       "      <td>f</td>\n",
       "      <td>21</td>\n",
       "      <td>29</td>\n",
       "      <td>p</td>\n",
       "      <td>midsize</td>\n",
       "      <td>manual</td>\n",
       "    </tr>\n",
       "    <tr>\n",
       "      <th>232</th>\n",
       "      <td>volkswagen</td>\n",
       "      <td>passat</td>\n",
       "      <td>2.8</td>\n",
       "      <td>1999</td>\n",
       "      <td>6</td>\n",
       "      <td>auto(l5)</td>\n",
       "      <td>f</td>\n",
       "      <td>16</td>\n",
       "      <td>26</td>\n",
       "      <td>p</td>\n",
       "      <td>midsize</td>\n",
       "      <td>auto</td>\n",
       "    </tr>\n",
       "    <tr>\n",
       "      <th>233</th>\n",
       "      <td>volkswagen</td>\n",
       "      <td>passat</td>\n",
       "      <td>2.8</td>\n",
       "      <td>1999</td>\n",
       "      <td>6</td>\n",
       "      <td>manual(m5)</td>\n",
       "      <td>f</td>\n",
       "      <td>18</td>\n",
       "      <td>26</td>\n",
       "      <td>p</td>\n",
       "      <td>midsize</td>\n",
       "      <td>manual</td>\n",
       "    </tr>\n",
       "    <tr>\n",
       "      <th>234</th>\n",
       "      <td>volkswagen</td>\n",
       "      <td>passat</td>\n",
       "      <td>3.6</td>\n",
       "      <td>2008</td>\n",
       "      <td>6</td>\n",
       "      <td>auto(s6)</td>\n",
       "      <td>f</td>\n",
       "      <td>17</td>\n",
       "      <td>26</td>\n",
       "      <td>p</td>\n",
       "      <td>midsize</td>\n",
       "      <td>auto</td>\n",
       "    </tr>\n",
       "  </tbody>\n",
       "</table>\n",
       "<p>234 rows × 12 columns</p>\n",
       "</div>"
      ],
      "text/plain": [
       "    manufacturer   model  displ  year  cyl       trans drv  cty  hwy fl  \\\n",
       "1           audi      a4    1.8  1999    4    auto(l5)   f   18   29  p   \n",
       "2           audi      a4    1.8  1999    4  manual(m5)   f   21   29  p   \n",
       "3           audi      a4    2.0  2008    4  manual(m6)   f   20   31  p   \n",
       "4           audi      a4    2.0  2008    4    auto(av)   f   21   30  p   \n",
       "5           audi      a4    2.8  1999    6    auto(l5)   f   16   26  p   \n",
       "..           ...     ...    ...   ...  ...         ...  ..  ...  ... ..   \n",
       "230   volkswagen  passat    2.0  2008    4    auto(s6)   f   19   28  p   \n",
       "231   volkswagen  passat    2.0  2008    4  manual(m6)   f   21   29  p   \n",
       "232   volkswagen  passat    2.8  1999    6    auto(l5)   f   16   26  p   \n",
       "233   volkswagen  passat    2.8  1999    6  manual(m5)   f   18   26  p   \n",
       "234   volkswagen  passat    3.6  2008    6    auto(s6)   f   17   26  p   \n",
       "\n",
       "       class transmission  \n",
       "1    compact         auto  \n",
       "2    compact       manual  \n",
       "3    compact       manual  \n",
       "4    compact         auto  \n",
       "5    compact         auto  \n",
       "..       ...          ...  \n",
       "230  midsize         auto  \n",
       "231  midsize       manual  \n",
       "232  midsize         auto  \n",
       "233  midsize       manual  \n",
       "234  midsize         auto  \n",
       "\n",
       "[234 rows x 12 columns]"
      ]
     },
     "execution_count": 122,
     "metadata": {},
     "output_type": "execute_result"
    }
   ],
   "source": [
    "mpg"
   ]
  },
  {
   "cell_type": "code",
   "execution_count": 123,
   "id": "855ac60f",
   "metadata": {},
   "outputs": [],
   "source": [
    "mpg = sns.load_dataset('mpg')"
   ]
  },
  {
   "cell_type": "code",
   "execution_count": 124,
   "id": "04095576",
   "metadata": {},
   "outputs": [],
   "source": [
    "from pydataset import data"
   ]
  },
  {
   "cell_type": "code",
   "execution_count": 125,
   "id": "1317f1e4",
   "metadata": {},
   "outputs": [],
   "source": [
    "mpg = data('mpg')"
   ]
  },
  {
   "cell_type": "code",
   "execution_count": 126,
   "id": "16ef43d5",
   "metadata": {},
   "outputs": [
    {
     "name": "stdout",
     "output_type": "stream",
     "text": [
      "mpg\n",
      "\n",
      "PyDataset Documentation (adopted from R Documentation. The displayed examples are in R)\n",
      "\n",
      "## Fuel economy data from 1999 and 2008 for 38 popular models of car\n",
      "\n",
      "### Description\n",
      "\n",
      "This dataset contains a subset of the fuel economy data that the EPA makes\n",
      "available on http://fueleconomy.gov. It contains only models which had a new\n",
      "release every year between 1999 and 2008 - this was used as a proxy for the\n",
      "popularity of the car.\n",
      "\n",
      "### Usage\n",
      "\n",
      "    data(mpg)\n",
      "\n",
      "### Format\n",
      "\n",
      "A data frame with 234 rows and 11 variables\n",
      "\n",
      "### Details\n",
      "\n",
      "  * manufacturer. \n",
      "\n",
      "  * model. \n",
      "\n",
      "  * displ. engine displacement, in litres \n",
      "\n",
      "  * year. \n",
      "\n",
      "  * cyl. number of cylinders \n",
      "\n",
      "  * trans. type of transmission \n",
      "\n",
      "  * drv. f = front-wheel drive, r = rear wheel drive, 4 = 4wd \n",
      "\n",
      "  * cty. city miles per gallon \n",
      "\n",
      "  * hwy. highway miles per gallon \n",
      "\n",
      "  * fl. \n",
      "\n",
      "  * class. \n",
      "\n",
      "\n"
     ]
    }
   ],
   "source": [
    "data('mpg', show_doc = True)"
   ]
  },
  {
   "cell_type": "code",
   "execution_count": 127,
   "id": "38dbe377",
   "metadata": {},
   "outputs": [],
   "source": [
    "mpg['avg_fuel_eff'] = (mpg.cty + mpg.hwy) / 2"
   ]
  },
  {
   "cell_type": "code",
   "execution_count": 128,
   "id": "edf9074f",
   "metadata": {},
   "outputs": [
    {
     "data": {
      "text/html": [
       "<div>\n",
       "<style scoped>\n",
       "    .dataframe tbody tr th:only-of-type {\n",
       "        vertical-align: middle;\n",
       "    }\n",
       "\n",
       "    .dataframe tbody tr th {\n",
       "        vertical-align: top;\n",
       "    }\n",
       "\n",
       "    .dataframe thead th {\n",
       "        text-align: right;\n",
       "    }\n",
       "</style>\n",
       "<table border=\"1\" class=\"dataframe\">\n",
       "  <thead>\n",
       "    <tr style=\"text-align: right;\">\n",
       "      <th></th>\n",
       "      <th>manufacturer</th>\n",
       "      <th>model</th>\n",
       "      <th>displ</th>\n",
       "      <th>year</th>\n",
       "      <th>cyl</th>\n",
       "      <th>trans</th>\n",
       "      <th>drv</th>\n",
       "      <th>cty</th>\n",
       "      <th>hwy</th>\n",
       "      <th>fl</th>\n",
       "      <th>class</th>\n",
       "      <th>avg_fuel_eff</th>\n",
       "    </tr>\n",
       "  </thead>\n",
       "  <tbody>\n",
       "    <tr>\n",
       "      <th>1</th>\n",
       "      <td>audi</td>\n",
       "      <td>a4</td>\n",
       "      <td>1.8</td>\n",
       "      <td>1999</td>\n",
       "      <td>4</td>\n",
       "      <td>auto(l5)</td>\n",
       "      <td>f</td>\n",
       "      <td>18</td>\n",
       "      <td>29</td>\n",
       "      <td>p</td>\n",
       "      <td>compact</td>\n",
       "      <td>23.5</td>\n",
       "    </tr>\n",
       "    <tr>\n",
       "      <th>2</th>\n",
       "      <td>audi</td>\n",
       "      <td>a4</td>\n",
       "      <td>1.8</td>\n",
       "      <td>1999</td>\n",
       "      <td>4</td>\n",
       "      <td>manual(m5)</td>\n",
       "      <td>f</td>\n",
       "      <td>21</td>\n",
       "      <td>29</td>\n",
       "      <td>p</td>\n",
       "      <td>compact</td>\n",
       "      <td>25.0</td>\n",
       "    </tr>\n",
       "    <tr>\n",
       "      <th>3</th>\n",
       "      <td>audi</td>\n",
       "      <td>a4</td>\n",
       "      <td>2.0</td>\n",
       "      <td>2008</td>\n",
       "      <td>4</td>\n",
       "      <td>manual(m6)</td>\n",
       "      <td>f</td>\n",
       "      <td>20</td>\n",
       "      <td>31</td>\n",
       "      <td>p</td>\n",
       "      <td>compact</td>\n",
       "      <td>25.5</td>\n",
       "    </tr>\n",
       "    <tr>\n",
       "      <th>4</th>\n",
       "      <td>audi</td>\n",
       "      <td>a4</td>\n",
       "      <td>2.0</td>\n",
       "      <td>2008</td>\n",
       "      <td>4</td>\n",
       "      <td>auto(av)</td>\n",
       "      <td>f</td>\n",
       "      <td>21</td>\n",
       "      <td>30</td>\n",
       "      <td>p</td>\n",
       "      <td>compact</td>\n",
       "      <td>25.5</td>\n",
       "    </tr>\n",
       "    <tr>\n",
       "      <th>5</th>\n",
       "      <td>audi</td>\n",
       "      <td>a4</td>\n",
       "      <td>2.8</td>\n",
       "      <td>1999</td>\n",
       "      <td>6</td>\n",
       "      <td>auto(l5)</td>\n",
       "      <td>f</td>\n",
       "      <td>16</td>\n",
       "      <td>26</td>\n",
       "      <td>p</td>\n",
       "      <td>compact</td>\n",
       "      <td>21.0</td>\n",
       "    </tr>\n",
       "    <tr>\n",
       "      <th>...</th>\n",
       "      <td>...</td>\n",
       "      <td>...</td>\n",
       "      <td>...</td>\n",
       "      <td>...</td>\n",
       "      <td>...</td>\n",
       "      <td>...</td>\n",
       "      <td>...</td>\n",
       "      <td>...</td>\n",
       "      <td>...</td>\n",
       "      <td>...</td>\n",
       "      <td>...</td>\n",
       "      <td>...</td>\n",
       "    </tr>\n",
       "    <tr>\n",
       "      <th>230</th>\n",
       "      <td>volkswagen</td>\n",
       "      <td>passat</td>\n",
       "      <td>2.0</td>\n",
       "      <td>2008</td>\n",
       "      <td>4</td>\n",
       "      <td>auto(s6)</td>\n",
       "      <td>f</td>\n",
       "      <td>19</td>\n",
       "      <td>28</td>\n",
       "      <td>p</td>\n",
       "      <td>midsize</td>\n",
       "      <td>23.5</td>\n",
       "    </tr>\n",
       "    <tr>\n",
       "      <th>231</th>\n",
       "      <td>volkswagen</td>\n",
       "      <td>passat</td>\n",
       "      <td>2.0</td>\n",
       "      <td>2008</td>\n",
       "      <td>4</td>\n",
       "      <td>manual(m6)</td>\n",
       "      <td>f</td>\n",
       "      <td>21</td>\n",
       "      <td>29</td>\n",
       "      <td>p</td>\n",
       "      <td>midsize</td>\n",
       "      <td>25.0</td>\n",
       "    </tr>\n",
       "    <tr>\n",
       "      <th>232</th>\n",
       "      <td>volkswagen</td>\n",
       "      <td>passat</td>\n",
       "      <td>2.8</td>\n",
       "      <td>1999</td>\n",
       "      <td>6</td>\n",
       "      <td>auto(l5)</td>\n",
       "      <td>f</td>\n",
       "      <td>16</td>\n",
       "      <td>26</td>\n",
       "      <td>p</td>\n",
       "      <td>midsize</td>\n",
       "      <td>21.0</td>\n",
       "    </tr>\n",
       "    <tr>\n",
       "      <th>233</th>\n",
       "      <td>volkswagen</td>\n",
       "      <td>passat</td>\n",
       "      <td>2.8</td>\n",
       "      <td>1999</td>\n",
       "      <td>6</td>\n",
       "      <td>manual(m5)</td>\n",
       "      <td>f</td>\n",
       "      <td>18</td>\n",
       "      <td>26</td>\n",
       "      <td>p</td>\n",
       "      <td>midsize</td>\n",
       "      <td>22.0</td>\n",
       "    </tr>\n",
       "    <tr>\n",
       "      <th>234</th>\n",
       "      <td>volkswagen</td>\n",
       "      <td>passat</td>\n",
       "      <td>3.6</td>\n",
       "      <td>2008</td>\n",
       "      <td>6</td>\n",
       "      <td>auto(s6)</td>\n",
       "      <td>f</td>\n",
       "      <td>17</td>\n",
       "      <td>26</td>\n",
       "      <td>p</td>\n",
       "      <td>midsize</td>\n",
       "      <td>21.5</td>\n",
       "    </tr>\n",
       "  </tbody>\n",
       "</table>\n",
       "<p>234 rows × 12 columns</p>\n",
       "</div>"
      ],
      "text/plain": [
       "    manufacturer   model  displ  year  cyl       trans drv  cty  hwy fl  \\\n",
       "1           audi      a4    1.8  1999    4    auto(l5)   f   18   29  p   \n",
       "2           audi      a4    1.8  1999    4  manual(m5)   f   21   29  p   \n",
       "3           audi      a4    2.0  2008    4  manual(m6)   f   20   31  p   \n",
       "4           audi      a4    2.0  2008    4    auto(av)   f   21   30  p   \n",
       "5           audi      a4    2.8  1999    6    auto(l5)   f   16   26  p   \n",
       "..           ...     ...    ...   ...  ...         ...  ..  ...  ... ..   \n",
       "230   volkswagen  passat    2.0  2008    4    auto(s6)   f   19   28  p   \n",
       "231   volkswagen  passat    2.0  2008    4  manual(m6)   f   21   29  p   \n",
       "232   volkswagen  passat    2.8  1999    6    auto(l5)   f   16   26  p   \n",
       "233   volkswagen  passat    2.8  1999    6  manual(m5)   f   18   26  p   \n",
       "234   volkswagen  passat    3.6  2008    6    auto(s6)   f   17   26  p   \n",
       "\n",
       "       class  avg_fuel_eff  \n",
       "1    compact          23.5  \n",
       "2    compact          25.0  \n",
       "3    compact          25.5  \n",
       "4    compact          25.5  \n",
       "5    compact          21.0  \n",
       "..       ...           ...  \n",
       "230  midsize          23.5  \n",
       "231  midsize          25.0  \n",
       "232  midsize          21.0  \n",
       "233  midsize          22.0  \n",
       "234  midsize          21.5  \n",
       "\n",
       "[234 rows x 12 columns]"
      ]
     },
     "execution_count": 128,
     "metadata": {},
     "output_type": "execute_result"
    }
   ],
   "source": [
    "mpg"
   ]
  },
  {
   "cell_type": "code",
   "execution_count": 129,
   "id": "6256fd9f",
   "metadata": {},
   "outputs": [],
   "source": [
    "y2008 = mpg[mpg['year'] == 2008].avg_fuel_eff\n",
    "y1999 = mpg[mpg['year'] == 1999].avg_fuel_eff"
   ]
  },
  {
   "cell_type": "code",
   "execution_count": 130,
   "id": "4856b222",
   "metadata": {},
   "outputs": [
    {
     "data": {
      "text/plain": [
       "<AxesSubplot:>"
      ]
     },
     "execution_count": 130,
     "metadata": {},
     "output_type": "execute_result"
    },
    {
     "data": {
      "image/png": "[encoded data removed]",
      "text/plain": [
       "<Figure size 640x480 with 1 Axes>"
      ]
     },
     "metadata": {},
     "output_type": "display_data"
    }
   ],
   "source": [
    "y1999.hist()"
   ]
  },
  {
   "cell_type": "code",
   "execution_count": 131,
   "id": "bb078d79",
   "metadata": {},
   "outputs": [],
   "source": [
    "t, p = stats.wilcoxon(y1999, y2008)"
   ]
  },
  {
   "cell_type": "code",
   "execution_count": 132,
   "id": "f31b70b1",
   "metadata": {},
   "outputs": [
    {
     "data": {
      "text/plain": [
       "0.9096958349129208"
      ]
     },
     "execution_count": 132,
     "metadata": {},
     "output_type": "execute_result"
    }
   ],
   "source": [
    "p"
   ]
  },
  {
   "cell_type": "code",
   "execution_count": 133,
   "id": "0cb6e64f",
   "metadata": {},
   "outputs": [
    {
     "name": "stdout",
     "output_type": "stream",
     "text": [
      "Fail to reject null\n"
     ]
    }
   ],
   "source": [
    "alpha = 0.05\n",
    "\n",
    "if p <= alpha:\n",
    "    print('Reject null')\n",
    "else:\n",
    "    print('Fail to reject null')"
   ]
  },
  {
   "cell_type": "markdown",
   "id": "8dca19c0",
   "metadata": {},
   "source": [
    "## Question 1 between 1999 and 2008\n",
    "\n",
    "no, there is no difference between fuel efficeinty of cars\n",
    "vs 1999 and 2008"
   ]
  },
  {
   "cell_type": "code",
   "execution_count": 134,
   "id": "44b1de92",
   "metadata": {},
   "outputs": [],
   "source": [
    "compact = mpg[mpg['class'] == 'compact'].avg_fuel_eff\n",
    "overall_mean = mpg.avg_fuel_eff.mean()"
   ]
  },
  {
   "cell_type": "code",
   "execution_count": 135,
   "id": "0ac3d93c",
   "metadata": {},
   "outputs": [],
   "source": [
    "t, p = stats.ttest_1samp(compact, overall_mean)"
   ]
  },
  {
   "cell_type": "code",
   "execution_count": 136,
   "id": "95641e44",
   "metadata": {},
   "outputs": [
    {
     "name": "stdout",
     "output_type": "stream",
     "text": [
      "Reject null\n"
     ]
    }
   ],
   "source": [
    "alpha = 0.05\n",
    "\n",
    "if p and t > 0 <= alpha:\n",
    "    print('Reject null')\n",
    "else:\n",
    "    print('Fail to reject null')"
   ]
  },
  {
   "cell_type": "markdown",
   "id": "cbab6adb",
   "metadata": {},
   "source": [
    "# question 2  about compact cars\n",
    "\n",
    "yes, there is a signifigant difference between compact car and overall mean"
   ]
  },
  {
   "cell_type": "code",
   "execution_count": 137,
   "id": "05ef7c79",
   "metadata": {},
   "outputs": [],
   "source": [
    "manual = mpg[mpg['trans'].str.startswith('m')].avg_fuel_eff\n",
    "auto = mpg[mpg['trans'].str.startswith('a')].avg_fuel_eff"
   ]
  },
  {
   "cell_type": "code",
   "execution_count": 138,
   "id": "0b53ee3a",
   "metadata": {},
   "outputs": [],
   "source": [
    "t, p = stats.ttest_ind(manual, auto, equal_var = False)"
   ]
  },
  {
   "cell_type": "code",
   "execution_count": 139,
   "id": "6175654e",
   "metadata": {},
   "outputs": [
    {
     "name": "stdout",
     "output_type": "stream",
     "text": [
      "Reject null\n"
     ]
    }
   ],
   "source": [
    "alpha = 0.05\n",
    "\n",
    "if t > 0 and p <= alpha:\n",
    "    print('Reject null')\n",
    "else:\n",
    "    print('Fail to reject null')"
   ]
  },
  {
   "cell_type": "markdown",
   "id": "71ee6df2",
   "metadata": {},
   "source": [
    "# Question 3 answer about transmission\n",
    "\n",
    "yes, there is a signifigant difference between manual and automatic \n",
    " transmission cars\n"
   ]
  },
  {
   "cell_type": "markdown",
   "id": "c5c1f92d",
   "metadata": {},
   "source": [
    "# question 2\n",
    "\n",
    "Ace Realty wants to determine whether the average time it takes to sell homes is different for its two offices. A sample of 40 sales from office #1 revealed a mean of 90 days and a standard deviation of 15 days. A sample of 50 sales from office #2 revealed a mean of 100 days and a standard deviation of 20 days. Use a .05 level of significance.\n",
    "\n"
   ]
  },
  {
   "cell_type": "code",
   "execution_count": 140,
   "id": "96198f13",
   "metadata": {},
   "outputs": [],
   "source": [
    "np.random.seed(42)\n",
    "office1 = np.random.normal(90, 15, size = 40)\n",
    "office2 = np.random.normal(100, 20, size = 50)"
   ]
  },
  {
   "cell_type": "code",
   "execution_count": 141,
   "id": "94b97f60",
   "metadata": {},
   "outputs": [],
   "source": [
    "t, p = stats.ttest_ind(office2, office1)"
   ]
  },
  {
   "cell_type": "code",
   "execution_count": 142,
   "id": "8be9b5a6",
   "metadata": {},
   "outputs": [
    {
     "data": {
      "text/plain": [
       "3.734403689163024"
      ]
     },
     "execution_count": 142,
     "metadata": {},
     "output_type": "execute_result"
    }
   ],
   "source": [
    "t"
   ]
  },
  {
   "cell_type": "code",
   "execution_count": 143,
   "id": "25976240",
   "metadata": {},
   "outputs": [
    {
     "data": {
      "text/plain": [
       "0.0003334050750996025"
      ]
     },
     "execution_count": 143,
     "metadata": {},
     "output_type": "execute_result"
    }
   ],
   "source": [
    "p"
   ]
  },
  {
   "cell_type": "markdown",
   "id": "b060dfd5",
   "metadata": {},
   "source": [
    "yes, the means are different"
   ]
  },
  {
   "cell_type": "code",
   "execution_count": 144,
   "id": "267efe6b",
   "metadata": {},
   "outputs": [
    {
     "name": "stdout",
     "output_type": "stream",
     "text": [
      "Reject null\n"
     ]
    }
   ],
   "source": [
    "alpha = 0.05\n",
    "\n",
    "if p <= alpha:\n",
    "    print('Reject null')\n",
    "else:\n",
    "    print('Fail to reject null')"
   ]
  },
  {
   "cell_type": "markdown",
   "id": "787c9e63",
   "metadata": {},
   "source": [
    "# Correlation Exercises"
   ]
  },
  {
   "cell_type": "markdown",
   "id": "a31a9966",
   "metadata": {},
   "source": [
    "Answer with the type of stats test you would use (assume normal distribution):\n",
    "\n",
    "Is there a relationship between the length of your arm and the length of your foot?\n",
    "    \n",
    "    pearson's r test\n",
    "\n",
    "Do guys and gals quit their jobs at the same rate?\n",
    "    \n",
    "    independent t test\n",
    "\n",
    "Does the length of time of the lecture correlate with a students grade?\n",
    "    \n",
    "    pearson's r test"
   ]
  },
  {
   "cell_type": "code",
   "execution_count": 145,
   "id": "7245773f",
   "metadata": {},
   "outputs": [],
   "source": [
    "import env\n",
    "def get_db_url(username, password, host, db):\n",
    "    return f'mysql+pymysql://{username}:{password}@{host}/{db}'\n",
    "\n",
    "    \n",
    "    \n",
    "    "
   ]
  },
  {
   "cell_type": "code",
   "execution_count": 146,
   "id": "7a1fc2bb",
   "metadata": {},
   "outputs": [],
   "source": [
    "url = get_db_url(env.username, env.password, env.host, db='telco_churn')\n",
    "query = 'select * from customers'\n",
    "\n",
    "\n"
   ]
  },
  {
   "cell_type": "code",
   "execution_count": 147,
   "id": "e949c6de",
   "metadata": {},
   "outputs": [],
   "source": [
    "df = pd.read_sql(query, url)\n",
    "\n",
    "\n"
   ]
  },
  {
   "cell_type": "markdown",
   "id": "75c90f92",
   "metadata": {},
   "source": [
    "# Does tenure correlate with monthly charges?"
   ]
  },
  {
   "cell_type": "markdown",
   "id": "be2c1100",
   "metadata": {},
   "source": [
    "Does tenure correlate with monthly charges?\n",
    "\n",
    "state our hypothesis, set our alpha value.\n",
    "\n",
    "select the data\n",
    "\n",
    "plot the data\n",
    "\n",
    "test for assumptions (normal distribution for correlation)\n",
    "\n",
    "run test\n",
    "\n",
    "draw conclusions\n",
    "\n",
    "Hypothesis:\n",
    "\n",
    "H_0: there is no linear correlation between tenure and monthly charges. \n",
    "\n",
    "H_a: there is a linear correlation between tenure and monthly charges."
   ]
  },
  {
   "cell_type": "code",
   "execution_count": 148,
   "id": "1f243e0b",
   "metadata": {},
   "outputs": [
    {
     "data": {
      "text/plain": [
       "<AxesSubplot:xlabel='tenure', ylabel='monthly_charges'>"
      ]
     },
     "execution_count": 148,
     "metadata": {},
     "output_type": "execute_result"
    },
    {
     "data": {
      "image/png": "[encoded data removed]",
      "text/plain": [
       "<Figure size 640x480 with 1 Axes>"
      ]
     },
     "metadata": {},
     "output_type": "display_data"
    }
   ],
   "source": [
    "charges_df = df[['monthly_charges','tenure']]\n",
    "\n",
    "sns.regplot(x='tenure', y='monthly_charges', \n",
    "            data=charges_df, marker='.', \n",
    "            line_kws={'color': 'rebeccapurple'})"
   ]
  },
  {
   "cell_type": "code",
   "execution_count": 149,
   "id": "253e0856",
   "metadata": {},
   "outputs": [
    {
     "data": {
      "text/plain": [
       "<AxesSubplot:>"
      ]
     },
     "execution_count": 149,
     "metadata": {},
     "output_type": "execute_result"
    },
    {
     "data": {
      "image/png": "[encoded data removed]",
      "text/plain": [
       "<Figure size 640x480 with 1 Axes>"
      ]
     },
     "metadata": {},
     "output_type": "display_data"
    }
   ],
   "source": [
    "charges_df.monthly_charges.hist()\n",
    "charges_df.tenure.hist()"
   ]
  },
  {
   "cell_type": "markdown",
   "id": "41e8c44f",
   "metadata": {},
   "source": [
    "#### These distributions are not normal"
   ]
  },
  {
   "cell_type": "code",
   "execution_count": 150,
   "id": "b10cc07c",
   "metadata": {},
   "outputs": [],
   "source": [
    "alpha = 0.05\n",
    "r, p = stats.spearmanr(charges_df.tenure, charges_df.monthly_charges)\n",
    "\n",
    "def eval_result(alpha, p):\n",
    "    if p < alpha:\n",
    "        return print(f'Reject the null hypothesis. There is a linear correlation (p-value: {p})')\n",
    "    else:\n",
    "        return print(f'We fail to reject the null hypothesis that there is a linear correlation (p-value: {p})')\n"
   ]
  },
  {
   "cell_type": "code",
   "execution_count": 151,
   "id": "28b2043f",
   "metadata": {},
   "outputs": [
    {
     "name": "stdout",
     "output_type": "stream",
     "text": [
      "Reject the null hypothesis. There is a linear correlation (p-value: 1.0271266876409408e-123)\n"
     ]
    },
    {
     "data": {
      "text/plain": [
       "0.27641678933130215"
      ]
     },
     "execution_count": 151,
     "metadata": {},
     "output_type": "execute_result"
    }
   ],
   "source": [
    "eval_result(alpha, p)\n",
    "r"
   ]
  },
  {
   "cell_type": "markdown",
   "id": "1e616764",
   "metadata": {},
   "source": [
    "### There is a correlation between monthly charges and tenure. With an r of .28, we can say the correlation is \"weak-moderate\""
   ]
  },
  {
   "cell_type": "markdown",
   "id": "7a545376",
   "metadata": {},
   "source": [
    "## 2b Total charges?"
   ]
  },
  {
   "cell_type": "markdown",
   "id": "7d0b2da0",
   "metadata": {},
   "source": [
    "Hypothesis:\n",
    "\n",
    "H_0: There is no linear correlation between tenure and total charges.\n",
    "\n",
    "H_a: There is a linear correlation between tenure and total charges."
   ]
  },
  {
   "cell_type": "code",
   "execution_count": 152,
   "id": "f5f8beee",
   "metadata": {},
   "outputs": [],
   "source": [
    "alpha = 0.05\n",
    "ttotal_charges_df = df[['tenure','total_charges']]"
   ]
  },
  {
   "cell_type": "code",
   "execution_count": 153,
   "id": "558769af",
   "metadata": {},
   "outputs": [
    {
     "name": "stdout",
     "output_type": "stream",
     "text": [
      "<class 'pandas.core.frame.DataFrame'>\n",
      "RangeIndex: 7043 entries, 0 to 7042\n",
      "Data columns (total 2 columns):\n",
      " #   Column         Non-Null Count  Dtype \n",
      "---  ------         --------------  ----- \n",
      " 0   tenure         7043 non-null   int64 \n",
      " 1   total_charges  7043 non-null   object\n",
      "dtypes: int64(1), object(1)\n",
      "memory usage: 110.2+ KB\n"
     ]
    }
   ],
   "source": [
    "ttotal_charges_df.info()"
   ]
  },
  {
   "cell_type": "code",
   "execution_count": 154,
   "id": "9a313fd7",
   "metadata": {},
   "outputs": [
    {
     "data": {
      "text/plain": [
       "0        593.30\n",
       "1        542.40\n",
       "2        280.85\n",
       "3       1237.85\n",
       "4        267.40\n",
       "         ...   \n",
       "7038     742.90\n",
       "7039    1873.70\n",
       "7040      92.75\n",
       "7041    4627.65\n",
       "7042    3707.60\n",
       "Name: total_charges, Length: 7043, dtype: float64"
      ]
     },
     "execution_count": 154,
     "metadata": {},
     "output_type": "execute_result"
    }
   ],
   "source": [
    "ttotal_charges_df['total_charges'].str.replace(' ', '0').astype('float')"
   ]
  },
  {
   "cell_type": "code",
   "execution_count": 155,
   "id": "b59314eb",
   "metadata": {},
   "outputs": [
    {
     "name": "stderr",
     "output_type": "stream",
     "text": [
      "/var/folders/9m/3m9g9yzs77j2m_79z47fjdr00000gq/T/ipykernel_2766/4145349588.py:1: SettingWithCopyWarning: \n",
      "A value is trying to be set on a copy of a slice from a DataFrame.\n",
      "Try using .loc[row_indexer,col_indexer] = value instead\n",
      "\n",
      "See the caveats in the documentation: https://pandas.pydata.org/pandas-docs/stable/user_guide/indexing.html#returning-a-view-versus-a-copy\n",
      "  ttotal_charges_df['total_charges'] = \\\n"
     ]
    }
   ],
   "source": [
    "ttotal_charges_df['total_charges'] = \\\n",
    "ttotal_charges_df.total_charges.str.replace(' ', '0').astype('float')"
   ]
  },
  {
   "cell_type": "code",
   "execution_count": 156,
   "id": "6e4e5d2d",
   "metadata": {},
   "outputs": [
    {
     "data": {
      "text/plain": [
       "<AxesSubplot:>"
      ]
     },
     "execution_count": 156,
     "metadata": {},
     "output_type": "execute_result"
    },
    {
     "data": {
      "image/png": "[encoded data removed]",
      "text/plain": [
       "<Figure size 640x480 with 1 Axes>"
      ]
     },
     "metadata": {},
     "output_type": "display_data"
    }
   ],
   "source": [
    "ttotal_charges_df.total_charges.hist()"
   ]
  },
  {
   "cell_type": "code",
   "execution_count": 157,
   "id": "0b84794f",
   "metadata": {},
   "outputs": [
    {
     "data": {
      "text/plain": [
       "<AxesSubplot:>"
      ]
     },
     "execution_count": 157,
     "metadata": {},
     "output_type": "execute_result"
    },
    {
     "data": {
      "image/png": "[encoded data removed]",
      "text/plain": [
       "<Figure size 640x480 with 1 Axes>"
      ]
     },
     "metadata": {},
     "output_type": "display_data"
    }
   ],
   "source": [
    "ttotal_charges_df.tenure.hist()"
   ]
  },
  {
   "cell_type": "markdown",
   "id": "8af53878",
   "metadata": {},
   "source": [
    "#### distributions are not normal, there for we will use spearman r test"
   ]
  },
  {
   "cell_type": "code",
   "execution_count": 158,
   "id": "3da0479f",
   "metadata": {},
   "outputs": [
    {
     "data": {
      "image/png": "[encoded data removed]",
      "text/plain": [
       "<Figure size 640x480 with 1 Axes>"
      ]
     },
     "metadata": {},
     "output_type": "display_data"
    }
   ],
   "source": [
    "sns.regplot(x = 'tenure', y='total_charges', \n",
    "            data = ttotal_charges_df, \n",
    "            marker='.', line_kws={'color': 'rebeccapurple'})\n",
    "plt.show()"
   ]
  },
  {
   "cell_type": "code",
   "execution_count": 159,
   "id": "e73a3d94",
   "metadata": {},
   "outputs": [
    {
     "name": "stdout",
     "output_type": "stream",
     "text": [
      "Reject the null hypothesis. There is a linear correlation (p-value: 0.0)\n"
     ]
    },
    {
     "data": {
      "text/plain": [
       "0.8896957900597577"
      ]
     },
     "execution_count": 159,
     "metadata": {},
     "output_type": "execute_result"
    }
   ],
   "source": [
    "r, p = stats.spearmanr(ttotal_charges_df.tenure, ttotal_charges_df.total_charges)\n",
    "\n",
    "eval_result(alpha, p)\n",
    "\n",
    "r\n"
   ]
  },
  {
   "cell_type": "markdown",
   "id": "6b16d8c6",
   "metadata": {},
   "source": [
    "#### there is a strong positive linear correlation due to r value being\n",
    "#### close to one and p value near 0."
   ]
  },
  {
   "cell_type": "markdown",
   "id": "ec7b6172",
   "metadata": {},
   "source": [
    "### Controlling for phone and internet service\n",
    "\n",
    "$H_0$ : there is no linear correlation between tenure and monthly charges\n",
    "\n",
    "$H_a$: there is a linear correlation"
   ]
  },
  {
   "cell_type": "code",
   "execution_count": 162,
   "id": "79bb747c",
   "metadata": {},
   "outputs": [
    {
     "name": "stdout",
     "output_type": "stream",
     "text": [
      "<class 'pandas.core.frame.DataFrame'>\n",
      "Int64Index: 1739 entries, 0 to 7041\n",
      "Data columns (total 2 columns):\n",
      " #   Column           Non-Null Count  Dtype  \n",
      "---  ------           --------------  -----  \n",
      " 0   tenure           1739 non-null   int64  \n",
      " 1   monthly_charges  1739 non-null   float64\n",
      "dtypes: float64(1), int64(1)\n",
      "memory usage: 40.8 KB\n"
     ]
    },
    {
     "data": {
      "text/plain": [
       "<AxesSubplot:xlabel='tenure', ylabel='monthly_charges'>"
      ]
     },
     "execution_count": 162,
     "metadata": {},
     "output_type": "execute_result"
    },
    {
     "data": {
      "image/png": "[encoded data removed]",
      "text/plain": [
       "<Figure size 640x480 with 1 Axes>"
      ]
     },
     "metadata": {},
     "output_type": "display_data"
    }
   ],
   "source": [
    "# controlling for phone service only\n",
    "phone_df = df[(df.phone_service == 'Yes') &\\\n",
    "              (df.internet_service_type_id\\\n",
    "               == 1)][['tenure', 'monthly_charges']]\n",
    "phone_df.info()\n",
    "sns.regplot(x='tenure', y='monthly_charges', data=phone_df, marker='.', \n",
    "            line_kws=({'color': 'rebeccapurple'}))\n",
    "\n",
    "\n"
   ]
  },
  {
   "cell_type": "code",
   "execution_count": 163,
   "id": "5cecc19e",
   "metadata": {},
   "outputs": [
    {
     "data": {
      "image/png": "[encoded data removed]",
      "text/plain": [
       "<Figure size 640x480 with 1 Axes>"
      ]
     },
     "metadata": {},
     "output_type": "display_data"
    },
    {
     "data": {
      "image/png": "[encoded data removed]",
      "text/plain": [
       "<Figure size 640x480 with 1 Axes>"
      ]
     },
     "metadata": {},
     "output_type": "display_data"
    }
   ],
   "source": [
    "phone_df.tenure.hist()\n",
    "plt.show()\n",
    "\n",
    "phone_df.monthly_charges.hist()\n",
    "plt.show()"
   ]
  },
  {
   "cell_type": "code",
   "execution_count": 164,
   "id": "7af6655f",
   "metadata": {},
   "outputs": [
    {
     "name": "stdout",
     "output_type": "stream",
     "text": [
      "Reject the null hypothesis. There is a linear correlation (p-value: 5.423601644635052e-222)\n",
      "r value = 0.6644708508462759\n"
     ]
    }
   ],
   "source": [
    "#not normal, so we will use spearman\n",
    "r, p = stats.spearmanr(phone_df.tenure, phone_df.monthly_charges)\n",
    "\n",
    "eval_result(alpha, p)\n",
    "\n",
    "print(f'r value = {r}')"
   ]
  },
  {
   "cell_type": "markdown",
   "id": "bd78e205",
   "metadata": {},
   "source": [
    "## there is a moderate correlation between monthly charges and tenure of customers who have only phone service"
   ]
  },
  {
   "cell_type": "markdown",
   "id": "31f3d56d",
   "metadata": {},
   "source": [
    "# Question 3 correlations:"
   ]
  },
  {
   "cell_type": "markdown",
   "id": "43a7d27a",
   "metadata": {},
   "source": [
    "**Use the employee database.**\n",
    "A. Is there a relationship between how long an employee has been with the company and their salary?\n",
    "B. Is there a relationship between how long an employee has been with the company and the number of titles they have had?\n"
   ]
  },
  {
   "cell_type": "code",
   "execution_count": 165,
   "id": "3bc9b561",
   "metadata": {},
   "outputs": [],
   "source": [
    "\n",
    "url = get_db_url(env.username, env.password, env.host, db='employees')"
   ]
  },
  {
   "cell_type": "code",
   "execution_count": 166,
   "id": "37da5302",
   "metadata": {},
   "outputs": [],
   "source": [
    "query = '''\n",
    "select * from employees\n",
    "join salaries using (emp_no)\n",
    "where to_date = '9999-01-01'\n",
    "'''"
   ]
  },
  {
   "cell_type": "code",
   "execution_count": 167,
   "id": "6028e897",
   "metadata": {},
   "outputs": [
    {
     "name": "stdout",
     "output_type": "stream",
     "text": [
      "<class 'pandas.core.frame.DataFrame'>\n",
      "RangeIndex: 240124 entries, 0 to 240123\n",
      "Data columns (total 9 columns):\n",
      " #   Column      Non-Null Count   Dtype \n",
      "---  ------      --------------   ----- \n",
      " 0   emp_no      240124 non-null  int64 \n",
      " 1   birth_date  240124 non-null  object\n",
      " 2   first_name  240124 non-null  object\n",
      " 3   last_name   240124 non-null  object\n",
      " 4   gender      240124 non-null  object\n",
      " 5   hire_date   240124 non-null  object\n",
      " 6   salary      240124 non-null  int64 \n",
      " 7   from_date   240124 non-null  object\n",
      " 8   to_date     240124 non-null  object\n",
      "dtypes: int64(2), object(7)\n",
      "memory usage: 16.5+ MB\n"
     ]
    }
   ],
   "source": [
    "df = pd.read_sql(query, url)\n",
    "df.info()"
   ]
  },
  {
   "cell_type": "markdown",
   "id": "02a88b32",
   "metadata": {},
   "source": [
    "#### State hypothesis:\n",
    " H_0: there is no linear correlation between employee tenure and salary\n",
    " H_a: there is a linear correlation between employee tenure and salary\n",
    " "
   ]
  },
  {
   "cell_type": "code",
   "execution_count": 168,
   "id": "993abae6",
   "metadata": {},
   "outputs": [],
   "source": [
    "alpha = 0.05\n",
    "\n",
    "#select data and calculate tenure\n",
    "#how to write the date and time\n",
    "df[\"tenure\"] = pd.to_datetime(\"today\") - pd.to_datetime(df.hire_date)"
   ]
  },
  {
   "cell_type": "code",
   "execution_count": 169,
   "id": "cfcf44cf",
   "metadata": {},
   "outputs": [],
   "source": [
    "#change a date to string, extract the days and then change to int/float\n",
    "df[\"tenure\"] = df.tenure.astype('str').str.split(' ', expand = True)[0].astype('int')\n",
    "tenure_df = df[['tenure', 'salary']]"
   ]
  },
  {
   "cell_type": "code",
   "execution_count": 170,
   "id": "b4f8431d",
   "metadata": {},
   "outputs": [
    {
     "data": {
      "text/plain": [
       "<AxesSubplot:xlabel='tenure', ylabel='salary'>"
      ]
     },
     "execution_count": 170,
     "metadata": {},
     "output_type": "execute_result"
    },
    {
     "data": {
      "image/png": "[encoded data removed]",
      "text/plain": [
       "<Figure size 640x480 with 1 Axes>"
      ]
     },
     "metadata": {},
     "output_type": "display_data"
    }
   ],
   "source": [
    "#plot data to check for nomalacy\n",
    "#scatter plot with line of best fit/ least squares regression line\n",
    "sns.regplot(x='tenure', y='salary', data=tenure_df,marker='.',\\\n",
    "            line_kws=({'color':'firebrick'}))"
   ]
  },
  {
   "cell_type": "code",
   "execution_count": 171,
   "id": "fde8d17b",
   "metadata": {},
   "outputs": [
    {
     "data": {
      "text/plain": [
       "<AxesSubplot:>"
      ]
     },
     "execution_count": 171,
     "metadata": {},
     "output_type": "execute_result"
    },
    {
     "data": {
      "image/png": "[encoded data removed]",
      "text/plain": [
       "<Figure size 640x480 with 1 Axes>"
      ]
     },
     "metadata": {},
     "output_type": "display_data"
    }
   ],
   "source": [
    "tenure_df.tenure.hist()\n",
    "tenure_df.salary.hist()\n",
    "#distributions not normal, therefore use spearman test"
   ]
  },
  {
   "cell_type": "code",
   "execution_count": 172,
   "id": "20e0bc02",
   "metadata": {},
   "outputs": [
    {
     "name": "stdout",
     "output_type": "stream",
     "text": [
      "r value: 0.3128783525010577\n"
     ]
    }
   ],
   "source": [
    "r, p = stats.spearmanr(tenure_df.tenure, tenure_df.salary)\n",
    "print('r value:', r)\n"
   ]
  },
  {
   "cell_type": "markdown",
   "id": "fcb822c0",
   "metadata": {},
   "source": [
    "## there is a relationship between tenure and salary"
   ]
  },
  {
   "cell_type": "markdown",
   "id": "6beaadc4",
   "metadata": {},
   "source": [
    "# Is there a relationship between number of titles and tenure\n",
    "\n",
    "#### H_0: there is no correlation between the two\n",
    "#### H_a:  there is a correlation"
   ]
  },
  {
   "cell_type": "code",
   "execution_count": 173,
   "id": "8066fcf0",
   "metadata": {},
   "outputs": [],
   "source": [
    "query = '''\n",
    "select t.emp_no, count(t.title) as num_titles, te.tenure \n",
    "from titles t\n",
    "join(select emp_no, datediff(now(), min(from_date)) \n",
    "\t\tas tenure \n",
    "\t\tfrom titles\n",
    "\t\tgroup by emp_no\n",
    "\t\thaving max(to_date) = '9999-01-01') te using(emp_no)\n",
    "group by t.emp_no;\n",
    "'''"
   ]
  },
  {
   "cell_type": "code",
   "execution_count": 174,
   "id": "f5e57f6e",
   "metadata": {},
   "outputs": [
    {
     "name": "stdout",
     "output_type": "stream",
     "text": [
      "<class 'pandas.core.frame.DataFrame'>\n",
      "RangeIndex: 240124 entries, 0 to 240123\n",
      "Data columns (total 3 columns):\n",
      " #   Column      Non-Null Count   Dtype\n",
      "---  ------      --------------   -----\n",
      " 0   emp_no      240124 non-null  int64\n",
      " 1   num_titles  240124 non-null  int64\n",
      " 2   tenure      240124 non-null  int64\n",
      "dtypes: int64(3)\n",
      "memory usage: 5.5 MB\n"
     ]
    },
    {
     "data": {
      "text/plain": [
       "<AxesSubplot:xlabel='tenure', ylabel='num_titles'>"
      ]
     },
     "execution_count": 174,
     "metadata": {},
     "output_type": "execute_result"
    },
    {
     "data": {
      "image/png": "[encoded data removed]",
      "text/plain": [
       "<Figure size 640x480 with 1 Axes>"
      ]
     },
     "metadata": {},
     "output_type": "display_data"
    }
   ],
   "source": [
    "df = pd.read_sql(query, url)\n",
    "df.info()\n",
    "df = df [['num_titles', 'tenure']]\n",
    "sns.regplot(x = 'tenure', y='num_titles', data = df, marker = '.', line_kws =({'color': 'seagreen'}))"
   ]
  },
  {
   "cell_type": "markdown",
   "id": "f366ac0d",
   "metadata": {},
   "source": [
    "because the number of titles is a discrete value, we should run an ANOVA or a kruskal Wallis test to test whether the average salary of those with 1 title is different from those with 2, or 2 different from 3, etc. \n",
    "\n",
    "Assumptions:\n",
    "- do they have equal variance?\n",
    "- are there enough observations? YES\n",
    "- are they independent of each other? YES\n",
    "\n",
    "#observations"
   ]
  },
  {
   "cell_type": "code",
   "execution_count": 175,
   "id": "48e389c1",
   "metadata": {},
   "outputs": [
    {
     "data": {
      "text/plain": [
       "2    125345\n",
       "1    111892\n",
       "3      2887\n",
       "Name: num_titles, dtype: int64"
      ]
     },
     "execution_count": 175,
     "metadata": {},
     "output_type": "execute_result"
    }
   ],
   "source": [
    "df.num_titles.value_counts()"
   ]
  },
  {
   "cell_type": "code",
   "execution_count": 176,
   "id": "f380860c",
   "metadata": {},
   "outputs": [
    {
     "data": {
      "text/plain": [
       "LeveneResult(statistic=718602.1569097865, pvalue=0.0)"
      ]
     },
     "execution_count": 176,
     "metadata": {},
     "output_type": "execute_result"
    }
   ],
   "source": [
    "## equal variance?\n",
    "#h_o the variance is equal\n",
    "# h_a the variances are significantly different\n",
    "stats.levene(df.num_titles, df.tenure)"
   ]
  },
  {
   "cell_type": "code",
   "execution_count": 177,
   "id": "5d6c5974",
   "metadata": {},
   "outputs": [
    {
     "data": {
      "text/plain": [
       "KruskalResult(statistic=371488.64419334417, pvalue=0.0)"
      ]
     },
     "execution_count": 177,
     "metadata": {},
     "output_type": "execute_result"
    }
   ],
   "source": [
    "stats.kruskal(df.num_titles, df.tenure)\n",
    "\n"
   ]
  },
  {
   "cell_type": "markdown",
   "id": "8d5cb58e",
   "metadata": {},
   "source": [
    "## We reject the null that there is no linear correlation"
   ]
  },
  {
   "cell_type": "markdown",
   "id": "3c359f35",
   "metadata": {},
   "source": [
    "# Last one about sleep\n",
    "\n",
    "### H0: there is no linear correlation between days and reaction time\n",
    "### Ha: there is a linear correlation"
   ]
  },
  {
   "cell_type": "code",
   "execution_count": 178,
   "id": "e73e998b",
   "metadata": {},
   "outputs": [],
   "source": [
    "df = data('sleepstudy')"
   ]
  },
  {
   "cell_type": "code",
   "execution_count": 179,
   "id": "4ad018e4",
   "metadata": {},
   "outputs": [],
   "source": [
    "# select data\n",
    "df = df[['Reaction', 'Days']]"
   ]
  },
  {
   "cell_type": "code",
   "execution_count": 180,
   "id": "84799924",
   "metadata": {},
   "outputs": [
    {
     "data": {
      "text/plain": [
       "<AxesSubplot:xlabel='Days', ylabel='Reaction'>"
      ]
     },
     "execution_count": 180,
     "metadata": {},
     "output_type": "execute_result"
    },
    {
     "data": {
      "image/png": "[encoded data removed]",
      "text/plain": [
       "<Figure size 640x480 with 1 Axes>"
      ]
     },
     "metadata": {},
     "output_type": "display_data"
    }
   ],
   "source": [
    "sns.regplot(x='Days', y='Reaction', data=df, marker='.', line_kws=({'color': 'seagreen'}))"
   ]
  },
  {
   "cell_type": "code",
   "execution_count": 181,
   "id": "7844a7ee",
   "metadata": {},
   "outputs": [
    {
     "data": {
      "image/png": "[encoded data removed]",
      "text/plain": [
       "<Figure size 640x480 with 1 Axes>"
      ]
     },
     "metadata": {},
     "output_type": "display_data"
    },
    {
     "data": {
      "image/png": "[encoded data removed]",
      "text/plain": [
       "<Figure size 640x480 with 1 Axes>"
      ]
     },
     "metadata": {},
     "output_type": "display_data"
    }
   ],
   "source": [
    "# Check for normal distribution\n",
    "df.Days.hist()\n",
    "plt.show()\n",
    "\n",
    "df.Reaction.hist()\n",
    "plt.show()"
   ]
  },
  {
   "cell_type": "code",
   "execution_count": 182,
   "id": "03f5347d",
   "metadata": {},
   "outputs": [],
   "source": [
    "# Days is uniformly distributed and reaction time is normally distributed.\n",
    "#Run the spearman test"
   ]
  },
  {
   "cell_type": "code",
   "execution_count": 183,
   "id": "21cb4482",
   "metadata": {},
   "outputs": [
    {
     "name": "stdout",
     "output_type": "stream",
     "text": [
      "r value:  0.5228138502259547\n"
     ]
    }
   ],
   "source": [
    "r, p = stats.spearmanr(df.Days, df.Reaction)\n",
    "print('r value: ', r)"
   ]
  },
  {
   "cell_type": "markdown",
   "id": "449840a5",
   "metadata": {},
   "source": [
    "**Takeaway**\n",
    "There is a moderate correlation between days and reaction time."
   ]
  },
  {
   "cell_type": "markdown",
   "id": "2d18ba68",
   "metadata": {},
   "source": [
    "# Chi - Squared Exercises"
   ]
  },
  {
   "cell_type": "markdown",
   "id": "011ba993",
   "metadata": {},
   "source": [
    "#### a. Do students get better test grades if they have a rubber duck on their desk?\n",
    "       independent t test\n",
    "       \n",
    "#### b. Does smoking affect when or not someone has lung cancer?\n",
    "        Chi squared\n",
    "        \n",
    "#### c. Is gender independent of a person's blood type?\n",
    "        Chi Squared\n",
    "\n",
    "#### d. A farming company wants to know if a new fertilizer has improved a crop yield or not\n",
    "        one sample t test\n",
    "        \n",
    "#### e. Does the length of time of the lecture correlate with a student's grade?\n",
    "        pearsons r\n",
    "\n",
    "#### f. Do people with dogs live in apartments more than people with cats?\n",
    "        chi squared"
   ]
  },
  {
   "cell_type": "markdown",
   "id": "14992a6e",
   "metadata": {},
   "source": [
    "#### 2. yes, being a code up student does relate to using a macbook"
   ]
  },
  {
   "cell_type": "markdown",
   "id": "ca4a9e53",
   "metadata": {},
   "source": [
    "## 3. Choosing 2 categorical variables and performing a chi squared"
   ]
  },
  {
   "cell_type": "markdown",
   "id": "a330cb58",
   "metadata": {},
   "source": [
    "$H_0$ : there is no relationship between car class and transmission type\n",
    "\n",
    "$H_a$ : there is a relationship between car class and transmission type"
   ]
  },
  {
   "cell_type": "code",
   "execution_count": 184,
   "id": "827a1c26",
   "metadata": {},
   "outputs": [],
   "source": [
    "mpg = data('mpg')\n",
    "mpg['transmission'] = mpg.trans.str[:-4]"
   ]
  },
  {
   "cell_type": "code",
   "execution_count": 185,
   "id": "abb1f76b",
   "metadata": {},
   "outputs": [
    {
     "data": {
      "text/html": [
       "<div>\n",
       "<style scoped>\n",
       "    .dataframe tbody tr th:only-of-type {\n",
       "        vertical-align: middle;\n",
       "    }\n",
       "\n",
       "    .dataframe tbody tr th {\n",
       "        vertical-align: top;\n",
       "    }\n",
       "\n",
       "    .dataframe thead th {\n",
       "        text-align: right;\n",
       "    }\n",
       "</style>\n",
       "<table border=\"1\" class=\"dataframe\">\n",
       "  <thead>\n",
       "    <tr style=\"text-align: right;\">\n",
       "      <th>class</th>\n",
       "      <th>2seater</th>\n",
       "      <th>compact</th>\n",
       "      <th>midsize</th>\n",
       "      <th>minivan</th>\n",
       "      <th>pickup</th>\n",
       "      <th>subcompact</th>\n",
       "      <th>suv</th>\n",
       "    </tr>\n",
       "    <tr>\n",
       "      <th>transmission</th>\n",
       "      <th></th>\n",
       "      <th></th>\n",
       "      <th></th>\n",
       "      <th></th>\n",
       "      <th></th>\n",
       "      <th></th>\n",
       "      <th></th>\n",
       "    </tr>\n",
       "  </thead>\n",
       "  <tbody>\n",
       "    <tr>\n",
       "      <th>auto</th>\n",
       "      <td>2</td>\n",
       "      <td>24</td>\n",
       "      <td>29</td>\n",
       "      <td>11</td>\n",
       "      <td>20</td>\n",
       "      <td>16</td>\n",
       "      <td>55</td>\n",
       "    </tr>\n",
       "    <tr>\n",
       "      <th>manual</th>\n",
       "      <td>3</td>\n",
       "      <td>23</td>\n",
       "      <td>12</td>\n",
       "      <td>0</td>\n",
       "      <td>13</td>\n",
       "      <td>19</td>\n",
       "      <td>7</td>\n",
       "    </tr>\n",
       "  </tbody>\n",
       "</table>\n",
       "</div>"
      ],
      "text/plain": [
       "class         2seater  compact  midsize  minivan  pickup  subcompact  suv\n",
       "transmission                                                             \n",
       "auto                2       24       29       11      20          16   55\n",
       "manual              3       23       12        0      13          19    7"
      ]
     },
     "execution_count": 185,
     "metadata": {},
     "output_type": "execute_result"
    }
   ],
   "source": [
    "observed = pd.crosstab(mpg.transmission, mpg['class'])\n",
    "observed"
   ]
  },
  {
   "cell_type": "code",
   "execution_count": 186,
   "id": "b46eb10d",
   "metadata": {},
   "outputs": [],
   "source": [
    "alpha = 0.05\n",
    "chi2, p, degf, expected = stats.chi2_contingency(observed)"
   ]
  },
  {
   "cell_type": "code",
   "execution_count": 187,
   "id": "aada0922",
   "metadata": {},
   "outputs": [
    {
     "name": "stdout",
     "output_type": "stream",
     "text": [
      "Observed Values\n",
      "\n",
      "class         2seater  compact  midsize  minivan  pickup  subcompact  suv\n",
      "transmission                                                             \n",
      "auto                2       24       29       11      20          16   55\n",
      "manual              3       23       12        0      13          19    7\n",
      "\n",
      "Expected Values\n",
      "\n",
      "[[ 3 31 27  7 22 23 41]\n",
      " [ 1 15 13  3 10 11 20]]\n",
      "chi^2 = 33.7700\n",
      "p     = 0.0000\n"
     ]
    }
   ],
   "source": [
    "print('Observed Values\\n')\n",
    "print(observed)\n",
    "print('\\nExpected Values\\n')\n",
    "print(expected.astype('int'))\n",
    "print(f'chi^2 = {chi2:.4f}') \n",
    "print(f'p     = {p:.4f}')"
   ]
  },
  {
   "cell_type": "markdown",
   "id": "83d9dfe3",
   "metadata": {},
   "source": [
    "### we reject the null. There may exist a relationship between car class and tranmission type."
   ]
  },
  {
   "cell_type": "markdown",
   "id": "99c22477",
   "metadata": {},
   "source": [
    "# 4. Data from employees database \n",
    "\n",
    "Is an employee's gender independent of whether an employee works in sales or marketing? (only look at current employees"
   ]
  },
  {
   "cell_type": "markdown",
   "id": "cdfe9efb",
   "metadata": {},
   "source": [
    "$H_0$ : there is no relationship between gender and department\n",
    "\n",
    "$H_a$ : there is a relationship between gender and department"
   ]
  },
  {
   "cell_type": "code",
   "execution_count": 188,
   "id": "29be3ba8",
   "metadata": {},
   "outputs": [],
   "source": [
    "query = ''' \n",
    "select e.gender, d.dept_name\n",
    "from employees as e\n",
    "join dept_emp\n",
    "using (emp_no)\n",
    "join departments as d\n",
    "using(dept_no)\n",
    "where dept_emp.to_date > now();\n",
    "'''"
   ]
  },
  {
   "cell_type": "code",
   "execution_count": 189,
   "id": "6b96d5da",
   "metadata": {},
   "outputs": [],
   "source": [
    "gender_department = pd.read_sql(query, url)"
   ]
  },
  {
   "cell_type": "code",
   "execution_count": 190,
   "id": "1553d99e",
   "metadata": {},
   "outputs": [
    {
     "data": {
      "text/html": [
       "<div>\n",
       "<style scoped>\n",
       "    .dataframe tbody tr th:only-of-type {\n",
       "        vertical-align: middle;\n",
       "    }\n",
       "\n",
       "    .dataframe tbody tr th {\n",
       "        vertical-align: top;\n",
       "    }\n",
       "\n",
       "    .dataframe thead th {\n",
       "        text-align: right;\n",
       "    }\n",
       "</style>\n",
       "<table border=\"1\" class=\"dataframe\">\n",
       "  <thead>\n",
       "    <tr style=\"text-align: right;\">\n",
       "      <th></th>\n",
       "      <th>gender</th>\n",
       "      <th>dept_name</th>\n",
       "    </tr>\n",
       "  </thead>\n",
       "  <tbody>\n",
       "    <tr>\n",
       "      <th>0</th>\n",
       "      <td>M</td>\n",
       "      <td>Customer Service</td>\n",
       "    </tr>\n",
       "    <tr>\n",
       "      <th>1</th>\n",
       "      <td>F</td>\n",
       "      <td>Customer Service</td>\n",
       "    </tr>\n",
       "    <tr>\n",
       "      <th>2</th>\n",
       "      <td>M</td>\n",
       "      <td>Customer Service</td>\n",
       "    </tr>\n",
       "    <tr>\n",
       "      <th>3</th>\n",
       "      <td>F</td>\n",
       "      <td>Customer Service</td>\n",
       "    </tr>\n",
       "    <tr>\n",
       "      <th>4</th>\n",
       "      <td>F</td>\n",
       "      <td>Customer Service</td>\n",
       "    </tr>\n",
       "    <tr>\n",
       "      <th>...</th>\n",
       "      <td>...</td>\n",
       "      <td>...</td>\n",
       "    </tr>\n",
       "    <tr>\n",
       "      <th>240119</th>\n",
       "      <td>F</td>\n",
       "      <td>Sales</td>\n",
       "    </tr>\n",
       "    <tr>\n",
       "      <th>240120</th>\n",
       "      <td>M</td>\n",
       "      <td>Sales</td>\n",
       "    </tr>\n",
       "    <tr>\n",
       "      <th>240121</th>\n",
       "      <td>M</td>\n",
       "      <td>Sales</td>\n",
       "    </tr>\n",
       "    <tr>\n",
       "      <th>240122</th>\n",
       "      <td>F</td>\n",
       "      <td>Sales</td>\n",
       "    </tr>\n",
       "    <tr>\n",
       "      <th>240123</th>\n",
       "      <td>F</td>\n",
       "      <td>Sales</td>\n",
       "    </tr>\n",
       "  </tbody>\n",
       "</table>\n",
       "<p>240124 rows × 2 columns</p>\n",
       "</div>"
      ],
      "text/plain": [
       "       gender         dept_name\n",
       "0           M  Customer Service\n",
       "1           F  Customer Service\n",
       "2           M  Customer Service\n",
       "3           F  Customer Service\n",
       "4           F  Customer Service\n",
       "...       ...               ...\n",
       "240119      F             Sales\n",
       "240120      M             Sales\n",
       "240121      M             Sales\n",
       "240122      F             Sales\n",
       "240123      F             Sales\n",
       "\n",
       "[240124 rows x 2 columns]"
      ]
     },
     "execution_count": 190,
     "metadata": {},
     "output_type": "execute_result"
    }
   ],
   "source": [
    "gender_department"
   ]
  },
  {
   "cell_type": "code",
   "execution_count": 191,
   "id": "4edb1ff4",
   "metadata": {},
   "outputs": [],
   "source": [
    "observedgender = pd.crosstab(gender_department.gender, \\\n",
    "                            gender_department.dept_name)"
   ]
  },
  {
   "cell_type": "code",
   "execution_count": 192,
   "id": "4c8a7eb4",
   "metadata": {},
   "outputs": [],
   "source": [
    "alpha = 0.05\n",
    "chi2, p, degf, expected = stats.chi2_contingency(observedgender)"
   ]
  },
  {
   "cell_type": "code",
   "execution_count": 193,
   "id": "4fc13af1",
   "metadata": {},
   "outputs": [
    {
     "name": "stdout",
     "output_type": "stream",
     "text": [
      "Observed Values\n",
      "\n",
      "dept_name  Customer Service  Development  Finance  Human Resources  Marketing  \\\n",
      "gender                                                                          \n",
      "F                      7007        24533     5014             5147       5864   \n",
      "M                     10562        36853     7423             7751       8978   \n",
      "\n",
      "dept_name  Production  Quality Management  Research  Sales  \n",
      "gender                                                      \n",
      "F               21393                5872      6181  14999  \n",
      "M               31911                8674      9260  22702  \n",
      "\n",
      "Expected Values\n",
      "\n",
      "[[ 7024 24544  4972  5157  5934 21312  5816  6173 15074]\n",
      " [10544 36841  7464  7740  8907 31991  8729  9267 22626]]\n",
      "chi^2 = 4.1153\n",
      "p     = 0.8466\n"
     ]
    }
   ],
   "source": [
    "print('Observed Values\\n')\n",
    "print(observedgender)\n",
    "print('\\nExpected Values\\n')\n",
    "print(expected.astype('int'))\n",
    "print(f'chi^2 = {chi2:.4f}') \n",
    "print(f'p     = {p:.4f}')"
   ]
  },
  {
   "cell_type": "markdown",
   "id": "95a763ca",
   "metadata": {},
   "source": [
    "#### due to the high p value, we fail to reject the null and say that there is no relationship between gender and department"
   ]
  },
  {
   "cell_type": "markdown",
   "id": "242b7a20",
   "metadata": {},
   "source": [
    "## Is an employee's gender independent of whether or not they are or have been a manager?"
   ]
  },
  {
   "cell_type": "markdown",
   "id": "f535990c",
   "metadata": {},
   "source": [
    "$H_0$ : there is no relationship between gender and if been a manager\n",
    "\n",
    "$H_a$ : there is a relationship between gender if been a manager"
   ]
  },
  {
   "cell_type": "code",
   "execution_count": 194,
   "id": "98c4babe",
   "metadata": {},
   "outputs": [],
   "source": [
    "query = '''\n",
    "select e.gender, t.title \n",
    "from employees as e \n",
    "join titles as t\n",
    "using(emp_no);\n",
    "'''"
   ]
  },
  {
   "cell_type": "code",
   "execution_count": 195,
   "id": "10e6682d",
   "metadata": {},
   "outputs": [],
   "source": [
    "managergender = pd.read_sql(query, url)"
   ]
  },
  {
   "cell_type": "code",
   "execution_count": 196,
   "id": "7abeb199",
   "metadata": {},
   "outputs": [
    {
     "data": {
      "text/html": [
       "<div>\n",
       "<style scoped>\n",
       "    .dataframe tbody tr th:only-of-type {\n",
       "        vertical-align: middle;\n",
       "    }\n",
       "\n",
       "    .dataframe tbody tr th {\n",
       "        vertical-align: top;\n",
       "    }\n",
       "\n",
       "    .dataframe thead th {\n",
       "        text-align: right;\n",
       "    }\n",
       "</style>\n",
       "<table border=\"1\" class=\"dataframe\">\n",
       "  <thead>\n",
       "    <tr style=\"text-align: right;\">\n",
       "      <th></th>\n",
       "      <th>gender</th>\n",
       "      <th>title</th>\n",
       "    </tr>\n",
       "  </thead>\n",
       "  <tbody>\n",
       "    <tr>\n",
       "      <th>0</th>\n",
       "      <td>M</td>\n",
       "      <td>Senior Engineer</td>\n",
       "    </tr>\n",
       "    <tr>\n",
       "      <th>1</th>\n",
       "      <td>F</td>\n",
       "      <td>Staff</td>\n",
       "    </tr>\n",
       "    <tr>\n",
       "      <th>2</th>\n",
       "      <td>M</td>\n",
       "      <td>Senior Engineer</td>\n",
       "    </tr>\n",
       "    <tr>\n",
       "      <th>3</th>\n",
       "      <td>M</td>\n",
       "      <td>Engineer</td>\n",
       "    </tr>\n",
       "    <tr>\n",
       "      <th>4</th>\n",
       "      <td>M</td>\n",
       "      <td>Senior Engineer</td>\n",
       "    </tr>\n",
       "  </tbody>\n",
       "</table>\n",
       "</div>"
      ],
      "text/plain": [
       "  gender            title\n",
       "0      M  Senior Engineer\n",
       "1      F            Staff\n",
       "2      M  Senior Engineer\n",
       "3      M         Engineer\n",
       "4      M  Senior Engineer"
      ]
     },
     "execution_count": 196,
     "metadata": {},
     "output_type": "execute_result"
    }
   ],
   "source": [
    "managergender.head()"
   ]
  },
  {
   "cell_type": "code",
   "execution_count": 197,
   "id": "a56bbd47",
   "metadata": {},
   "outputs": [],
   "source": [
    "managergender['is_manager'] = managergender.title == 'Manager'"
   ]
  },
  {
   "cell_type": "code",
   "execution_count": 198,
   "id": "19335765",
   "metadata": {},
   "outputs": [],
   "source": [
    "observedtitle = pd.crosstab(managergender.gender, managergender.is_manager)"
   ]
  },
  {
   "cell_type": "code",
   "execution_count": 199,
   "id": "c0519a5c",
   "metadata": {},
   "outputs": [
    {
     "data": {
      "text/html": [
       "<div>\n",
       "<style scoped>\n",
       "    .dataframe tbody tr th:only-of-type {\n",
       "        vertical-align: middle;\n",
       "    }\n",
       "\n",
       "    .dataframe tbody tr th {\n",
       "        vertical-align: top;\n",
       "    }\n",
       "\n",
       "    .dataframe thead th {\n",
       "        text-align: right;\n",
       "    }\n",
       "</style>\n",
       "<table border=\"1\" class=\"dataframe\">\n",
       "  <thead>\n",
       "    <tr style=\"text-align: right;\">\n",
       "      <th>is_manager</th>\n",
       "      <th>False</th>\n",
       "      <th>True</th>\n",
       "    </tr>\n",
       "    <tr>\n",
       "      <th>gender</th>\n",
       "      <th></th>\n",
       "      <th></th>\n",
       "    </tr>\n",
       "  </thead>\n",
       "  <tbody>\n",
       "    <tr>\n",
       "      <th>F</th>\n",
       "      <td>177211</td>\n",
       "      <td>13</td>\n",
       "    </tr>\n",
       "    <tr>\n",
       "      <th>M</th>\n",
       "      <td>266073</td>\n",
       "      <td>11</td>\n",
       "    </tr>\n",
       "  </tbody>\n",
       "</table>\n",
       "</div>"
      ],
      "text/plain": [
       "is_manager   False  True\n",
       "gender                  \n",
       "F           177211    13\n",
       "M           266073    11"
      ]
     },
     "execution_count": 199,
     "metadata": {},
     "output_type": "execute_result"
    }
   ],
   "source": [
    "observedtitle"
   ]
  },
  {
   "cell_type": "code",
   "execution_count": 200,
   "id": "8e5073fa",
   "metadata": {},
   "outputs": [],
   "source": [
    "alpha = 0.05\n",
    "chi2, p, degf, expected = stats.chi2_contingency(observedtitle)"
   ]
  },
  {
   "cell_type": "code",
   "execution_count": 201,
   "id": "fdf1e617",
   "metadata": {},
   "outputs": [
    {
     "name": "stdout",
     "output_type": "stream",
     "text": [
      "Observed Values\n",
      "\n",
      "is_manager   False  True\n",
      "gender                  \n",
      "F           177211    13\n",
      "M           266073    11\n",
      "\n",
      "Expected Values\n",
      "\n",
      "[[177214      9]\n",
      " [266069     14]]\n",
      "chi^2 = 1.4658\n",
      "p     = 0.2260\n"
     ]
    }
   ],
   "source": [
    "print('Observed Values\\n')\n",
    "print(observedtitle)\n",
    "print('\\nExpected Values\\n')\n",
    "print(expected.astype('int'))\n",
    "print(f'chi^2 = {chi2:.4f}') \n",
    "print(f'p     = {p:.4f}')"
   ]
  },
  {
   "cell_type": "markdown",
   "id": "ecb3390c",
   "metadata": {},
   "source": [
    "### based on our test, we fail to reject the null. There appears to be no relationship between gender and whether or not an employee was a manager"
   ]
  },
  {
   "cell_type": "markdown",
   "id": "a3d5ff47",
   "metadata": {},
   "source": [
    "# Bonus Content"
   ]
  },
  {
   "cell_type": "code",
   "execution_count": null,
   "id": "d5ae79e8",
   "metadata": {},
   "outputs": [],
   "source": []
  }
 ],
 "metadata": {
  "kernelspec": {
   "display_name": "Python 3 (ipykernel)",
   "language": "python",
   "name": "python3"
  },
  "language_info": {
   "codemirror_mode": {
    "name": "ipython",
    "version": 3
   },
   "file_extension": ".py",
   "mimetype": "text/x-python",
   "name": "python",
   "nbconvert_exporter": "python",
   "pygments_lexer": "ipython3",
   "version": "3.9.13"
  }
 },
 "nbformat": 4,
 "nbformat_minor": 5
}
