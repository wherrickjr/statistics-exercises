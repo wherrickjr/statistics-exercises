{
 "cells": [
  {
   "cell_type": "markdown",
   "metadata": {},
   "source": [
    "# Comparing Group Membership \n",
    "\n",
    "**The $\\chi^2$ Test**\n",
    "\n",
    "The $\\chi^2$ test can be used to compare two categorical variables and helps us answer questions like:\n",
    "\n",
    "- Is whether or not a customer churns independent of their subscription plan?\n",
    "- Are doctors less likely to smoke?\n",
    "- Does playing on the home field give a soccer team an advantage?\n",
    "\n",
    "In this lesson we will dive into how the test is performed.\n",
    "\n",
    "<hr style=\"border:2px solid gray\">"
   ]
  },
  {
   "cell_type": "markdown",
   "metadata": {},
   "source": [
    "## The Chi-Square Contingency Table Test\n",
    "\n",
    "The $\\chi^2$ ('$k\\bar{i}$') can be also be used in several other ways, but we will use what is referred to as the *contingency table test*, which lets us test the hypothesis that one group is independent of another. To do this, we will\n",
    "\n",
    "1. Contingency table of observed values\n",
    "\n",
    "1. Use stats.chi2_contingency to generate a contingency table of expected valueus, test-statistic and p-value based on the observed values. \n",
    "\n",
    "1. Is the p-value less than our alpha? Draw conclusions."
   ]
  },
  {
   "cell_type": "markdown",
   "metadata": {},
   "source": [
    "<div class=\"alert alert-block alert-info\">\n",
    "To manually compute $\\chi^2$, we would also compute a contingency table of expected values. Then we would compute our test-statistic, $\\chi^2 = \\sum{\\frac{(O - E)^2}{E}} $, where $O$ is the observed values, and $E$ is the expected values. You can see an example of this below, in the Bonus Content.\n",
    "</div>"
   ]
  },
  {
   "cell_type": "markdown",
   "metadata": {},
   "source": [
    "For this lesson, we will look at the dataset on cars that we explored previously.\n",
    "\n",
    "____________________\n",
    "\n",
    "**Example 1**\n",
    "\n",
    "We will investigate the question of whether the cars drive is independent of transmission type.\n",
    "\n",
    "- $H_{0}$ (Null Hypothesis): drive is independent of transmission type. \n",
    "\n",
    "- $H_{a}$ (Alternative Hypothesis): drive is dependent on transmission type. "
   ]
  },
  {
   "cell_type": "code",
   "execution_count": 1,
   "metadata": {},
   "outputs": [
    {
     "data": {
      "text/html": [
       "<div>\n",
       "<style scoped>\n",
       "    .dataframe tbody tr th:only-of-type {\n",
       "        vertical-align: middle;\n",
       "    }\n",
       "\n",
       "    .dataframe tbody tr th {\n",
       "        vertical-align: top;\n",
       "    }\n",
       "\n",
       "    .dataframe thead th {\n",
       "        text-align: right;\n",
       "    }\n",
       "</style>\n",
       "<table border=\"1\" class=\"dataframe\">\n",
       "  <thead>\n",
       "    <tr style=\"text-align: right;\">\n",
       "      <th></th>\n",
       "      <th>manufacturer</th>\n",
       "      <th>model</th>\n",
       "      <th>displ</th>\n",
       "      <th>year</th>\n",
       "      <th>cyl</th>\n",
       "      <th>trans</th>\n",
       "      <th>drv</th>\n",
       "      <th>cty</th>\n",
       "      <th>hwy</th>\n",
       "      <th>fl</th>\n",
       "      <th>class</th>\n",
       "      <th>transmission</th>\n",
       "    </tr>\n",
       "  </thead>\n",
       "  <tbody>\n",
       "    <tr>\n",
       "      <th>1</th>\n",
       "      <td>audi</td>\n",
       "      <td>a4</td>\n",
       "      <td>1.8</td>\n",
       "      <td>1999</td>\n",
       "      <td>4</td>\n",
       "      <td>auto(l5)</td>\n",
       "      <td>f</td>\n",
       "      <td>18</td>\n",
       "      <td>29</td>\n",
       "      <td>p</td>\n",
       "      <td>compact</td>\n",
       "      <td>auto</td>\n",
       "    </tr>\n",
       "    <tr>\n",
       "      <th>2</th>\n",
       "      <td>audi</td>\n",
       "      <td>a4</td>\n",
       "      <td>1.8</td>\n",
       "      <td>1999</td>\n",
       "      <td>4</td>\n",
       "      <td>manual(m5)</td>\n",
       "      <td>f</td>\n",
       "      <td>21</td>\n",
       "      <td>29</td>\n",
       "      <td>p</td>\n",
       "      <td>compact</td>\n",
       "      <td>manual</td>\n",
       "    </tr>\n",
       "    <tr>\n",
       "      <th>3</th>\n",
       "      <td>audi</td>\n",
       "      <td>a4</td>\n",
       "      <td>2.0</td>\n",
       "      <td>2008</td>\n",
       "      <td>4</td>\n",
       "      <td>manual(m6)</td>\n",
       "      <td>f</td>\n",
       "      <td>20</td>\n",
       "      <td>31</td>\n",
       "      <td>p</td>\n",
       "      <td>compact</td>\n",
       "      <td>manual</td>\n",
       "    </tr>\n",
       "    <tr>\n",
       "      <th>4</th>\n",
       "      <td>audi</td>\n",
       "      <td>a4</td>\n",
       "      <td>2.0</td>\n",
       "      <td>2008</td>\n",
       "      <td>4</td>\n",
       "      <td>auto(av)</td>\n",
       "      <td>f</td>\n",
       "      <td>21</td>\n",
       "      <td>30</td>\n",
       "      <td>p</td>\n",
       "      <td>compact</td>\n",
       "      <td>auto</td>\n",
       "    </tr>\n",
       "    <tr>\n",
       "      <th>5</th>\n",
       "      <td>audi</td>\n",
       "      <td>a4</td>\n",
       "      <td>2.8</td>\n",
       "      <td>1999</td>\n",
       "      <td>6</td>\n",
       "      <td>auto(l5)</td>\n",
       "      <td>f</td>\n",
       "      <td>16</td>\n",
       "      <td>26</td>\n",
       "      <td>p</td>\n",
       "      <td>compact</td>\n",
       "      <td>auto</td>\n",
       "    </tr>\n",
       "  </tbody>\n",
       "</table>\n",
       "</div>"
      ],
      "text/plain": [
       "  manufacturer model  displ  year  cyl       trans drv  cty  hwy fl    class  \\\n",
       "1         audi    a4    1.8  1999    4    auto(l5)   f   18   29  p  compact   \n",
       "2         audi    a4    1.8  1999    4  manual(m5)   f   21   29  p  compact   \n",
       "3         audi    a4    2.0  2008    4  manual(m6)   f   20   31  p  compact   \n",
       "4         audi    a4    2.0  2008    4    auto(av)   f   21   30  p  compact   \n",
       "5         audi    a4    2.8  1999    6    auto(l5)   f   16   26  p  compact   \n",
       "\n",
       "  transmission  \n",
       "1         auto  \n",
       "2       manual  \n",
       "3       manual  \n",
       "4         auto  \n",
       "5         auto  "
      ]
     },
     "execution_count": 1,
     "metadata": {},
     "output_type": "execute_result"
    }
   ],
   "source": [
    "#imports\n",
    "import pandas as pd\n",
    "from scipy import stats\n",
    "from pydataset import data\n",
    "import numpy as np\n",
    "\n",
    "mpg = data('mpg')\n",
    "mpg['transmission'] = mpg.trans.str[:-4] # a little cleaning goes a long way\n",
    "mpg.head()"
   ]
  },
  {
   "cell_type": "code",
   "execution_count": 2,
   "metadata": {},
   "outputs": [
    {
     "data": {
      "text/plain": [
       "f    106\n",
       "4    103\n",
       "r     25\n",
       "Name: drv, dtype: int64"
      ]
     },
     "execution_count": 2,
     "metadata": {},
     "output_type": "execute_result"
    }
   ],
   "source": [
    "mpg['drv'].value_counts()"
   ]
  },
  {
   "cell_type": "code",
   "execution_count": 3,
   "metadata": {},
   "outputs": [
    {
     "data": {
      "text/plain": [
       "auto      157\n",
       "manual     77\n",
       "Name: trans, dtype: int64"
      ]
     },
     "execution_count": 3,
     "metadata": {},
     "output_type": "execute_result"
    }
   ],
   "source": [
    "# eliminates (15) etc. from the end of trans values\n",
    "mpg['trans'] = mpg['trans'].str[:-4]\n",
    "mpg.trans.value_counts()"
   ]
  },
  {
   "cell_type": "markdown",
   "metadata": {},
   "source": [
    "First, create an observed crosstab, or contingency table, from the dataframe's two columns of interest. "
   ]
  },
  {
   "cell_type": "code",
   "execution_count": 4,
   "metadata": {},
   "outputs": [
    {
     "data": {
      "text/html": [
       "<div>\n",
       "<style scoped>\n",
       "    .dataframe tbody tr th:only-of-type {\n",
       "        vertical-align: middle;\n",
       "    }\n",
       "\n",
       "    .dataframe tbody tr th {\n",
       "        vertical-align: top;\n",
       "    }\n",
       "\n",
       "    .dataframe thead th {\n",
       "        text-align: right;\n",
       "    }\n",
       "</style>\n",
       "<table border=\"1\" class=\"dataframe\">\n",
       "  <thead>\n",
       "    <tr style=\"text-align: right;\">\n",
       "      <th>trans</th>\n",
       "      <th>auto</th>\n",
       "      <th>manual</th>\n",
       "    </tr>\n",
       "    <tr>\n",
       "      <th>drv</th>\n",
       "      <th></th>\n",
       "      <th></th>\n",
       "    </tr>\n",
       "  </thead>\n",
       "  <tbody>\n",
       "    <tr>\n",
       "      <th>4</th>\n",
       "      <td>75</td>\n",
       "      <td>28</td>\n",
       "    </tr>\n",
       "    <tr>\n",
       "      <th>f</th>\n",
       "      <td>65</td>\n",
       "      <td>41</td>\n",
       "    </tr>\n",
       "    <tr>\n",
       "      <th>r</th>\n",
       "      <td>17</td>\n",
       "      <td>8</td>\n",
       "    </tr>\n",
       "  </tbody>\n",
       "</table>\n",
       "</div>"
      ],
      "text/plain": [
       "trans  auto  manual\n",
       "drv                \n",
       "4        75      28\n",
       "f        65      41\n",
       "r        17       8"
      ]
     },
     "execution_count": 4,
     "metadata": {},
     "output_type": "execute_result"
    }
   ],
   "source": [
    "observed = pd.crosstab(mpg.drv, mpg.trans)\n",
    "observed"
   ]
  },
  {
   "cell_type": "markdown",
   "metadata": {},
   "source": [
    "The `chi2_contingency` function returns 4 items (*in this order*):\n",
    "\n",
    "1. the **test statistic**: $\\chi^2$\n",
    "2. the **p-value**: the probability of seeing these proportions by chance\n",
    "3. the **degrees of freedom**: equivalent to sample size minus 1\n",
    "4. the contingency table of the **expected values**, which represents what the values would be if everything was proportional and there was no relationship between the 2 variables. "
   ]
  },
  {
   "cell_type": "code",
   "execution_count": 5,
   "metadata": {},
   "outputs": [],
   "source": [
    "alpha = 0.05\n",
    "chi2, p, degf, expected = stats.chi2_contingency(observed)"
   ]
  },
  {
   "cell_type": "markdown",
   "metadata": {},
   "source": [
    "Let's look at our results:"
   ]
  },
  {
   "cell_type": "code",
   "execution_count": 29,
   "metadata": {},
   "outputs": [
    {
     "name": "stdout",
     "output_type": "stream",
     "text": [
      "Observed Values\n",
      "\n",
      "[[75 28]\n",
      " [65 41]\n",
      " [17  8]]\n",
      "---\n",
      "Expected Values\n",
      "\n",
      "[[69 33]\n",
      " [71 34]\n",
      " [16  8]]\n",
      "---\n",
      "\n",
      "chi^2 = 3.1368\n",
      "p     = 0.2084\n"
     ]
    }
   ],
   "source": [
    "# print 'Observed Values' followed by a new line\n",
    "print('Observed Values\\n')\n",
    "\n",
    "# print the values from the 'observed' dataframe\n",
    "print(observed.values)\n",
    "\n",
    "# print --- and then a new line, 'Expected Values', followed by another new line\n",
    "print('---\\nExpected Values\\n')\n",
    "\n",
    "# print the expected values array\n",
    "print(expected.astype(int))\n",
    "\n",
    "# print a new line\n",
    "print('---\\n')\n",
    "\n",
    "# print the chi2 value, formatted to a float with 4 digits. \n",
    "print(f'chi^2 = {chi2:.4f}') \n",
    "\n",
    "# print the p-value, formatted to a float with 4 digits. \n",
    "print(f'p     = {p:.4f}')"
   ]
  },
  {
   "cell_type": "markdown",
   "metadata": {},
   "source": [
    "**Takeaways**\n",
    "\n",
    "We can see by comparing the contingency tables that the observed values are very close to the expected values. We can confirm that, with the data available, there does not appear to be a significant relationship between type of transimission of type of drive. We fail to reject the null hypothesis"
   ]
  },
  {
   "cell_type": "markdown",
   "metadata": {},
   "source": [
    "**Example 2**\n",
    "\n",
    "We will now investigate the question of whether the car's 'class' is independent of number of cylinders. Number of cylinders, while it is represented numerically, is a discrete variable. It is not continuous and there are a limited number of options. \n",
    "\n",
    "- $H_{0}$ (Null Hypothesis): class is independent of cylinders. \n",
    "\n",
    "- $H_{a}$ (Alternative Hypothesis): class is dependent on cylinders.\n",
    "\n",
    "First, create an observed crosstab, or contingency table, from the dataframe's two columns of interest. "
   ]
  },
  {
   "cell_type": "code",
   "execution_count": 14,
   "metadata": {},
   "outputs": [
    {
     "data": {
      "text/html": [
       "<div>\n",
       "<style scoped>\n",
       "    .dataframe tbody tr th:only-of-type {\n",
       "        vertical-align: middle;\n",
       "    }\n",
       "\n",
       "    .dataframe tbody tr th {\n",
       "        vertical-align: top;\n",
       "    }\n",
       "\n",
       "    .dataframe thead th {\n",
       "        text-align: right;\n",
       "    }\n",
       "</style>\n",
       "<table border=\"1\" class=\"dataframe\">\n",
       "  <thead>\n",
       "    <tr style=\"text-align: right;\">\n",
       "      <th>cyl</th>\n",
       "      <th>4</th>\n",
       "      <th>5</th>\n",
       "      <th>6</th>\n",
       "      <th>8</th>\n",
       "    </tr>\n",
       "    <tr>\n",
       "      <th>class</th>\n",
       "      <th></th>\n",
       "      <th></th>\n",
       "      <th></th>\n",
       "      <th></th>\n",
       "    </tr>\n",
       "  </thead>\n",
       "  <tbody>\n",
       "    <tr>\n",
       "      <th>2seater</th>\n",
       "      <td>0</td>\n",
       "      <td>0</td>\n",
       "      <td>0</td>\n",
       "      <td>5</td>\n",
       "    </tr>\n",
       "    <tr>\n",
       "      <th>compact</th>\n",
       "      <td>32</td>\n",
       "      <td>2</td>\n",
       "      <td>13</td>\n",
       "      <td>0</td>\n",
       "    </tr>\n",
       "    <tr>\n",
       "      <th>midsize</th>\n",
       "      <td>16</td>\n",
       "      <td>0</td>\n",
       "      <td>23</td>\n",
       "      <td>2</td>\n",
       "    </tr>\n",
       "    <tr>\n",
       "      <th>minivan</th>\n",
       "      <td>1</td>\n",
       "      <td>0</td>\n",
       "      <td>10</td>\n",
       "      <td>0</td>\n",
       "    </tr>\n",
       "    <tr>\n",
       "      <th>pickup</th>\n",
       "      <td>3</td>\n",
       "      <td>0</td>\n",
       "      <td>10</td>\n",
       "      <td>20</td>\n",
       "    </tr>\n",
       "    <tr>\n",
       "      <th>subcompact</th>\n",
       "      <td>21</td>\n",
       "      <td>2</td>\n",
       "      <td>7</td>\n",
       "      <td>5</td>\n",
       "    </tr>\n",
       "    <tr>\n",
       "      <th>suv</th>\n",
       "      <td>8</td>\n",
       "      <td>0</td>\n",
       "      <td>16</td>\n",
       "      <td>38</td>\n",
       "    </tr>\n",
       "  </tbody>\n",
       "</table>\n",
       "</div>"
      ],
      "text/plain": [
       "cyl          4  5   6   8\n",
       "class                    \n",
       "2seater      0  0   0   5\n",
       "compact     32  2  13   0\n",
       "midsize     16  0  23   2\n",
       "minivan      1  0  10   0\n",
       "pickup       3  0  10  20\n",
       "subcompact  21  2   7   5\n",
       "suv          8  0  16  38"
      ]
     },
     "execution_count": 14,
     "metadata": {},
     "output_type": "execute_result"
    }
   ],
   "source": [
    "# used mpg['class'] instead of mpg.class because class is a reserved word\n",
    "observed = pd.crosstab(mpg['class'], mpg.cyl)\n",
    "observed"
   ]
  },
  {
   "cell_type": "markdown",
   "metadata": {},
   "source": [
    "When we run a Chi-Square Contingency Test, we are testing whether there is a relationship between **at least** 2 categories of one variable with **at least** 2 categories of the other variable. The results do not tell us where the relationship lies, or that there is a relationship between all categories. We can do additional testing to figure out where the relationship lies, if necessary. \n",
    "\n",
    "Therefore, when we run a chi-square test with these 2 variables, the resulting p-value will tell us whether there is a relationship between at least 2 classes of vehicles with at least 2 types of cylinders. "
   ]
  },
  {
   "cell_type": "code",
   "execution_count": 19,
   "metadata": {},
   "outputs": [
    {
     "data": {
      "text/plain": [
       "1.5351076620141742e-20"
      ]
     },
     "execution_count": 19,
     "metadata": {},
     "output_type": "execute_result"
    }
   ],
   "source": [
    "chi2, p, degf, expected = stats.chi2_contingency(observed)\n",
    "p"
   ]
  },
  {
   "cell_type": "code",
   "execution_count": 16,
   "metadata": {},
   "outputs": [],
   "source": [
    "alpha = 0.05\n",
    "\n",
    "def eval_results(p, alpha, group1, group2):\n",
    "    '''\n",
    "    this function will take in the p-value, alpha, and a name for the 2 variables \n",
    "    you are comparing (group 1 and group 2)\n",
    "    '''\n",
    "    if p < alpha:\n",
    "        return f'There exists some relationship between {group1} and the {group2}. (p-value: {p})'\n",
    "    else:\n",
    "        return f'There is not a significant relationship between {group1} and {group2}. (p-value: {p})'\n",
    "        "
   ]
  },
  {
   "cell_type": "code",
   "execution_count": 17,
   "metadata": {},
   "outputs": [
    {
     "data": {
      "text/plain": [
       "'There exists some relationship between class and the cylinders. (p-value: 1.5351076620141742e-20)'"
      ]
     },
     "execution_count": 17,
     "metadata": {},
     "output_type": "execute_result"
    }
   ],
   "source": [
    "eval_results(p, alpha, group1='class', group2='cylinders')"
   ]
  },
  {
   "cell_type": "markdown",
   "metadata": {},
   "source": [
    "Now we know there is *some* relationship. But where does that relationship exist? "
   ]
  },
  {
   "cell_type": "code",
   "execution_count": 81,
   "metadata": {},
   "outputs": [
    {
     "name": "stdout",
     "output_type": "stream",
     "text": [
      "Expected DataFrame\n",
      "cyl          4  5   6   8\n",
      "class                    \n",
      "2seater      1  0   1   1\n",
      "compact     16  0  15  14\n",
      "midsize     14  0  13  12\n",
      "minivan      3  0   3   3\n",
      "pickup      11  0  11   9\n",
      "subcompact  12  0  11  10\n",
      "suv         21  1  20  18\n",
      "\n",
      "\n",
      "Observed DataFrame\n",
      "cyl          4  5   6   8\n",
      "class                    \n",
      "2seater      0  0   0   5\n",
      "compact     32  2  13   0\n",
      "midsize     16  0  23   2\n",
      "minivan      1  0  10   0\n",
      "pickup       3  0  10  20\n",
      "subcompact  21  2   7   5\n",
      "suv          8  0  16  38\n"
     ]
    }
   ],
   "source": [
    "print(\"Expected DataFrame\")\n",
    "#This is changein an array to a formatted dataframe\n",
    "print(pd.DataFrame(expected.astype('int'), index=observed.index, columns=observed.columns))\n",
    "print(\"\\n\")\n",
    "print(\"Observed DataFrame\")\n",
    "print(observed)"
   ]
  },
  {
   "cell_type": "markdown",
   "metadata": {},
   "source": [
    "There appear to be more than expected results in 2-seater vehicles with 8-cylinders, compact cars with 4-cylinders, midsized cars with 6-cylinders, minivans with 6-cylinders, pickups with 8-cylinders, subcompact cars with 4-cylinders, and finally SUVs with 8-cylinders. \n",
    "\n",
    "If I want to identify where these are significant relationships, I can compare each of these \"interesting groups\", such as 2-seater vehicles vs. non-2-seater vehicles with 8-cylinders vs. non-8-cylinders."
   ]
  },
  {
   "cell_type": "code",
   "execution_count": 82,
   "metadata": {},
   "outputs": [
    {
     "data": {
      "text/html": [
       "<div>\n",
       "<style scoped>\n",
       "    .dataframe tbody tr th:only-of-type {\n",
       "        vertical-align: middle;\n",
       "    }\n",
       "\n",
       "    .dataframe tbody tr th {\n",
       "        vertical-align: top;\n",
       "    }\n",
       "\n",
       "    .dataframe thead th {\n",
       "        text-align: right;\n",
       "    }\n",
       "</style>\n",
       "<table border=\"1\" class=\"dataframe\">\n",
       "  <thead>\n",
       "    <tr style=\"text-align: right;\">\n",
       "      <th>cyl_8</th>\n",
       "      <th>0</th>\n",
       "      <th>1</th>\n",
       "    </tr>\n",
       "    <tr>\n",
       "      <th>class_2seater</th>\n",
       "      <th></th>\n",
       "      <th></th>\n",
       "    </tr>\n",
       "  </thead>\n",
       "  <tbody>\n",
       "    <tr>\n",
       "      <th>0</th>\n",
       "      <td>164</td>\n",
       "      <td>65</td>\n",
       "    </tr>\n",
       "    <tr>\n",
       "      <th>1</th>\n",
       "      <td>0</td>\n",
       "      <td>5</td>\n",
       "    </tr>\n",
       "  </tbody>\n",
       "</table>\n",
       "</div>"
      ],
      "text/plain": [
       "cyl_8            0   1\n",
       "class_2seater         \n",
       "0              164  65\n",
       "1                0   5"
      ]
     },
     "execution_count": 82,
     "metadata": {},
     "output_type": "execute_result"
    }
   ],
   "source": [
    "# create a variable that is a 1 if a vehicle is a 2 seater, and a 0 otherwise.\n",
    "mpg['class_2seater'] = (mpg['class'] == '2seater').astype('int')\n",
    "\n",
    "# create a variable that is a 1 if the vehicle is 8 cylinders and a 0 otherwise. \n",
    "mpg['cyl_8'] = (mpg['cyl'] == 8).astype('int')\n",
    "\n",
    "# generate a crosstab of these 2 new variables\n",
    "observed = pd.crosstab(mpg['class_2seater'], mpg['cyl_8'])\n",
    "\n",
    "observed"
   ]
  },
  {
   "cell_type": "code",
   "execution_count": 83,
   "metadata": {},
   "outputs": [],
   "source": [
    "# run chi-square test\n",
    "chi2, p, degf, expected = stats.chi2_contingency(observed)"
   ]
  },
  {
   "cell_type": "code",
   "execution_count": 84,
   "metadata": {},
   "outputs": [
    {
     "name": "stdout",
     "output_type": "stream",
     "text": [
      "There exists some relationship between 2 seater cars and the 8 cylinders. (p-value: 0.0030157710558452104)\n"
     ]
    }
   ],
   "source": [
    "# evaluate results\n",
    "eval_results(p, alpha, group1='2 seater cars', group2='8 cylinders')"
   ]
  },
  {
   "cell_type": "markdown",
   "metadata": {},
   "source": [
    "Compare one more interesting group: SUVs and 8-cylinders. We have already created the 8-cylinder boolean variable, so we just need to create a boolean variable for SUV. "
   ]
  },
  {
   "cell_type": "code",
   "execution_count": 85,
   "metadata": {},
   "outputs": [
    {
     "data": {
      "text/html": [
       "<div>\n",
       "<style scoped>\n",
       "    .dataframe tbody tr th:only-of-type {\n",
       "        vertical-align: middle;\n",
       "    }\n",
       "\n",
       "    .dataframe tbody tr th {\n",
       "        vertical-align: top;\n",
       "    }\n",
       "\n",
       "    .dataframe thead th {\n",
       "        text-align: right;\n",
       "    }\n",
       "</style>\n",
       "<table border=\"1\" class=\"dataframe\">\n",
       "  <thead>\n",
       "    <tr style=\"text-align: right;\">\n",
       "      <th>cyl_8</th>\n",
       "      <th>0</th>\n",
       "      <th>1</th>\n",
       "    </tr>\n",
       "    <tr>\n",
       "      <th>class_SUV</th>\n",
       "      <th></th>\n",
       "      <th></th>\n",
       "    </tr>\n",
       "  </thead>\n",
       "  <tbody>\n",
       "    <tr>\n",
       "      <th>0</th>\n",
       "      <td>140</td>\n",
       "      <td>32</td>\n",
       "    </tr>\n",
       "    <tr>\n",
       "      <th>1</th>\n",
       "      <td>24</td>\n",
       "      <td>38</td>\n",
       "    </tr>\n",
       "  </tbody>\n",
       "</table>\n",
       "</div>"
      ],
      "text/plain": [
       "cyl_8        0   1\n",
       "class_SUV         \n",
       "0          140  32\n",
       "1           24  38"
      ]
     },
     "execution_count": 85,
     "metadata": {},
     "output_type": "execute_result"
    }
   ],
   "source": [
    "# create a new variable that is a 1 if the class is an SUV and a 0 otherwise. \n",
    "mpg['class_SUV'] = (mpg['class'] == 'suv').astype('int')\n",
    "\n",
    "# generate a crosstab\n",
    "observed = pd.crosstab(mpg.class_SUV, mpg.cyl_8)\n",
    "observed"
   ]
  },
  {
   "cell_type": "code",
   "execution_count": 86,
   "metadata": {},
   "outputs": [
    {
     "name": "stdout",
     "output_type": "stream",
     "text": [
      "There exists some relationship between SUVs and the 8 cylinders. (p-value: 8.702491537516895e-10)\n"
     ]
    }
   ],
   "source": [
    "# run chi-square test\n",
    "chi2, p, degf, expected = stats.chi2_contingency(observed)\n",
    "\n",
    "# evaluate results\n",
    "eval_results(p, alpha, group1='SUVs', group2='8 cylinders')"
   ]
  },
  {
   "cell_type": "markdown",
   "metadata": {},
   "source": [
    "I can repeat these steps to evaluate each interesting group I came up with in my analysis of the expected vs. the observed to verify significant relationships. If the stakes are low, I can also choose to verify the groups that seem the least obvious (taking into account the difference of the values AND the sample size), and if those are significant, then we can assume probably pretty safely, that the other interesting groups are significant. "
   ]
  },
  {
   "cell_type": "markdown",
   "metadata": {},
   "source": [
    "<hr style=\"border:2px solid gray\">\n",
    "\n",
    "## Exercises\n",
    "\n",
    "Continue working in your `hypothesis_testing` notebook.\n",
    "\n",
    "1. Answer with the type of stats test you would use (assume normal distribution): \n",
    "\n",
    "    - Do students get better test grades if they have a rubber duck on their desk?\n",
    "    - Does smoking affect when or not someone has lung cancer? \n",
    "    - Is gender independent of a person’s blood type?\n",
    "    - A farming company wants to know if a new fertilizer has improved crop yield or not\n",
    "    - Does the length of time of the lecture correlate with a students grade? \n",
    "    - Do people with dogs live in apartments more than people with cats? \n",
    "\n",
    "\n",
    "2. Use the following contingency table to help answer the question of whether using a macbook and being a codeup student are independent of each other.\n",
    "\n",
    "    |               &nbsp;     | Codeup Student | Not Codeup Student |\n",
    "    | --------------------- | -------------- | ------------------ |\n",
    "    | Uses a Macbook        | 49             | 20                 |\n",
    "    | Doesn't Use A Macbook | 1              | 30                 |\n",
    "\n",
    "\n",
    "3. Choose another 2 categorical variables from the `mpg` dataset and perform a $chi^2$ contingency table test with them. Be sure to state your null and alternative hypotheses.\n",
    "\n",
    "\n",
    "4. Use the data from the employees database to answer these questions:\n",
    "\n",
    "    - Is an employee's gender independent of whether an employee works in sales or marketing? (only look at current employees)\n",
    "    - Is an employee's gender independent of whether or not they are or have been a manager?"
   ]
  },
  {
   "cell_type": "markdown",
   "metadata": {},
   "source": [
    "<hr style=\"border:2px solid gray\">\n",
    "\n",
    "## Bonus Content\n",
    "\n",
    "### Manual Calculation, Example 1\n",
    "\n",
    "For this example, we will look at the dataset on cars that we explored previously.\n",
    "\n",
    "As we did above, we will investigate the question of whether the cars drive is independent of transmission type.\n",
    "\n",
    "- $H_{0}$ (Null Hypothesis): drive is independent of transmission type. \n",
    "\n",
    "- $H_{a}$ (Alternative Hypothesis): drive is dependent on transmission type. "
   ]
  },
  {
   "cell_type": "code",
   "execution_count": 30,
   "metadata": {},
   "outputs": [
    {
     "data": {
      "text/html": [
       "<div>\n",
       "<style scoped>\n",
       "    .dataframe tbody tr th:only-of-type {\n",
       "        vertical-align: middle;\n",
       "    }\n",
       "\n",
       "    .dataframe tbody tr th {\n",
       "        vertical-align: top;\n",
       "    }\n",
       "\n",
       "    .dataframe thead th {\n",
       "        text-align: right;\n",
       "    }\n",
       "</style>\n",
       "<table border=\"1\" class=\"dataframe\">\n",
       "  <thead>\n",
       "    <tr style=\"text-align: right;\">\n",
       "      <th></th>\n",
       "      <th>manufacturer</th>\n",
       "      <th>model</th>\n",
       "      <th>displ</th>\n",
       "      <th>year</th>\n",
       "      <th>cyl</th>\n",
       "      <th>trans</th>\n",
       "      <th>drv</th>\n",
       "      <th>cty</th>\n",
       "      <th>hwy</th>\n",
       "      <th>fl</th>\n",
       "      <th>class</th>\n",
       "      <th>transmission</th>\n",
       "    </tr>\n",
       "  </thead>\n",
       "  <tbody>\n",
       "    <tr>\n",
       "      <th>1</th>\n",
       "      <td>audi</td>\n",
       "      <td>a4</td>\n",
       "      <td>1.8</td>\n",
       "      <td>1999</td>\n",
       "      <td>4</td>\n",
       "      <td>auto(l5)</td>\n",
       "      <td>f</td>\n",
       "      <td>18</td>\n",
       "      <td>29</td>\n",
       "      <td>p</td>\n",
       "      <td>compact</td>\n",
       "      <td>auto</td>\n",
       "    </tr>\n",
       "    <tr>\n",
       "      <th>2</th>\n",
       "      <td>audi</td>\n",
       "      <td>a4</td>\n",
       "      <td>1.8</td>\n",
       "      <td>1999</td>\n",
       "      <td>4</td>\n",
       "      <td>manual(m5)</td>\n",
       "      <td>f</td>\n",
       "      <td>21</td>\n",
       "      <td>29</td>\n",
       "      <td>p</td>\n",
       "      <td>compact</td>\n",
       "      <td>manual</td>\n",
       "    </tr>\n",
       "    <tr>\n",
       "      <th>3</th>\n",
       "      <td>audi</td>\n",
       "      <td>a4</td>\n",
       "      <td>2.0</td>\n",
       "      <td>2008</td>\n",
       "      <td>4</td>\n",
       "      <td>manual(m6)</td>\n",
       "      <td>f</td>\n",
       "      <td>20</td>\n",
       "      <td>31</td>\n",
       "      <td>p</td>\n",
       "      <td>compact</td>\n",
       "      <td>manual</td>\n",
       "    </tr>\n",
       "    <tr>\n",
       "      <th>4</th>\n",
       "      <td>audi</td>\n",
       "      <td>a4</td>\n",
       "      <td>2.0</td>\n",
       "      <td>2008</td>\n",
       "      <td>4</td>\n",
       "      <td>auto(av)</td>\n",
       "      <td>f</td>\n",
       "      <td>21</td>\n",
       "      <td>30</td>\n",
       "      <td>p</td>\n",
       "      <td>compact</td>\n",
       "      <td>auto</td>\n",
       "    </tr>\n",
       "    <tr>\n",
       "      <th>5</th>\n",
       "      <td>audi</td>\n",
       "      <td>a4</td>\n",
       "      <td>2.8</td>\n",
       "      <td>1999</td>\n",
       "      <td>6</td>\n",
       "      <td>auto(l5)</td>\n",
       "      <td>f</td>\n",
       "      <td>16</td>\n",
       "      <td>26</td>\n",
       "      <td>p</td>\n",
       "      <td>compact</td>\n",
       "      <td>auto</td>\n",
       "    </tr>\n",
       "  </tbody>\n",
       "</table>\n",
       "</div>"
      ],
      "text/plain": [
       "  manufacturer model  displ  year  cyl       trans drv  cty  hwy fl    class  \\\n",
       "1         audi    a4    1.8  1999    4    auto(l5)   f   18   29  p  compact   \n",
       "2         audi    a4    1.8  1999    4  manual(m5)   f   21   29  p  compact   \n",
       "3         audi    a4    2.0  2008    4  manual(m6)   f   20   31  p  compact   \n",
       "4         audi    a4    2.0  2008    4    auto(av)   f   21   30  p  compact   \n",
       "5         audi    a4    2.8  1999    6    auto(l5)   f   16   26  p  compact   \n",
       "\n",
       "  transmission  \n",
       "1         auto  \n",
       "2       manual  \n",
       "3       manual  \n",
       "4         auto  \n",
       "5         auto  "
      ]
     },
     "execution_count": 30,
     "metadata": {},
     "output_type": "execute_result"
    }
   ],
   "source": [
    "mpg = data('mpg')\n",
    "mpg['transmission'] = mpg.trans.str[:-4] # a little cleaning goes a long way\n",
    "mpg.head()"
   ]
  },
  {
   "cell_type": "markdown",
   "metadata": {},
   "source": [
    "**Expected Values**\n",
    "\n",
    "To begin with, we will calculate the values we would expect to see if the two groups are independent.\n",
    "\n",
    "For each subgroup, we calculate the proportion of the total that it is, then multiply each subgroups proportion by the proportion from every other subgroup to determine the expected values.\n",
    "\n",
    "To start with, we'll calculate the proportions for transmission type:"
   ]
  },
  {
   "cell_type": "code",
   "execution_count": 4,
   "metadata": {},
   "outputs": [
    {
     "data": {
      "text/plain": [
       "auto      0.67094\n",
       "manual    0.32906\n",
       "Name: transmission, dtype: float64"
      ]
     },
     "execution_count": 4,
     "metadata": {},
     "output_type": "execute_result"
    }
   ],
   "source": [
    "n = mpg.shape[0]\n",
    "\n",
    "transmission_proportions = mpg.transmission.value_counts() / n\n",
    "transmission_proportions"
   ]
  },
  {
   "cell_type": "markdown",
   "metadata": {},
   "source": [
    "This tells us that cars with automatic transmissions make up ~ 67% of the total, and cars with manual transmissions make up ~ 33% of the total.\n",
    "\n",
    "Now we'll do the same for drive types."
   ]
  },
  {
   "cell_type": "code",
   "execution_count": 5,
   "metadata": {},
   "outputs": [
    {
     "data": {
      "text/plain": [
       "f    0.452991\n",
       "4    0.440171\n",
       "r    0.106838\n",
       "Name: drv, dtype: float64"
      ]
     },
     "execution_count": 5,
     "metadata": {},
     "output_type": "execute_result"
    }
   ],
   "source": [
    "drive_proportions = mpg.drv.value_counts() / n\n",
    "drive_proportions"
   ]
  },
  {
   "cell_type": "markdown",
   "metadata": {},
   "source": [
    "To find the overall proportions, we multiply all the combinations of proportions together.\n",
    "\n",
    "For example, to find the expected proportion of automatic drive cars with 4-wheel drive, we would multiply those two proportions together.\n",
    "\n",
    "$$ .67 * .44 = .2984 $$\n",
    "\n",
    "So we would expect about 29.84% of the total cars to be automatic and 4-wheel drive.\n",
    "\n",
    "Below we show some code that will loop through all of the proportions and perform this calculation for all combinations of groups."
   ]
  },
  {
   "cell_type": "code",
   "execution_count": 6,
   "metadata": {},
   "outputs": [
    {
     "data": {
      "text/html": [
       "<div>\n",
       "<style scoped>\n",
       "    .dataframe tbody tr th:only-of-type {\n",
       "        vertical-align: middle;\n",
       "    }\n",
       "\n",
       "    .dataframe tbody tr th {\n",
       "        vertical-align: top;\n",
       "    }\n",
       "\n",
       "    .dataframe thead th {\n",
       "        text-align: right;\n",
       "    }\n",
       "</style>\n",
       "<table border=\"1\" class=\"dataframe\">\n",
       "  <thead>\n",
       "    <tr style=\"text-align: right;\">\n",
       "      <th></th>\n",
       "      <th>auto</th>\n",
       "      <th>manual</th>\n",
       "    </tr>\n",
       "  </thead>\n",
       "  <tbody>\n",
       "    <tr>\n",
       "      <th>4</th>\n",
       "      <td>0.295328</td>\n",
       "      <td>0.144843</td>\n",
       "    </tr>\n",
       "    <tr>\n",
       "      <th>f</th>\n",
       "      <td>0.303930</td>\n",
       "      <td>0.149061</td>\n",
       "    </tr>\n",
       "    <tr>\n",
       "      <th>r</th>\n",
       "      <td>0.071682</td>\n",
       "      <td>0.035156</td>\n",
       "    </tr>\n",
       "  </tbody>\n",
       "</table>\n",
       "</div>"
      ],
      "text/plain": [
       "       auto    manual\n",
       "4  0.295328  0.144843\n",
       "f  0.303930  0.149061\n",
       "r  0.071682  0.035156"
      ]
     },
     "execution_count": 6,
     "metadata": {},
     "output_type": "execute_result"
    }
   ],
   "source": [
    "expected = pd.DataFrame()\n",
    "\n",
    "for transmission_group, t_prop in transmission_proportions.iteritems():\n",
    "    for drive_group, d_prop in drive_proportions.iteritems():\n",
    "        expected.loc[drive_group, transmission_group] = t_prop * d_prop\n",
    "\n",
    "expected.sort_index(inplace=True)\n",
    "expected"
   ]
  },
  {
   "cell_type": "markdown",
   "metadata": {},
   "source": [
    "If we wanted to convert these proportions to expected number of values, we can multiply by the total number of observations:"
   ]
  },
  {
   "cell_type": "code",
   "execution_count": 7,
   "metadata": {},
   "outputs": [
    {
     "data": {
      "text/html": [
       "<div>\n",
       "<style scoped>\n",
       "    .dataframe tbody tr th:only-of-type {\n",
       "        vertical-align: middle;\n",
       "    }\n",
       "\n",
       "    .dataframe tbody tr th {\n",
       "        vertical-align: top;\n",
       "    }\n",
       "\n",
       "    .dataframe thead th {\n",
       "        text-align: right;\n",
       "    }\n",
       "</style>\n",
       "<table border=\"1\" class=\"dataframe\">\n",
       "  <thead>\n",
       "    <tr style=\"text-align: right;\">\n",
       "      <th></th>\n",
       "      <th>auto</th>\n",
       "      <th>manual</th>\n",
       "    </tr>\n",
       "  </thead>\n",
       "  <tbody>\n",
       "    <tr>\n",
       "      <th>4</th>\n",
       "      <td>69.106838</td>\n",
       "      <td>33.893162</td>\n",
       "    </tr>\n",
       "    <tr>\n",
       "      <th>f</th>\n",
       "      <td>71.119658</td>\n",
       "      <td>34.880342</td>\n",
       "    </tr>\n",
       "    <tr>\n",
       "      <th>r</th>\n",
       "      <td>16.773504</td>\n",
       "      <td>8.226496</td>\n",
       "    </tr>\n",
       "  </tbody>\n",
       "</table>\n",
       "</div>"
      ],
      "text/plain": [
       "        auto     manual\n",
       "4  69.106838  33.893162\n",
       "f  71.119658  34.880342\n",
       "r  16.773504   8.226496"
      ]
     },
     "execution_count": 7,
     "metadata": {},
     "output_type": "execute_result"
    }
   ],
   "source": [
    "expected *= n\n",
    "expected"
   ]
  },
  {
   "cell_type": "markdown",
   "metadata": {},
   "source": [
    "**Observed Values**\n",
    "\n",
    "Now we have the expected proportions, we need to calculate the actual proportions so that we can compare them. to do this, we'll use the `crosstab` function from pandas."
   ]
  },
  {
   "cell_type": "code",
   "execution_count": 8,
   "metadata": {},
   "outputs": [
    {
     "data": {
      "text/html": [
       "<div>\n",
       "<style scoped>\n",
       "    .dataframe tbody tr th:only-of-type {\n",
       "        vertical-align: middle;\n",
       "    }\n",
       "\n",
       "    .dataframe tbody tr th {\n",
       "        vertical-align: top;\n",
       "    }\n",
       "\n",
       "    .dataframe thead th {\n",
       "        text-align: right;\n",
       "    }\n",
       "</style>\n",
       "<table border=\"1\" class=\"dataframe\">\n",
       "  <thead>\n",
       "    <tr style=\"text-align: right;\">\n",
       "      <th>transmission</th>\n",
       "      <th>auto</th>\n",
       "      <th>manual</th>\n",
       "    </tr>\n",
       "    <tr>\n",
       "      <th>drv</th>\n",
       "      <th></th>\n",
       "      <th></th>\n",
       "    </tr>\n",
       "  </thead>\n",
       "  <tbody>\n",
       "    <tr>\n",
       "      <th>4</th>\n",
       "      <td>75</td>\n",
       "      <td>28</td>\n",
       "    </tr>\n",
       "    <tr>\n",
       "      <th>f</th>\n",
       "      <td>65</td>\n",
       "      <td>41</td>\n",
       "    </tr>\n",
       "    <tr>\n",
       "      <th>r</th>\n",
       "      <td>17</td>\n",
       "      <td>8</td>\n",
       "    </tr>\n",
       "  </tbody>\n",
       "</table>\n",
       "</div>"
      ],
      "text/plain": [
       "transmission  auto  manual\n",
       "drv                       \n",
       "4               75      28\n",
       "f               65      41\n",
       "r               17       8"
      ]
     },
     "execution_count": 8,
     "metadata": {},
     "output_type": "execute_result"
    }
   ],
   "source": [
    "observed = pd.crosstab(mpg.drv, mpg.transmission)\n",
    "observed"
   ]
  },
  {
   "cell_type": "markdown",
   "metadata": {},
   "source": [
    "**Calculate Chi-Square**\n",
    "\n",
    "Now we can calculate our test statistic, $\\chi^2$"
   ]
  },
  {
   "cell_type": "code",
   "execution_count": 9,
   "metadata": {},
   "outputs": [
    {
     "data": {
      "text/plain": [
       "3.136769245971112"
      ]
     },
     "execution_count": 9,
     "metadata": {},
     "output_type": "execute_result"
    }
   ],
   "source": [
    "chi2 = ((observed - expected)**2 / expected).values.sum()\n",
    "chi2"
   ]
  },
  {
   "cell_type": "markdown",
   "metadata": {},
   "source": [
    "We also need to find our degrees of freedom for the distribution. The degrees of freedom are given by:\n",
    "\n",
    "$$ (\\mbox{nrows} - 1) \\times (\\mbox{ncols} - 1) $$\n",
    "\n",
    "Where nrows and ncols are the number of rows and columns in our contingency table."
   ]
  },
  {
   "cell_type": "code",
   "execution_count": 10,
   "metadata": {},
   "outputs": [],
   "source": [
    "nrows, ncols = observed.shape\n",
    "\n",
    "degrees_of_freedom = (nrows - 1) * (ncols - 1)"
   ]
  },
  {
   "cell_type": "markdown",
   "metadata": {},
   "source": [
    "Now, based on the test statistic and degrees of freedom, we could lookup the corresponding p-value from a pre-calculated table, or use `scipy`'s chi2 distribution."
   ]
  },
  {
   "cell_type": "code",
   "execution_count": 11,
   "metadata": {},
   "outputs": [
    {
     "data": {
      "text/plain": [
       "0.20838152534979645"
      ]
     },
     "execution_count": 11,
     "metadata": {},
     "output_type": "execute_result"
    }
   ],
   "source": [
    "stats.chi2(degrees_of_freedom).sf(chi2)"
   ]
  },
  {
   "cell_type": "markdown",
   "metadata": {},
   "source": [
    "With this high of a p-value, we fail to reject our null hypothesis."
   ]
  },
  {
   "cell_type": "markdown",
   "metadata": {},
   "source": [
    "### Manual Calculation, Example 2\n",
    "\n",
    "**Observed Values**\n",
    "\n",
    "Suppose we have the following contingency table:\n",
    "\n",
    "| &nbsp;   | Product A | Product B |\n",
    "| -------- | --------- | --------- |\n",
    "| Churn    | 100       | 50        |\n",
    "| No Churn | 120       | 28        |\n",
    "\n",
    "And we want to know if a customer churning is independent of which product offering they have.\n",
    "\n",
    "**Expected Values**\n",
    "\n",
    "We have all the information that we need to run a $\\chi^2$ test, because we can calculate the population proportions from the above table.\n",
    "\n",
    "1. Find the proportions for Product A, Product B, Churn, and No Churn\n",
    "\n",
    "    | &nbsp;   | Product A | Product B | &nbsp; |\n",
    "    | -------- | --------- | --------- | ---    |\n",
    "    | Churn    | 100       | 50        | 150    |\n",
    "    | No Churn | 120       | 28        | 148    |\n",
    "    |          | 220       | 78        | 298    |\n",
    "    \n",
    "1. Calculate the proportions\n",
    "\n",
    "    - Product A = 220 / 298 = .738\n",
    "    - Product B = 78 / 298 = .262\n",
    "    - Churn = 150 / 298 = .503\n",
    "    - No churn = 148 / 298 = .497\n",
    "    \n",
    "1. Multiply these together to produce a contingency table of expected values\n",
    "\n",
    "    First we calculate proportions:\n",
    "\n",
    "    | &nbsp;   | Product A | Product B |\n",
    "    | ------   | --------- | --------- |\n",
    "    | Churn    | 0.372     | 0.132     |\n",
    "    | No Churn | 0.367     | 0.130     |\n",
    "    \n",
    "    Then we can also see the actual expected number:\n",
    "    \n",
    "    |          | Product A | Product B |\n",
    "    | -------  | --------- | --------- |\n",
    "    | Churn    | 110.7     | 39.3      |\n",
    "    | No Churn | 109.3     | 38.7      |\n",
    "\n",
    "**Calculate Chi-Square**\n",
    "\n",
    "1. Calculate the test statistic and compute a p-value"
   ]
  },
  {
   "cell_type": "code",
   "execution_count": 32,
   "metadata": {},
   "outputs": [
    {
     "name": "stdout",
     "output_type": "stream",
     "text": [
      "Observed\n",
      "          Product A  Product B\n",
      "Churn           100         50\n",
      "No Churn        120         28\n",
      "---\n",
      "Expected\n",
      "          Product A  Product B\n",
      "Churn       110.856     39.336\n",
      "No Churn    109.366     38.740\n",
      "---\n",
      "\n",
      "chi^2 = 7.9656\n",
      "p     = 0.0048\n"
     ]
    }
   ],
   "source": [
    "index = ['Churn', 'No Churn']\n",
    "columns = ['Product A', 'Product B']\n",
    "\n",
    "observed = pd.DataFrame([[100, 50], [120, 28]], index=index, columns=columns)\n",
    "n = observed.values.sum()\n",
    "\n",
    "expected = pd.DataFrame([[.372, .132], [.367, .130]], index=index, columns=columns) * n\n",
    "\n",
    "chi2 = ((observed - expected)**2 / expected).values.sum()\n",
    "\n",
    "nrows, ncols = observed.shape\n",
    "\n",
    "degrees_of_freedom = (nrows - 1) * (ncols - 1)\n",
    "\n",
    "p = stats.chi2(degrees_of_freedom).sf(chi2)\n",
    "\n",
    "print('Observed')\n",
    "print(observed)\n",
    "print('---\\nExpected')\n",
    "print(expected)\n",
    "print('---\\n')\n",
    "print(f'chi^2 = {chi2:.4f}')\n",
    "print(f'p     = {p:.4f}')"
   ]
  },
  {
   "cell_type": "code",
   "execution_count": 2,
   "metadata": {},
   "outputs": [],
   "source": [
    "from scipy import stats"
   ]
  },
  {
   "cell_type": "code",
   "execution_count": 3,
   "metadata": {},
   "outputs": [],
   "source": [
    "distr = stats.binom(618, .1)"
   ]
  },
  {
   "cell_type": "code",
   "execution_count": 7,
   "metadata": {},
   "outputs": [
    {
     "data": {
      "text/plain": [
       "0.0282555937033103"
      ]
     },
     "execution_count": 7,
     "metadata": {},
     "output_type": "execute_result"
    }
   ],
   "source": [
    "distr.pmf(70)"
   ]
  },
  {
   "cell_type": "code",
   "execution_count": null,
   "metadata": {},
   "outputs": [],
   "source": []
  }
 ],
 "metadata": {
  "kernelspec": {
   "display_name": "Python 3 (ipykernel)",
   "language": "python",
   "name": "python3"
  },
  "language_info": {
   "codemirror_mode": {
    "name": "ipython",
    "version": 3
   },
   "file_extension": ".py",
   "mimetype": "text/x-python",
   "name": "python",
   "nbconvert_exporter": "python",
   "pygments_lexer": "ipython3",
   "version": "3.9.13"
  }
 },
 "nbformat": 4,
 "nbformat_minor": 2
}
