{
 "cells": [
  {
   "cell_type": "code",
   "execution_count": 2,
   "id": "31ac6494",
   "metadata": {},
   "outputs": [],
   "source": [
    "%matplotlib inline\n",
    "import numpy as np\n",
    "import pandas as pd\n",
    "\n",
    "import viz # curriculum example visualizations\n",
    "\n",
    "np.random.seed(29)"
   ]
  },
  {
   "cell_type": "code",
   "execution_count": 3,
   "id": "7d5b6dcf",
   "metadata": {},
   "outputs": [],
   "source": [
    "n_trials = nrows = 10_000\n",
    "n_dice = ncols = 2"
   ]
  },
  {
   "cell_type": "code",
   "execution_count": 4,
   "id": "715ba95e",
   "metadata": {},
   "outputs": [
    {
     "data": {
      "text/plain": [
       "array([[6, 4],\n",
       "       [5, 6],\n",
       "       [3, 1],\n",
       "       ...,\n",
       "       [2, 5],\n",
       "       [1, 4],\n",
       "       [4, 6]])"
      ]
     },
     "execution_count": 4,
     "metadata": {},
     "output_type": "execute_result"
    }
   ],
   "source": [
    "rolls = np.random.choice([1, 2, 3, 4, 5, 6], n_trials * n_dice).reshape(nrows, ncols)\n",
    "rolls"
   ]
  },
  {
   "cell_type": "code",
   "execution_count": 8,
   "id": "dd46efef",
   "metadata": {},
   "outputs": [
    {
     "data": {
      "text/plain": [
       "0.1709"
      ]
     },
     "execution_count": 8,
     "metadata": {},
     "output_type": "execute_result"
    }
   ],
   "source": [
    "pd.DataFrame(rolls).apply(lambda pokemon: pokemon[0] == pokemon[1], axis = 1).mean()\n",
    "rolls = pd.DataFrame(rolls)\n",
    "# OR\n",
    "(rolls[0] == rolls[1]).mean()\n"
   ]
  },
  {
   "cell_type": "code",
   "execution_count": 9,
   "id": "12737d2b",
   "metadata": {},
   "outputs": [],
   "source": [
    "coin_trials = therows = 10_000\n",
    "coins = colus = 8"
   ]
  },
  {
   "cell_type": "code",
   "execution_count": 10,
   "id": "7ae00da9",
   "metadata": {},
   "outputs": [
    {
     "data": {
      "text/plain": [
       "array([[1, 1, 1, ..., 1, 0, 0],\n",
       "       [1, 1, 0, ..., 0, 0, 1],\n",
       "       [0, 1, 0, ..., 0, 0, 0],\n",
       "       ...,\n",
       "       [1, 0, 1, ..., 0, 0, 1],\n",
       "       [0, 1, 1, ..., 0, 0, 0],\n",
       "       [0, 1, 1, ..., 1, 0, 1]])"
      ]
     },
     "execution_count": 10,
     "metadata": {},
     "output_type": "execute_result"
    }
   ],
   "source": [
    "flips = np.random.choice([1, 0], coin_trials * coins).reshape(therows, colus)\n",
    "flips"
   ]
  },
  {
   "cell_type": "code",
   "execution_count": 14,
   "id": "283ab6d3",
   "metadata": {},
   "outputs": [
    {
     "data": {
      "text/html": [
       "<div>\n",
       "<style scoped>\n",
       "    .dataframe tbody tr th:only-of-type {\n",
       "        vertical-align: middle;\n",
       "    }\n",
       "\n",
       "    .dataframe tbody tr th {\n",
       "        vertical-align: top;\n",
       "    }\n",
       "\n",
       "    .dataframe thead th {\n",
       "        text-align: right;\n",
       "    }\n",
       "</style>\n",
       "<table border=\"1\" class=\"dataframe\">\n",
       "  <thead>\n",
       "    <tr style=\"text-align: right;\">\n",
       "      <th></th>\n",
       "      <th>0</th>\n",
       "      <th>1</th>\n",
       "      <th>2</th>\n",
       "      <th>3</th>\n",
       "      <th>4</th>\n",
       "      <th>5</th>\n",
       "      <th>6</th>\n",
       "      <th>7</th>\n",
       "    </tr>\n",
       "  </thead>\n",
       "  <tbody>\n",
       "    <tr>\n",
       "      <th>0</th>\n",
       "      <td>1</td>\n",
       "      <td>1</td>\n",
       "      <td>1</td>\n",
       "      <td>1</td>\n",
       "      <td>0</td>\n",
       "      <td>1</td>\n",
       "      <td>0</td>\n",
       "      <td>0</td>\n",
       "    </tr>\n",
       "    <tr>\n",
       "      <th>1</th>\n",
       "      <td>1</td>\n",
       "      <td>1</td>\n",
       "      <td>0</td>\n",
       "      <td>0</td>\n",
       "      <td>0</td>\n",
       "      <td>0</td>\n",
       "      <td>0</td>\n",
       "      <td>1</td>\n",
       "    </tr>\n",
       "    <tr>\n",
       "      <th>2</th>\n",
       "      <td>0</td>\n",
       "      <td>1</td>\n",
       "      <td>0</td>\n",
       "      <td>1</td>\n",
       "      <td>0</td>\n",
       "      <td>0</td>\n",
       "      <td>0</td>\n",
       "      <td>0</td>\n",
       "    </tr>\n",
       "    <tr>\n",
       "      <th>3</th>\n",
       "      <td>1</td>\n",
       "      <td>0</td>\n",
       "      <td>1</td>\n",
       "      <td>1</td>\n",
       "      <td>1</td>\n",
       "      <td>1</td>\n",
       "      <td>0</td>\n",
       "      <td>0</td>\n",
       "    </tr>\n",
       "    <tr>\n",
       "      <th>4</th>\n",
       "      <td>0</td>\n",
       "      <td>1</td>\n",
       "      <td>1</td>\n",
       "      <td>0</td>\n",
       "      <td>1</td>\n",
       "      <td>1</td>\n",
       "      <td>0</td>\n",
       "      <td>0</td>\n",
       "    </tr>\n",
       "    <tr>\n",
       "      <th>...</th>\n",
       "      <td>...</td>\n",
       "      <td>...</td>\n",
       "      <td>...</td>\n",
       "      <td>...</td>\n",
       "      <td>...</td>\n",
       "      <td>...</td>\n",
       "      <td>...</td>\n",
       "      <td>...</td>\n",
       "    </tr>\n",
       "    <tr>\n",
       "      <th>9995</th>\n",
       "      <td>0</td>\n",
       "      <td>0</td>\n",
       "      <td>0</td>\n",
       "      <td>0</td>\n",
       "      <td>1</td>\n",
       "      <td>1</td>\n",
       "      <td>1</td>\n",
       "      <td>0</td>\n",
       "    </tr>\n",
       "    <tr>\n",
       "      <th>9996</th>\n",
       "      <td>1</td>\n",
       "      <td>1</td>\n",
       "      <td>0</td>\n",
       "      <td>0</td>\n",
       "      <td>0</td>\n",
       "      <td>1</td>\n",
       "      <td>1</td>\n",
       "      <td>0</td>\n",
       "    </tr>\n",
       "    <tr>\n",
       "      <th>9997</th>\n",
       "      <td>1</td>\n",
       "      <td>0</td>\n",
       "      <td>1</td>\n",
       "      <td>1</td>\n",
       "      <td>1</td>\n",
       "      <td>0</td>\n",
       "      <td>0</td>\n",
       "      <td>1</td>\n",
       "    </tr>\n",
       "    <tr>\n",
       "      <th>9998</th>\n",
       "      <td>0</td>\n",
       "      <td>1</td>\n",
       "      <td>1</td>\n",
       "      <td>0</td>\n",
       "      <td>0</td>\n",
       "      <td>0</td>\n",
       "      <td>0</td>\n",
       "      <td>0</td>\n",
       "    </tr>\n",
       "    <tr>\n",
       "      <th>9999</th>\n",
       "      <td>0</td>\n",
       "      <td>1</td>\n",
       "      <td>1</td>\n",
       "      <td>1</td>\n",
       "      <td>1</td>\n",
       "      <td>1</td>\n",
       "      <td>0</td>\n",
       "      <td>1</td>\n",
       "    </tr>\n",
       "  </tbody>\n",
       "</table>\n",
       "<p>10000 rows × 8 columns</p>\n",
       "</div>"
      ],
      "text/plain": [
       "      0  1  2  3  4  5  6  7\n",
       "0     1  1  1  1  0  1  0  0\n",
       "1     1  1  0  0  0  0  0  1\n",
       "2     0  1  0  1  0  0  0  0\n",
       "3     1  0  1  1  1  1  0  0\n",
       "4     0  1  1  0  1  1  0  0\n",
       "...  .. .. .. .. .. .. .. ..\n",
       "9995  0  0  0  0  1  1  1  0\n",
       "9996  1  1  0  0  0  1  1  0\n",
       "9997  1  0  1  1  1  0  0  1\n",
       "9998  0  1  1  0  0  0  0  0\n",
       "9999  0  1  1  1  1  1  0  1\n",
       "\n",
       "[10000 rows x 8 columns]"
      ]
     },
     "execution_count": 14,
     "metadata": {},
     "output_type": "execute_result"
    }
   ],
   "source": [
    "flippers = pd.DataFrame(flips)\n",
    "flippers"
   ]
  },
  {
   "cell_type": "code",
   "execution_count": 15,
   "id": "343af960",
   "metadata": {},
   "outputs": [],
   "source": [
    "sum_of_heads = flips.sum(axis = 1)"
   ]
  },
  {
   "cell_type": "code",
   "execution_count": 16,
   "id": "3305e27e",
   "metadata": {},
   "outputs": [
    {
     "data": {
      "text/plain": [
       "array([5, 3, 2, ..., 5, 2, 6])"
      ]
     },
     "execution_count": 16,
     "metadata": {},
     "output_type": "execute_result"
    }
   ],
   "source": [
    "sum_of_heads"
   ]
  },
  {
   "cell_type": "code",
   "execution_count": 17,
   "id": "eb2b9ff3",
   "metadata": {},
   "outputs": [
    {
     "data": {
      "text/plain": [
       "array([False,  True, False, ..., False, False, False])"
      ]
     },
     "execution_count": 17,
     "metadata": {},
     "output_type": "execute_result"
    }
   ],
   "source": [
    "wins = sum_of_heads == 3\n",
    "wins"
   ]
  },
  {
   "cell_type": "code",
   "execution_count": 18,
   "id": "c4e35e9b",
   "metadata": {},
   "outputs": [
    {
     "data": {
      "text/plain": [
       "0.2203"
      ]
     },
     "execution_count": 18,
     "metadata": {},
     "output_type": "execute_result"
    }
   ],
   "source": [
    "prob_of_3 = wins.sum() / len(flips) #probability of getting exactly 3 heads\n",
    "prob_of_3"
   ]
  },
  {
   "cell_type": "code",
   "execution_count": 19,
   "id": "5f4fbd17",
   "metadata": {},
   "outputs": [
    {
     "data": {
      "text/plain": [
       "array([ True, False, False, ...,  True, False,  True])"
      ]
     },
     "execution_count": 19,
     "metadata": {},
     "output_type": "execute_result"
    }
   ],
   "source": [
    "prob_of_morethan3 = sum_of_heads > 3\n",
    "prob_of_morethan3#prob of not getting exactly 3"
   ]
  },
  {
   "cell_type": "code",
   "execution_count": 20,
   "id": "db15e643",
   "metadata": {},
   "outputs": [
    {
     "data": {
      "text/plain": [
       "0.634"
      ]
     },
     "execution_count": 20,
     "metadata": {},
     "output_type": "execute_result"
    }
   ],
   "source": [
    "morethan3 = prob_of_morethan3.sum() / len(flips)\n",
    "morethan3"
   ]
  },
  {
   "cell_type": "code",
   "execution_count": 24,
   "id": "4dbffe48",
   "metadata": {},
   "outputs": [
    {
     "data": {
      "text/plain": [
       "array([[3, 3],\n",
       "       [1, 2],\n",
       "       [2, 1],\n",
       "       ...,\n",
       "       [1, 3],\n",
       "       [4, 1],\n",
       "       [1, 3]])"
      ]
     },
     "execution_count": 24,
     "metadata": {},
     "output_type": "execute_result"
    }
   ],
   "source": [
    "board_trials = therowz = 10_000\n",
    "board = coluz = 2\n",
    "\n",
    "billboard = np.random.choice([1, 2, 3, 4], size = (therowz, coluz) )\n",
    "billboard"
   ]
  },
  {
   "cell_type": "code",
   "execution_count": 25,
   "id": "e6ccb4f0",
   "metadata": {},
   "outputs": [
    {
     "data": {
      "text/plain": [
       "0.0615"
      ]
     },
     "execution_count": 25,
     "metadata": {},
     "output_type": "execute_result"
    }
   ],
   "source": [
    "pd.DataFrame(billboard).apply(lambda pokemon: pokemon[0] == 1 and pokemon[1] == 1, axis = 1).mean()\n",
    "prob = ((billboards ==))\n",
    "# 1 is representing data science, looking for probability that value is [1,1]"
   ]
  },
  {
   "cell_type": "code",
   "execution_count": 32,
   "id": "974f0938",
   "metadata": {},
   "outputs": [],
   "source": [
    "\n",
    "poptarts = np.random.normal(3,1.5, size = (10000, 5))"
   ]
  },
  {
   "cell_type": "code",
   "execution_count": 33,
   "id": "15504d80",
   "metadata": {},
   "outputs": [
    {
     "data": {
      "text/plain": [
       "array([[3.06696805, 2.72580043, 0.33367121, 2.00844779, 2.42839291],\n",
       "       [1.18815214, 3.92820626, 3.33333382, 5.06720224, 6.11121198],\n",
       "       [3.25748224, 3.04468795, 3.72569868, 4.31770745, 1.05781537],\n",
       "       ...,\n",
       "       [3.68931411, 2.58839706, 0.40392614, 2.16813707, 3.89851978],\n",
       "       [3.44688503, 2.46455753, 1.95071876, 3.86839601, 4.51455574],\n",
       "       [2.81102752, 4.13033541, 3.7032912 , 2.46747314, 5.75184248]])"
      ]
     },
     "execution_count": 33,
     "metadata": {},
     "output_type": "execute_result"
    }
   ],
   "source": [
    "poptarts"
   ]
  },
  {
   "cell_type": "code",
   "execution_count": 34,
   "id": "14754b22",
   "metadata": {},
   "outputs": [],
   "source": [
    "totalpops = poptarts.sum(axis = 1)"
   ]
  },
  {
   "cell_type": "code",
   "execution_count": 35,
   "id": "60d04ffb",
   "metadata": {},
   "outputs": [],
   "source": [
    "totalpopsbool = totalpops <= 17"
   ]
  },
  {
   "cell_type": "code",
   "execution_count": 36,
   "id": "e46976ec",
   "metadata": {},
   "outputs": [],
   "source": [
    "probpops = totalpopsbool.sum()"
   ]
  },
  {
   "cell_type": "code",
   "execution_count": 37,
   "id": "a07b7e69",
   "metadata": {},
   "outputs": [
    {
     "data": {
      "text/plain": [
       "0.7266"
      ]
     },
     "execution_count": 37,
     "metadata": {},
     "output_type": "execute_result"
    }
   ],
   "source": [
    "probpops / 10000"
   ]
  },
  {
   "cell_type": "code",
   "execution_count": 38,
   "id": "34df250d",
   "metadata": {},
   "outputs": [],
   "source": [
    "men = np.random.normal(178, 8, size = 10000).reshape(10000,1)\n",
    "woman = np.random.normal(170, 6, size = 10000).reshape(10000,1)"
   ]
  },
  {
   "cell_type": "code",
   "execution_count": 39,
   "id": "1a59cab2",
   "metadata": {},
   "outputs": [
    {
     "data": {
      "text/plain": [
       "array([[176.70276788],\n",
       "       [184.10180978],\n",
       "       [172.03128384],\n",
       "       ...,\n",
       "       [175.8793068 ],\n",
       "       [170.63762865],\n",
       "       [173.34677996]])"
      ]
     },
     "execution_count": 39,
     "metadata": {},
     "output_type": "execute_result"
    }
   ],
   "source": [
    "men.reshape(10000,1)"
   ]
  },
  {
   "cell_type": "code",
   "execution_count": 40,
   "id": "dd3b2cdd",
   "metadata": {},
   "outputs": [
    {
     "data": {
      "text/plain": [
       "array([[166.54851864],\n",
       "       [175.63853867],\n",
       "       [159.6957338 ],\n",
       "       ...,\n",
       "       [157.04500923],\n",
       "       [168.1337882 ],\n",
       "       [175.32312393]])"
      ]
     },
     "execution_count": 40,
     "metadata": {},
     "output_type": "execute_result"
    }
   ],
   "source": [
    "woman.reshape(10000,1)"
   ]
  },
  {
   "cell_type": "code",
   "execution_count": 41,
   "id": "81a6ef30",
   "metadata": {},
   "outputs": [],
   "source": [
    "everything = np.append(men, woman, axis= 1)"
   ]
  },
  {
   "cell_type": "code",
   "execution_count": 123,
   "id": "202cef25",
   "metadata": {},
   "outputs": [
    {
     "data": {
      "text/plain": [
       "array([[174.52160558, 165.02109352],\n",
       "       [194.83559481, 170.99220578],\n",
       "       [170.36190057, 161.91209592],\n",
       "       ...,\n",
       "       [174.32249544, 175.99560128],\n",
       "       [169.61368611, 170.64541509],\n",
       "       [174.43904437, 164.02752927]])"
      ]
     },
     "execution_count": 123,
     "metadata": {},
     "output_type": "execute_result"
    }
   ],
   "source": [
    "everything"
   ]
  },
  {
   "cell_type": "code",
   "execution_count": 43,
   "id": "115a3a5e",
   "metadata": {},
   "outputs": [
    {
     "data": {
      "text/plain": [
       "0.2062"
      ]
     },
     "execution_count": 43,
     "metadata": {},
     "output_type": "execute_result"
    }
   ],
   "source": [
    "(woman > men).mean()"
   ]
  },
  {
   "cell_type": "code",
   "execution_count": 63,
   "id": "a3f89c8b",
   "metadata": {},
   "outputs": [
    {
     "data": {
      "text/plain": [
       "array([['p', 'p', 'p', ..., 'p', 'p', 'p'],\n",
       "       ['p', 'p', 'p', ..., 'p', 'p', 'p'],\n",
       "       ['p', 'p', 'p', ..., 'p', 'p', 'p'],\n",
       "       ...,\n",
       "       ['p', 'p', 'p', ..., 'p', 'p', 'p'],\n",
       "       ['p', 'p', 'p', ..., 'p', 'p', 'p'],\n",
       "       ['p', 'p', 'p', ..., 'p', 'p', 'p']], dtype='<U1')"
      ]
     },
     "execution_count": 63,
     "metadata": {},
     "output_type": "execute_result"
    }
   ],
   "source": [
    "wrong = np.random.choice(['p', 'f'], size =(10000, 50), p = [.996, .004])\n",
    "wrong"
   ]
  },
  {
   "cell_type": "code",
   "execution_count": 64,
   "id": "3bbd6281",
   "metadata": {},
   "outputs": [
    {
     "data": {
      "text/plain": [
       "0.1795"
      ]
     },
     "execution_count": 64,
     "metadata": {},
     "output_type": "execute_result"
    }
   ],
   "source": [
    "f = (wrong == 'f').sum(axis = 1)\n",
    "(f != 0).mean()"
   ]
  },
  {
   "cell_type": "code",
   "execution_count": 50,
   "id": "0025812c",
   "metadata": {},
   "outputs": [
    {
     "data": {
      "text/plain": [
       "0.2071"
      ]
     },
     "execution_count": 50,
     "metadata": {},
     "output_type": "execute_result"
    }
   ],
   "source": [
    "sumofeverything.mean() #probability that one out of 50 fails"
   ]
  },
  {
   "cell_type": "code",
   "execution_count": 65,
   "id": "f26944fc",
   "metadata": {},
   "outputs": [],
   "source": [
    "truck = np.random.choice([1, 0], 10000* 3, p = [.3, .7]).reshape(10000, 3)"
   ]
  },
  {
   "cell_type": "code",
   "execution_count": 66,
   "id": "6cfc637e",
   "metadata": {},
   "outputs": [],
   "source": [
    "notruck = truck.sum(axis = 1)"
   ]
  },
  {
   "cell_type": "code",
   "execution_count": 67,
   "id": "63d7e44b",
   "metadata": {},
   "outputs": [
    {
     "data": {
      "text/plain": [
       "array([2, 2, 1, ..., 2, 1, 1])"
      ]
     },
     "execution_count": 67,
     "metadata": {},
     "output_type": "execute_result"
    }
   ],
   "source": [
    "notruck"
   ]
  },
  {
   "cell_type": "code",
   "execution_count": 68,
   "id": "cd0de28e",
   "metadata": {},
   "outputs": [],
   "source": [
    "boolnotruck = notruck == 3"
   ]
  },
  {
   "cell_type": "code",
   "execution_count": 69,
   "id": "a668af78",
   "metadata": {},
   "outputs": [
    {
     "data": {
      "text/plain": [
       "0.0279"
      ]
     },
     "execution_count": 69,
     "metadata": {},
     "output_type": "execute_result"
    }
   ],
   "source": [
    "boolnotruck.mean() ## probability for food truck not being there"
   ]
  },
  {
   "cell_type": "code",
   "execution_count": 201,
   "id": "4e821094",
   "metadata": {},
   "outputs": [],
   "source": [
    "birthday = np.random.randint(1,366, size = [10000, 23])"
   ]
  },
  {
   "cell_type": "code",
   "execution_count": 202,
   "id": "1aee6d3b",
   "metadata": {},
   "outputs": [
    {
     "data": {
      "text/plain": [
       "array([[277,  17, 239, ..., 149, 273,  12],\n",
       "       [118, 314,  88, ..., 199, 286,   1],\n",
       "       [219, 167, 363, ..., 263, 151,  47],\n",
       "       ...,\n",
       "       [321,  48, 318, ..., 325, 258,  69],\n",
       "       [129, 192, 339, ..., 182,  58,  10],\n",
       "       [109, 235, 363, ..., 227, 279,  53]])"
      ]
     },
     "execution_count": 202,
     "metadata": {},
     "output_type": "execute_result"
    }
   ],
   "source": [
    "birthday"
   ]
  },
  {
   "cell_type": "code",
   "execution_count": 203,
   "id": "8e36171d",
   "metadata": {},
   "outputs": [],
   "source": [
    "birthdaydf = pd.DataFrame(birthday)"
   ]
  },
  {
   "cell_type": "code",
   "execution_count": 204,
   "id": "13d2311f",
   "metadata": {},
   "outputs": [],
   "source": [
    "arrayofbirthday = birthdaydf.nunique(axis = 1)"
   ]
  },
  {
   "cell_type": "code",
   "execution_count": 205,
   "id": "1c8e6023",
   "metadata": {},
   "outputs": [],
   "source": [
    "arrayofbirthdaybool = arrayofbirthday != 23"
   ]
  },
  {
   "cell_type": "code",
   "execution_count": 206,
   "id": "073517fe",
   "metadata": {},
   "outputs": [
    {
     "data": {
      "text/plain": [
       "0.5047"
      ]
     },
     "execution_count": 206,
     "metadata": {},
     "output_type": "execute_result"
    }
   ],
   "source": [
    "arrayofbirthdaybool.mean()"
   ]
  },
  {
   "cell_type": "code",
   "execution_count": 208,
   "id": "e58d784d",
   "metadata": {},
   "outputs": [
    {
     "data": {
      "text/plain": [
       "0.8861"
      ]
     },
     "execution_count": 208,
     "metadata": {},
     "output_type": "execute_result"
    }
   ],
   "source": [
    "birthday = np.random.randint(1,366, size = [10000, 40])\n",
    "birthdaydf = pd.DataFrame(birthday)\n",
    "arrayofbirthday = birthdaydf.nunique(axis = 1)\n",
    "arrayofbirthdaybool = arrayofbirthday != 40\n",
    "arrayofbirthdaybool.mean()"
   ]
  },
  {
   "cell_type": "code",
   "execution_count": null,
   "id": "aab12519",
   "metadata": {},
   "outputs": [],
   "source": []
  }
 ],
 "metadata": {
  "kernelspec": {
   "display_name": "Python 3 (ipykernel)",
   "language": "python",
   "name": "python3"
  },
  "language_info": {
   "codemirror_mode": {
    "name": "ipython",
    "version": 3
   },
   "file_extension": ".py",
   "mimetype": "text/x-python",
   "name": "python",
   "nbconvert_exporter": "python",
   "pygments_lexer": "ipython3",
   "version": "3.9.13"
  }
 },
 "nbformat": 4,
 "nbformat_minor": 5
}
