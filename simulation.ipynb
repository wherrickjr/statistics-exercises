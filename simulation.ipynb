{
 "cells": [
  {
   "cell_type": "code",
   "execution_count": 1,
   "id": "31ac6494",
   "metadata": {},
   "outputs": [],
   "source": [
    "%matplotlib inline\n",
    "import numpy as np\n",
    "import pandas as pd\n",
    "\n",
    "import viz # curriculum example visualizations\n",
    "\n",
    "np.random.seed(29)"
   ]
  },
  {
   "cell_type": "code",
   "execution_count": 3,
   "id": "7d5b6dcf",
   "metadata": {},
   "outputs": [],
   "source": [
    "n_trials = nrows = 10_000\n",
    "n_dice = ncols = 2"
   ]
  },
  {
   "cell_type": "code",
   "execution_count": 47,
   "id": "715ba95e",
   "metadata": {},
   "outputs": [
    {
     "data": {
      "text/plain": [
       "array([[3, 2],\n",
       "       [3, 3],\n",
       "       [6, 5],\n",
       "       ...,\n",
       "       [3, 6],\n",
       "       [5, 3],\n",
       "       [2, 6]])"
      ]
     },
     "execution_count": 47,
     "metadata": {},
     "output_type": "execute_result"
    }
   ],
   "source": [
    "rolls = np.random.choice([1, 2, 3, 4, 5, 6], n_trials * n_dice).reshape(nrows, ncols)\n",
    "rolls"
   ]
  },
  {
   "cell_type": "code",
   "execution_count": 53,
   "id": "dd46efef",
   "metadata": {},
   "outputs": [
    {
     "data": {
      "text/plain": [
       "0.1636"
      ]
     },
     "execution_count": 53,
     "metadata": {},
     "output_type": "execute_result"
    }
   ],
   "source": [
    "pd.DataFrame(rolls).apply(lambda pokemon: pokemon[0] == pokemon[1], axis = 1).mean()\n"
   ]
  },
  {
   "cell_type": "code",
   "execution_count": 54,
   "id": "12737d2b",
   "metadata": {},
   "outputs": [],
   "source": [
    "coin_trials = therows = 10_000\n",
    "coins = colus = 8"
   ]
  },
  {
   "cell_type": "code",
   "execution_count": 92,
   "id": "7ae00da9",
   "metadata": {},
   "outputs": [
    {
     "data": {
      "text/plain": [
       "array([[0, 0, 0, ..., 1, 1, 1],\n",
       "       [0, 1, 0, ..., 1, 1, 0],\n",
       "       [1, 1, 1, ..., 0, 0, 1],\n",
       "       ...,\n",
       "       [0, 0, 0, ..., 0, 1, 0],\n",
       "       [1, 1, 1, ..., 0, 1, 0],\n",
       "       [0, 1, 0, ..., 0, 0, 0]])"
      ]
     },
     "execution_count": 92,
     "metadata": {},
     "output_type": "execute_result"
    }
   ],
   "source": [
    "flips = np.random.choice([1, 0], coin_trials * coins).reshape(therows, colus)\n",
    "flips"
   ]
  },
  {
   "cell_type": "code",
   "execution_count": 89,
   "id": "343af960",
   "metadata": {},
   "outputs": [],
   "source": [
    "sum_of_heads = flips.sum(axis = 1)"
   ]
  },
  {
   "cell_type": "code",
   "execution_count": 71,
   "id": "3305e27e",
   "metadata": {},
   "outputs": [
    {
     "data": {
      "text/plain": [
       "array([4, 2, 3, ..., 3, 1, 3])"
      ]
     },
     "execution_count": 71,
     "metadata": {},
     "output_type": "execute_result"
    }
   ],
   "source": [
    "sum_of_heads"
   ]
  },
  {
   "cell_type": "code",
   "execution_count": 59,
   "id": "eb2b9ff3",
   "metadata": {},
   "outputs": [
    {
     "data": {
      "text/plain": [
       "array([False, False,  True, ...,  True, False,  True])"
      ]
     },
     "execution_count": 59,
     "metadata": {},
     "output_type": "execute_result"
    }
   ],
   "source": [
    "wins = sum_of_heads == 3\n",
    "wins"
   ]
  },
  {
   "cell_type": "code",
   "execution_count": 67,
   "id": "c4e35e9b",
   "metadata": {},
   "outputs": [
    {
     "data": {
      "text/plain": [
       "0.216"
      ]
     },
     "execution_count": 67,
     "metadata": {},
     "output_type": "execute_result"
    }
   ],
   "source": [
    "prob_of_3 = wins.sum() / len(flips) #probability of getting exactly 3 heads\n",
    "prob_of_3"
   ]
  },
  {
   "cell_type": "code",
   "execution_count": 72,
   "id": "5f4fbd17",
   "metadata": {},
   "outputs": [
    {
     "data": {
      "text/plain": [
       "array([ True, False, False, ..., False, False, False])"
      ]
     },
     "execution_count": 72,
     "metadata": {},
     "output_type": "execute_result"
    }
   ],
   "source": [
    "prob_of_morethan3 = sum_of_heads > 3\n",
    "prob_of_morethan3#prob of not getting exactly 3"
   ]
  },
  {
   "cell_type": "code",
   "execution_count": 75,
   "id": "db15e643",
   "metadata": {},
   "outputs": [
    {
     "data": {
      "text/plain": [
       "0.6349"
      ]
     },
     "execution_count": 75,
     "metadata": {},
     "output_type": "execute_result"
    }
   ],
   "source": [
    "morethan3 = prob_of_morethan3.sum() / len(flips)\n",
    "morethan3"
   ]
  },
  {
   "cell_type": "code",
   "execution_count": 77,
   "id": "4dbffe48",
   "metadata": {},
   "outputs": [
    {
     "data": {
      "text/plain": [
       "array([[3, 2],\n",
       "       [3, 2],\n",
       "       [2, 4],\n",
       "       ...,\n",
       "       [1, 4],\n",
       "       [4, 4],\n",
       "       [2, 2]])"
      ]
     },
     "execution_count": 77,
     "metadata": {},
     "output_type": "execute_result"
    }
   ],
   "source": [
    "board_trials = therowz = 10_000\n",
    "board = coluz = 2\n",
    "\n",
    "billboard = np.random.choice([1, 2, 3, 4], board_trials * board).reshape(therows,coluz )\n",
    "billboard"
   ]
  },
  {
   "cell_type": "code",
   "execution_count": 78,
   "id": "e6ccb4f0",
   "metadata": {},
   "outputs": [
    {
     "data": {
      "text/plain": [
       "0.0634"
      ]
     },
     "execution_count": 78,
     "metadata": {},
     "output_type": "execute_result"
    }
   ],
   "source": [
    "pd.DataFrame(billboard).apply(lambda pokemon: pokemon[0] == 1 and pokemon[1] == 1, axis = 1).mean()\n"
   ]
  },
  {
   "cell_type": "code",
   "execution_count": 104,
   "id": "974f0938",
   "metadata": {},
   "outputs": [],
   "source": [
    "\n",
    "poptarts = np.random.normal(3,1.5, size = (10000, 5))"
   ]
  },
  {
   "cell_type": "code",
   "execution_count": 105,
   "id": "15504d80",
   "metadata": {},
   "outputs": [
    {
     "data": {
      "text/plain": [
       "array([[ 0.63565608,  3.61970704,  2.58737182,  1.5595062 ,  3.91573503],\n",
       "       [ 2.41931668, -0.38375721,  3.95504159,  1.56119947,  1.26187081],\n",
       "       [ 3.92194047,  4.71487178,  5.64636429,  2.51485257,  4.67288591],\n",
       "       ...,\n",
       "       [ 3.91881848,  3.35010536,  2.2134699 ,  4.39687183,  1.14760491],\n",
       "       [ 4.86539384,  1.8336566 ,  2.30432303,  3.79749901,  2.21075286],\n",
       "       [ 2.25423333,  4.9863887 ,  4.29291325,  1.19785877,  2.98522091]])"
      ]
     },
     "execution_count": 105,
     "metadata": {},
     "output_type": "execute_result"
    }
   ],
   "source": [
    "poptarts"
   ]
  },
  {
   "cell_type": "code",
   "execution_count": 108,
   "id": "14754b22",
   "metadata": {},
   "outputs": [],
   "source": [
    "totalpops = poptarts.sum(axis = 1)"
   ]
  },
  {
   "cell_type": "code",
   "execution_count": 109,
   "id": "60d04ffb",
   "metadata": {},
   "outputs": [],
   "source": [
    "totalpopsbool = totalpops <= 17"
   ]
  },
  {
   "cell_type": "code",
   "execution_count": 111,
   "id": "e46976ec",
   "metadata": {},
   "outputs": [],
   "source": [
    "probpops = totalpopsbool.sum()"
   ]
  },
  {
   "cell_type": "code",
   "execution_count": 112,
   "id": "a07b7e69",
   "metadata": {},
   "outputs": [
    {
     "data": {
      "text/plain": [
       "0.7221"
      ]
     },
     "execution_count": 112,
     "metadata": {},
     "output_type": "execute_result"
    }
   ],
   "source": [
    "probpops / 10000"
   ]
  },
  {
   "cell_type": "code",
   "execution_count": 119,
   "id": "34df250d",
   "metadata": {},
   "outputs": [],
   "source": [
    "men = np.random.normal(178, 8, size = 10000).reshape(10000,1)\n",
    "woman = np.random.normal(170, 6, size = 10000).reshape(10000,1)"
   ]
  },
  {
   "cell_type": "code",
   "execution_count": 120,
   "id": "1a59cab2",
   "metadata": {},
   "outputs": [
    {
     "data": {
      "text/plain": [
       "array([[174.52160558],\n",
       "       [194.83559481],\n",
       "       [170.36190057],\n",
       "       ...,\n",
       "       [174.32249544],\n",
       "       [169.61368611],\n",
       "       [174.43904437]])"
      ]
     },
     "execution_count": 120,
     "metadata": {},
     "output_type": "execute_result"
    }
   ],
   "source": [
    "men.reshape(10000,1)"
   ]
  },
  {
   "cell_type": "code",
   "execution_count": 121,
   "id": "dd3b2cdd",
   "metadata": {},
   "outputs": [
    {
     "data": {
      "text/plain": [
       "array([[165.02109352],\n",
       "       [170.99220578],\n",
       "       [161.91209592],\n",
       "       ...,\n",
       "       [175.99560128],\n",
       "       [170.64541509],\n",
       "       [164.02752927]])"
      ]
     },
     "execution_count": 121,
     "metadata": {},
     "output_type": "execute_result"
    }
   ],
   "source": [
    "woman.reshape(10000,1)"
   ]
  },
  {
   "cell_type": "code",
   "execution_count": 122,
   "id": "81a6ef30",
   "metadata": {},
   "outputs": [],
   "source": [
    "everything = np.append(men, woman, axis= 1)"
   ]
  },
  {
   "cell_type": "code",
   "execution_count": 123,
   "id": "202cef25",
   "metadata": {},
   "outputs": [
    {
     "data": {
      "text/plain": [
       "array([[174.52160558, 165.02109352],\n",
       "       [194.83559481, 170.99220578],\n",
       "       [170.36190057, 161.91209592],\n",
       "       ...,\n",
       "       [174.32249544, 175.99560128],\n",
       "       [169.61368611, 170.64541509],\n",
       "       [174.43904437, 164.02752927]])"
      ]
     },
     "execution_count": 123,
     "metadata": {},
     "output_type": "execute_result"
    }
   ],
   "source": [
    "everything"
   ]
  },
  {
   "cell_type": "code",
   "execution_count": 125,
   "id": "115a3a5e",
   "metadata": {},
   "outputs": [
    {
     "data": {
      "text/plain": [
       "0.2156"
      ]
     },
     "execution_count": 125,
     "metadata": {},
     "output_type": "execute_result"
    }
   ],
   "source": [
    "pd.DataFrame(everything).apply(lambda hgh: hgh[0] < hgh[1], axis = 1).mean()\n"
   ]
  },
  {
   "cell_type": "code",
   "execution_count": 166,
   "id": "a3f89c8b",
   "metadata": {},
   "outputs": [],
   "source": [
    "wrong = np.random.choice([1, 0], 10000* 50, p = [.004, .996]).reshape(10000, 50)"
   ]
  },
  {
   "cell_type": "code",
   "execution_count": 167,
   "id": "3bbd6281",
   "metadata": {},
   "outputs": [],
   "source": [
    "sumofeverything = wrong.sum(axis = 1)"
   ]
  },
  {
   "cell_type": "code",
   "execution_count": 171,
   "id": "0025812c",
   "metadata": {},
   "outputs": [
    {
     "data": {
      "text/plain": [
       "0.2025"
      ]
     },
     "execution_count": 171,
     "metadata": {},
     "output_type": "execute_result"
    }
   ],
   "source": [
    "sumofeverything.mean() #probability that one out of 50 fails"
   ]
  },
  {
   "cell_type": "code",
   "execution_count": 172,
   "id": "f26944fc",
   "metadata": {},
   "outputs": [],
   "source": [
    "truck = np.random.choice([1, 0], 10000* 3, p = [.3, .7]).reshape(10000, 3)"
   ]
  },
  {
   "cell_type": "code",
   "execution_count": 176,
   "id": "6cfc637e",
   "metadata": {},
   "outputs": [],
   "source": [
    "notruck = truck.sum(axis = 1)"
   ]
  },
  {
   "cell_type": "code",
   "execution_count": 177,
   "id": "63d7e44b",
   "metadata": {},
   "outputs": [
    {
     "data": {
      "text/plain": [
       "array([2, 1, 0, ..., 0, 2, 0])"
      ]
     },
     "execution_count": 177,
     "metadata": {},
     "output_type": "execute_result"
    }
   ],
   "source": [
    "notruck"
   ]
  },
  {
   "cell_type": "code",
   "execution_count": 180,
   "id": "cd0de28e",
   "metadata": {},
   "outputs": [],
   "source": [
    "boolnotruck = notruck == 3"
   ]
  },
  {
   "cell_type": "code",
   "execution_count": 182,
   "id": "a668af78",
   "metadata": {},
   "outputs": [
    {
     "data": {
      "text/plain": [
       "0.0297"
      ]
     },
     "execution_count": 182,
     "metadata": {},
     "output_type": "execute_result"
    }
   ],
   "source": [
    "boolnotruck.mean() ## probability for food truck not being there"
   ]
  },
  {
   "cell_type": "code",
   "execution_count": 201,
   "id": "4e821094",
   "metadata": {},
   "outputs": [],
   "source": [
    "birthday = np.random.randint(1,366, size = [10000, 23])"
   ]
  },
  {
   "cell_type": "code",
   "execution_count": 202,
   "id": "1aee6d3b",
   "metadata": {},
   "outputs": [
    {
     "data": {
      "text/plain": [
       "array([[277,  17, 239, ..., 149, 273,  12],\n",
       "       [118, 314,  88, ..., 199, 286,   1],\n",
       "       [219, 167, 363, ..., 263, 151,  47],\n",
       "       ...,\n",
       "       [321,  48, 318, ..., 325, 258,  69],\n",
       "       [129, 192, 339, ..., 182,  58,  10],\n",
       "       [109, 235, 363, ..., 227, 279,  53]])"
      ]
     },
     "execution_count": 202,
     "metadata": {},
     "output_type": "execute_result"
    }
   ],
   "source": [
    "birthday"
   ]
  },
  {
   "cell_type": "code",
   "execution_count": 203,
   "id": "8e36171d",
   "metadata": {},
   "outputs": [],
   "source": [
    "birthdaydf = pd.DataFrame(birthday)"
   ]
  },
  {
   "cell_type": "code",
   "execution_count": 204,
   "id": "13d2311f",
   "metadata": {},
   "outputs": [],
   "source": [
    "arrayofbirthday = birthdaydf.nunique(axis = 1)"
   ]
  },
  {
   "cell_type": "code",
   "execution_count": 205,
   "id": "1c8e6023",
   "metadata": {},
   "outputs": [],
   "source": [
    "arrayofbirthdaybool = arrayofbirthday != 23"
   ]
  },
  {
   "cell_type": "code",
   "execution_count": 206,
   "id": "073517fe",
   "metadata": {},
   "outputs": [
    {
     "data": {
      "text/plain": [
       "0.5047"
      ]
     },
     "execution_count": 206,
     "metadata": {},
     "output_type": "execute_result"
    }
   ],
   "source": [
    "arrayofbirthdaybool.mean()"
   ]
  },
  {
   "cell_type": "code",
   "execution_count": 208,
   "id": "e58d784d",
   "metadata": {},
   "outputs": [
    {
     "data": {
      "text/plain": [
       "0.8861"
      ]
     },
     "execution_count": 208,
     "metadata": {},
     "output_type": "execute_result"
    }
   ],
   "source": [
    "birthday = np.random.randint(1,366, size = [10000, 40])\n",
    "birthdaydf = pd.DataFrame(birthday)\n",
    "arrayofbirthday = birthdaydf.nunique(axis = 1)\n",
    "arrayofbirthdaybool = arrayofbirthday != 40\n",
    "arrayofbirthdaybool.mean()"
   ]
  },
  {
   "cell_type": "code",
   "execution_count": null,
   "id": "aab12519",
   "metadata": {},
   "outputs": [],
   "source": []
  }
 ],
 "metadata": {
  "kernelspec": {
   "display_name": "Python 3 (ipykernel)",
   "language": "python",
   "name": "python3"
  },
  "language_info": {
   "codemirror_mode": {
    "name": "ipython",
    "version": 3
   },
   "file_extension": ".py",
   "mimetype": "text/x-python",
   "name": "python",
   "nbconvert_exporter": "python",
   "pygments_lexer": "ipython3",
   "version": "3.9.13"
  }
 },
 "nbformat": 4,
 "nbformat_minor": 5
}
