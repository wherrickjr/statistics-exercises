{
 "cells": [
  {
   "cell_type": "code",
   "execution_count": 1,
   "id": "31ac6494",
   "metadata": {},
   "outputs": [],
   "source": [
    "%matplotlib inline\n",
    "import numpy as np\n",
    "import pandas as pd\n",
    "\n",
    "import viz # curriculum example visualizations\n",
    "\n",
    "np.random.seed(29)"
   ]
  },
  {
   "cell_type": "code",
   "execution_count": 2,
   "id": "7d5b6dcf",
   "metadata": {},
   "outputs": [],
   "source": [
    "n_trials = nrows = 10_000\n",
    "n_dice = ncols = 2"
   ]
  },
  {
   "cell_type": "code",
   "execution_count": 3,
   "id": "715ba95e",
   "metadata": {},
   "outputs": [
    {
     "data": {
      "text/plain": [
       "array([[6, 4],\n",
       "       [5, 6],\n",
       "       [3, 1],\n",
       "       ...,\n",
       "       [2, 5],\n",
       "       [1, 4],\n",
       "       [4, 6]])"
      ]
     },
     "execution_count": 3,
     "metadata": {},
     "output_type": "execute_result"
    }
   ],
   "source": [
    "rolls = np.random.choice([1, 2, 3, 4, 5, 6], n_trials * n_dice).reshape(nrows, ncols)\n",
    "rolls"
   ]
  },
  {
   "cell_type": "code",
   "execution_count": 4,
   "id": "dd46efef",
   "metadata": {},
   "outputs": [
    {
     "data": {
      "text/plain": [
       "0.1709"
      ]
     },
     "execution_count": 4,
     "metadata": {},
     "output_type": "execute_result"
    }
   ],
   "source": [
    "pd.DataFrame(rolls).apply(lambda pokemon: pokemon[0] == pokemon[1], axis = 1).mean()\n",
    "rolls = pd.DataFrame(rolls)\n",
    "# OR\n",
    "(rolls[0] == rolls[1]).mean()\n"
   ]
  },
  {
   "cell_type": "code",
   "execution_count": 5,
   "id": "12737d2b",
   "metadata": {},
   "outputs": [],
   "source": [
    "coin_trials = therows = 10_000\n",
    "coins = colus = 8"
   ]
  },
  {
   "cell_type": "code",
   "execution_count": 6,
   "id": "7ae00da9",
   "metadata": {},
   "outputs": [
    {
     "data": {
      "text/plain": [
       "array([[1, 1, 1, ..., 1, 0, 0],\n",
       "       [1, 1, 0, ..., 0, 0, 1],\n",
       "       [0, 1, 0, ..., 0, 0, 0],\n",
       "       ...,\n",
       "       [1, 0, 1, ..., 0, 0, 1],\n",
       "       [0, 1, 1, ..., 0, 0, 0],\n",
       "       [0, 1, 1, ..., 1, 0, 1]])"
      ]
     },
     "execution_count": 6,
     "metadata": {},
     "output_type": "execute_result"
    }
   ],
   "source": [
    "flips = np.random.choice([1, 0], coin_trials * coins).reshape(therows, colus)\n",
    "flips"
   ]
  },
  {
   "cell_type": "code",
   "execution_count": 7,
   "id": "283ab6d3",
   "metadata": {},
   "outputs": [
    {
     "data": {
      "text/html": [
       "<div>\n",
       "<style scoped>\n",
       "    .dataframe tbody tr th:only-of-type {\n",
       "        vertical-align: middle;\n",
       "    }\n",
       "\n",
       "    .dataframe tbody tr th {\n",
       "        vertical-align: top;\n",
       "    }\n",
       "\n",
       "    .dataframe thead th {\n",
       "        text-align: right;\n",
       "    }\n",
       "</style>\n",
       "<table border=\"1\" class=\"dataframe\">\n",
       "  <thead>\n",
       "    <tr style=\"text-align: right;\">\n",
       "      <th></th>\n",
       "      <th>0</th>\n",
       "      <th>1</th>\n",
       "      <th>2</th>\n",
       "      <th>3</th>\n",
       "      <th>4</th>\n",
       "      <th>5</th>\n",
       "      <th>6</th>\n",
       "      <th>7</th>\n",
       "    </tr>\n",
       "  </thead>\n",
       "  <tbody>\n",
       "    <tr>\n",
       "      <th>0</th>\n",
       "      <td>1</td>\n",
       "      <td>1</td>\n",
       "      <td>1</td>\n",
       "      <td>1</td>\n",
       "      <td>0</td>\n",
       "      <td>1</td>\n",
       "      <td>0</td>\n",
       "      <td>0</td>\n",
       "    </tr>\n",
       "    <tr>\n",
       "      <th>1</th>\n",
       "      <td>1</td>\n",
       "      <td>1</td>\n",
       "      <td>0</td>\n",
       "      <td>0</td>\n",
       "      <td>0</td>\n",
       "      <td>0</td>\n",
       "      <td>0</td>\n",
       "      <td>1</td>\n",
       "    </tr>\n",
       "    <tr>\n",
       "      <th>2</th>\n",
       "      <td>0</td>\n",
       "      <td>1</td>\n",
       "      <td>0</td>\n",
       "      <td>1</td>\n",
       "      <td>0</td>\n",
       "      <td>0</td>\n",
       "      <td>0</td>\n",
       "      <td>0</td>\n",
       "    </tr>\n",
       "    <tr>\n",
       "      <th>3</th>\n",
       "      <td>1</td>\n",
       "      <td>0</td>\n",
       "      <td>1</td>\n",
       "      <td>1</td>\n",
       "      <td>1</td>\n",
       "      <td>1</td>\n",
       "      <td>0</td>\n",
       "      <td>0</td>\n",
       "    </tr>\n",
       "    <tr>\n",
       "      <th>4</th>\n",
       "      <td>0</td>\n",
       "      <td>1</td>\n",
       "      <td>1</td>\n",
       "      <td>0</td>\n",
       "      <td>1</td>\n",
       "      <td>1</td>\n",
       "      <td>0</td>\n",
       "      <td>0</td>\n",
       "    </tr>\n",
       "    <tr>\n",
       "      <th>...</th>\n",
       "      <td>...</td>\n",
       "      <td>...</td>\n",
       "      <td>...</td>\n",
       "      <td>...</td>\n",
       "      <td>...</td>\n",
       "      <td>...</td>\n",
       "      <td>...</td>\n",
       "      <td>...</td>\n",
       "    </tr>\n",
       "    <tr>\n",
       "      <th>9995</th>\n",
       "      <td>0</td>\n",
       "      <td>0</td>\n",
       "      <td>0</td>\n",
       "      <td>0</td>\n",
       "      <td>1</td>\n",
       "      <td>1</td>\n",
       "      <td>1</td>\n",
       "      <td>0</td>\n",
       "    </tr>\n",
       "    <tr>\n",
       "      <th>9996</th>\n",
       "      <td>1</td>\n",
       "      <td>1</td>\n",
       "      <td>0</td>\n",
       "      <td>0</td>\n",
       "      <td>0</td>\n",
       "      <td>1</td>\n",
       "      <td>1</td>\n",
       "      <td>0</td>\n",
       "    </tr>\n",
       "    <tr>\n",
       "      <th>9997</th>\n",
       "      <td>1</td>\n",
       "      <td>0</td>\n",
       "      <td>1</td>\n",
       "      <td>1</td>\n",
       "      <td>1</td>\n",
       "      <td>0</td>\n",
       "      <td>0</td>\n",
       "      <td>1</td>\n",
       "    </tr>\n",
       "    <tr>\n",
       "      <th>9998</th>\n",
       "      <td>0</td>\n",
       "      <td>1</td>\n",
       "      <td>1</td>\n",
       "      <td>0</td>\n",
       "      <td>0</td>\n",
       "      <td>0</td>\n",
       "      <td>0</td>\n",
       "      <td>0</td>\n",
       "    </tr>\n",
       "    <tr>\n",
       "      <th>9999</th>\n",
       "      <td>0</td>\n",
       "      <td>1</td>\n",
       "      <td>1</td>\n",
       "      <td>1</td>\n",
       "      <td>1</td>\n",
       "      <td>1</td>\n",
       "      <td>0</td>\n",
       "      <td>1</td>\n",
       "    </tr>\n",
       "  </tbody>\n",
       "</table>\n",
       "<p>10000 rows × 8 columns</p>\n",
       "</div>"
      ],
      "text/plain": [
       "      0  1  2  3  4  5  6  7\n",
       "0     1  1  1  1  0  1  0  0\n",
       "1     1  1  0  0  0  0  0  1\n",
       "2     0  1  0  1  0  0  0  0\n",
       "3     1  0  1  1  1  1  0  0\n",
       "4     0  1  1  0  1  1  0  0\n",
       "...  .. .. .. .. .. .. .. ..\n",
       "9995  0  0  0  0  1  1  1  0\n",
       "9996  1  1  0  0  0  1  1  0\n",
       "9997  1  0  1  1  1  0  0  1\n",
       "9998  0  1  1  0  0  0  0  0\n",
       "9999  0  1  1  1  1  1  0  1\n",
       "\n",
       "[10000 rows x 8 columns]"
      ]
     },
     "execution_count": 7,
     "metadata": {},
     "output_type": "execute_result"
    }
   ],
   "source": [
    "flippers = pd.DataFrame(flips)\n",
    "flippers"
   ]
  },
  {
   "cell_type": "code",
   "execution_count": 8,
   "id": "343af960",
   "metadata": {},
   "outputs": [],
   "source": [
    "sum_of_heads = flips.sum(axis = 1)"
   ]
  },
  {
   "cell_type": "code",
   "execution_count": 9,
   "id": "3305e27e",
   "metadata": {},
   "outputs": [
    {
     "data": {
      "text/plain": [
       "array([5, 3, 2, ..., 5, 2, 6])"
      ]
     },
     "execution_count": 9,
     "metadata": {},
     "output_type": "execute_result"
    }
   ],
   "source": [
    "sum_of_heads"
   ]
  },
  {
   "cell_type": "code",
   "execution_count": 10,
   "id": "eb2b9ff3",
   "metadata": {},
   "outputs": [
    {
     "data": {
      "text/plain": [
       "array([False,  True, False, ..., False, False, False])"
      ]
     },
     "execution_count": 10,
     "metadata": {},
     "output_type": "execute_result"
    }
   ],
   "source": [
    "wins = sum_of_heads == 3\n",
    "wins"
   ]
  },
  {
   "cell_type": "code",
   "execution_count": 11,
   "id": "c4e35e9b",
   "metadata": {},
   "outputs": [
    {
     "data": {
      "text/plain": [
       "0.2203"
      ]
     },
     "execution_count": 11,
     "metadata": {},
     "output_type": "execute_result"
    }
   ],
   "source": [
    "prob_of_3 = wins.sum() / len(flips) #probability of getting exactly 3 heads\n",
    "prob_of_3"
   ]
  },
  {
   "cell_type": "code",
   "execution_count": 12,
   "id": "5f4fbd17",
   "metadata": {},
   "outputs": [
    {
     "data": {
      "text/plain": [
       "array([ True, False, False, ...,  True, False,  True])"
      ]
     },
     "execution_count": 12,
     "metadata": {},
     "output_type": "execute_result"
    }
   ],
   "source": [
    "prob_of_morethan3 = sum_of_heads > 3\n",
    "prob_of_morethan3#prob of not getting exactly 3"
   ]
  },
  {
   "cell_type": "code",
   "execution_count": 13,
   "id": "db15e643",
   "metadata": {},
   "outputs": [
    {
     "data": {
      "text/plain": [
       "0.634"
      ]
     },
     "execution_count": 13,
     "metadata": {},
     "output_type": "execute_result"
    }
   ],
   "source": [
    "morethan3 = prob_of_morethan3.sum() / len(flips)\n",
    "morethan3"
   ]
  },
  {
   "cell_type": "code",
   "execution_count": 14,
   "id": "4dbffe48",
   "metadata": {},
   "outputs": [
    {
     "data": {
      "text/plain": [
       "array([[3, 1],\n",
       "       [4, 2],\n",
       "       [2, 3],\n",
       "       ...,\n",
       "       [4, 4],\n",
       "       [3, 3],\n",
       "       [2, 4]])"
      ]
     },
     "execution_count": 14,
     "metadata": {},
     "output_type": "execute_result"
    }
   ],
   "source": [
    "board_trials = therowz = 10_000\n",
    "board = coluz = 2\n",
    "\n",
    "billboard = np.random.choice([1, 2, 3, 4], size = (therowz, coluz) )\n",
    "billboard"
   ]
  },
  {
   "cell_type": "code",
   "execution_count": 15,
   "id": "e6ccb4f0",
   "metadata": {},
   "outputs": [
    {
     "ename": "SyntaxError",
     "evalue": "invalid syntax (2186572987.py, line 2)",
     "output_type": "error",
     "traceback": [
      "\u001b[0;36m  File \u001b[0;32m\"/var/folders/9m/3m9g9yzs77j2m_79z47fjdr00000gq/T/ipykernel_2868/2186572987.py\"\u001b[0;36m, line \u001b[0;32m2\u001b[0m\n\u001b[0;31m    prob = ((billboards ==))\u001b[0m\n\u001b[0m                          ^\u001b[0m\n\u001b[0;31mSyntaxError\u001b[0m\u001b[0;31m:\u001b[0m invalid syntax\n"
     ]
    }
   ],
   "source": [
    "pd.DataFrame(billboard).apply(lambda pokemon: pokemon[0] == 1 and pokemon[1] == 1, axis = 1).mean()\n",
    "prob = ((billboards ==))\n",
    "# 1 is representing data science, looking for probability that value is [1,1]"
   ]
  },
  {
   "cell_type": "code",
   "execution_count": 16,
   "id": "974f0938",
   "metadata": {},
   "outputs": [],
   "source": [
    "\n",
    "poptarts = np.random.normal(3,1.5, size = (10000, 5))"
   ]
  },
  {
   "cell_type": "code",
   "execution_count": 17,
   "id": "15504d80",
   "metadata": {},
   "outputs": [
    {
     "data": {
      "text/plain": [
       "array([[ 2.17660638,  2.72031606,  2.0238791 ,  4.7537349 ,  2.29937696],\n",
       "       [ 3.79610758,  5.58941489,  3.72683434,  1.80951196,  1.71428793],\n",
       "       [ 4.44930284,  3.61403569,  1.58571653,  2.21080262,  3.64434626],\n",
       "       ...,\n",
       "       [ 4.56233367,  2.35883679,  3.49963421,  3.58742901,  0.07233886],\n",
       "       [ 4.23381359,  3.92889581, -0.2361074 ,  2.0350713 ,  2.37549413],\n",
       "       [ 2.9370665 ,  2.38902903,  3.45125795,  1.44752452, -0.33698129]])"
      ]
     },
     "execution_count": 17,
     "metadata": {},
     "output_type": "execute_result"
    }
   ],
   "source": [
    "poptarts"
   ]
  },
  {
   "cell_type": "code",
   "execution_count": 18,
   "id": "14754b22",
   "metadata": {},
   "outputs": [],
   "source": [
    "totalpops = poptarts.sum(axis = 1)"
   ]
  },
  {
   "cell_type": "code",
   "execution_count": 19,
   "id": "60d04ffb",
   "metadata": {},
   "outputs": [],
   "source": [
    "totalpopsbool = totalpops <= 17"
   ]
  },
  {
   "cell_type": "code",
   "execution_count": 20,
   "id": "e46976ec",
   "metadata": {},
   "outputs": [],
   "source": [
    "probpops = totalpopsbool.sum()"
   ]
  },
  {
   "cell_type": "code",
   "execution_count": 21,
   "id": "a07b7e69",
   "metadata": {},
   "outputs": [
    {
     "data": {
      "text/plain": [
       "0.7224"
      ]
     },
     "execution_count": 21,
     "metadata": {},
     "output_type": "execute_result"
    }
   ],
   "source": [
    "probpops / 10000"
   ]
  },
  {
   "cell_type": "code",
   "execution_count": 25,
   "id": "34df250d",
   "metadata": {},
   "outputs": [],
   "source": [
    "men = np.random.normal(178, 8, size = 10000).reshape(10000,1)\n",
    "woman = np.random.normal(170, 6, size = 10000).reshape(10000,1)"
   ]
  },
  {
   "cell_type": "code",
   "execution_count": 23,
   "id": "1a59cab2",
   "metadata": {},
   "outputs": [
    {
     "data": {
      "text/plain": [
       "array([[169.84019594],\n",
       "       [181.68093752],\n",
       "       [177.97438146],\n",
       "       ...,\n",
       "       [181.85533962],\n",
       "       [184.43997348],\n",
       "       [185.42499946]])"
      ]
     },
     "execution_count": 23,
     "metadata": {},
     "output_type": "execute_result"
    }
   ],
   "source": [
    "men.reshape(10000,1)"
   ]
  },
  {
   "cell_type": "code",
   "execution_count": 24,
   "id": "dd3b2cdd",
   "metadata": {},
   "outputs": [
    {
     "data": {
      "text/plain": [
       "array([[172.87601553],\n",
       "       [165.44788081],\n",
       "       [163.21784405],\n",
       "       ...,\n",
       "       [166.97689283],\n",
       "       [172.21732706],\n",
       "       [173.14877376]])"
      ]
     },
     "execution_count": 24,
     "metadata": {},
     "output_type": "execute_result"
    }
   ],
   "source": [
    "woman.reshape(10000,1)"
   ]
  },
  {
   "cell_type": "code",
   "execution_count": null,
   "id": "81a6ef30",
   "metadata": {},
   "outputs": [],
   "source": [
    "everything = np.append(men, woman, axis= 1)"
   ]
  },
  {
   "cell_type": "code",
   "execution_count": null,
   "id": "202cef25",
   "metadata": {},
   "outputs": [],
   "source": [
    "everything"
   ]
  },
  {
   "cell_type": "code",
   "execution_count": null,
   "id": "115a3a5e",
   "metadata": {},
   "outputs": [],
   "source": [
    "(woman > men).mean()"
   ]
  },
  {
   "cell_type": "code",
   "execution_count": null,
   "id": "a3f89c8b",
   "metadata": {},
   "outputs": [],
   "source": [
    "wrong = np.random.choice(['p', 'f'], size =(10000, 50), p = [.996, .004])\n",
    "wrong"
   ]
  },
  {
   "cell_type": "code",
   "execution_count": null,
   "id": "3bbd6281",
   "metadata": {},
   "outputs": [],
   "source": [
    "f = (wrong == 'f').sum(axis = 1)\n",
    "(f != 0).mean()"
   ]
  },
  {
   "cell_type": "code",
   "execution_count": null,
   "id": "0025812c",
   "metadata": {},
   "outputs": [],
   "source": [
    "sumofeverything.mean() #probability that one out of 50 fails"
   ]
  },
  {
   "cell_type": "code",
   "execution_count": null,
   "id": "f26944fc",
   "metadata": {},
   "outputs": [],
   "source": [
    "truck = np.random.choice([1, 0], 10000* 3, p = [.3, .7]).reshape(10000, 3)"
   ]
  },
  {
   "cell_type": "code",
   "execution_count": null,
   "id": "6cfc637e",
   "metadata": {},
   "outputs": [],
   "source": [
    "notruck = truck.sum(axis = 1)"
   ]
  },
  {
   "cell_type": "code",
   "execution_count": null,
   "id": "63d7e44b",
   "metadata": {},
   "outputs": [],
   "source": [
    "notruck"
   ]
  },
  {
   "cell_type": "code",
   "execution_count": null,
   "id": "cd0de28e",
   "metadata": {},
   "outputs": [],
   "source": [
    "boolnotruck = notruck == 3"
   ]
  },
  {
   "cell_type": "code",
   "execution_count": null,
   "id": "a668af78",
   "metadata": {},
   "outputs": [],
   "source": [
    "boolnotruck.mean() ## probability for food truck not being there"
   ]
  },
  {
   "cell_type": "code",
   "execution_count": null,
   "id": "4e821094",
   "metadata": {},
   "outputs": [],
   "source": [
    "birthday = np.random.randint(1,366, size = [10000, 23])"
   ]
  },
  {
   "cell_type": "code",
   "execution_count": null,
   "id": "1aee6d3b",
   "metadata": {},
   "outputs": [],
   "source": [
    "birthday"
   ]
  },
  {
   "cell_type": "code",
   "execution_count": null,
   "id": "8e36171d",
   "metadata": {},
   "outputs": [],
   "source": [
    "birthdaydf = pd.DataFrame(birthday)"
   ]
  },
  {
   "cell_type": "code",
   "execution_count": null,
   "id": "13d2311f",
   "metadata": {},
   "outputs": [],
   "source": [
    "arrayofbirthday = birthdaydf.nunique(axis = 1)"
   ]
  },
  {
   "cell_type": "code",
   "execution_count": null,
   "id": "1c8e6023",
   "metadata": {},
   "outputs": [],
   "source": [
    "arrayofbirthdaybool = arrayofbirthday != 23"
   ]
  },
  {
   "cell_type": "code",
   "execution_count": null,
   "id": "073517fe",
   "metadata": {},
   "outputs": [],
   "source": [
    "arrayofbirthdaybool.mean()"
   ]
  },
  {
   "cell_type": "code",
   "execution_count": null,
   "id": "e58d784d",
   "metadata": {},
   "outputs": [],
   "source": [
    "birthday = np.random.randint(1,366, size = [10000, 40])\n",
    "birthdaydf = pd.DataFrame(birthday)\n",
    "arrayofbirthday = birthdaydf.nunique(axis = 1)\n",
    "arrayofbirthdaybool = arrayofbirthday != 40\n",
    "arrayofbirthdaybool.mean()"
   ]
  },
  {
   "cell_type": "code",
   "execution_count": null,
   "id": "aab12519",
   "metadata": {},
   "outputs": [],
   "source": []
  }
 ],
 "metadata": {
  "kernelspec": {
   "display_name": "Python 3 (ipykernel)",
   "language": "python",
   "name": "python3"
  },
  "language_info": {
   "codemirror_mode": {
    "name": "ipython",
    "version": 3
   },
   "file_extension": ".py",
   "mimetype": "text/x-python",
   "name": "python",
   "nbconvert_exporter": "python",
   "pygments_lexer": "ipython3",
   "version": "3.9.13"
  }
 },
 "nbformat": 4,
 "nbformat_minor": 5
}
