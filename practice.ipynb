{
 "cells": [
  {
   "cell_type": "code",
   "execution_count": 38,
   "id": "9865aaba",
   "metadata": {},
   "outputs": [],
   "source": [
    "\n",
    "%matplotlib inline\n",
    "import numpy as np\n",
    "import pandas as pd\n",
    "import matplotlib.pyplot as plt\n",
    "from scipy import stats\n",
    "import viz # curriculum example visualizations"
   ]
  },
  {
   "cell_type": "code",
   "execution_count": 18,
   "id": "dfe3fd5f",
   "metadata": {},
   "outputs": [],
   "source": [
    "men = np.random.choice([1, 2, 3, 4], size = [10000, 6])"
   ]
  },
  {
   "cell_type": "code",
   "execution_count": 29,
   "id": "808ed6c7",
   "metadata": {},
   "outputs": [],
   "source": [
    "mage1d = men.sum(axis = 1)\n",
    "x = mage1d.reshape(10000, 1)"
   ]
  },
  {
   "cell_type": "code",
   "execution_count": 30,
   "id": "e8da40c1",
   "metadata": {},
   "outputs": [
    {
     "data": {
      "text/plain": [
       "array([[4, 2, 1, 3],\n",
       "       [6, 6, 3, 6],\n",
       "       [3, 4, 4, 1],\n",
       "       ...,\n",
       "       [5, 1, 6, 5],\n",
       "       [4, 5, 5, 3],\n",
       "       [1, 1, 5, 6]])"
      ]
     },
     "execution_count": 30,
     "metadata": {},
     "output_type": "execute_result"
    }
   ],
   "source": [
    "mage2a = np.random.choice([1, 2, 3, 4, 5, 6], size = [10000, 4])\n",
    "mage2a"
   ]
  },
  {
   "cell_type": "code",
   "execution_count": 31,
   "id": "a937caca",
   "metadata": {},
   "outputs": [],
   "source": [
    "attack2 = mage2a.sum(axis = 1)"
   ]
  },
  {
   "cell_type": "code",
   "execution_count": 32,
   "id": "1395a206",
   "metadata": {},
   "outputs": [],
   "source": [
    "y = attack2.reshape(10000, 1)"
   ]
  },
  {
   "cell_type": "code",
   "execution_count": 33,
   "id": "87e08757",
   "metadata": {},
   "outputs": [],
   "source": [
    "m2attack1 = np.append(x, y, axis = 1)"
   ]
  },
  {
   "cell_type": "code",
   "execution_count": 34,
   "id": "3faf4f9d",
   "metadata": {},
   "outputs": [
    {
     "data": {
      "text/plain": [
       "array([[12, 10],\n",
       "       [13, 21],\n",
       "       [15, 12],\n",
       "       ...,\n",
       "       [15, 17],\n",
       "       [13, 17],\n",
       "       [11, 13]])"
      ]
     },
     "execution_count": 34,
     "metadata": {},
     "output_type": "execute_result"
    }
   ],
   "source": [
    "m2attack1"
   ]
  },
  {
   "cell_type": "code",
   "execution_count": 35,
   "id": "5f4ac0c8",
   "metadata": {},
   "outputs": [
    {
     "data": {
      "text/plain": [
       "0.3703"
      ]
     },
     "execution_count": 35,
     "metadata": {},
     "output_type": "execute_result"
    }
   ],
   "source": [
    "pd.DataFrame(m2attack1).apply(lambda hgh: hgh[0] < hgh[1], axis = 1).mean() \n",
    "# probability that mage 2 will beat mage 1\n"
   ]
  },
  {
   "cell_type": "code",
   "execution_count": 36,
   "id": "221949de",
   "metadata": {},
   "outputs": [
    {
     "data": {
      "text/plain": [
       "0.5415"
      ]
     },
     "execution_count": 36,
     "metadata": {},
     "output_type": "execute_result"
    }
   ],
   "source": [
    "pd.DataFrame(m2attack1).apply(lambda hgh: hgh[0] > hgh[1], axis = 1).mean()\n",
    "##"
   ]
  },
  {
   "cell_type": "markdown",
   "id": "de95e97b",
   "metadata": {},
   "source": [
    "# rvs - random value generation\n"
   ]
  },
  {
   "cell_type": "code",
   "execution_count": 40,
   "id": "0da13c2b",
   "metadata": {},
   "outputs": [],
   "source": [
    "dice_distribution = stats.randint(1,7)"
   ]
  },
  {
   "cell_type": "code",
   "execution_count": 50,
   "id": "df209dfc",
   "metadata": {},
   "outputs": [
    {
     "data": {
      "text/plain": [
       "array([2, 6, 6, 2, 1])"
      ]
     },
     "execution_count": 50,
     "metadata": {},
     "output_type": "execute_result"
    }
   ],
   "source": [
    "dice_distribution.rvs(5)"
   ]
  },
  {
   "cell_type": "code",
   "execution_count": 53,
   "id": "cc55dfb7",
   "metadata": {},
   "outputs": [
    {
     "data": {
      "text/plain": [
       "array([[4, 1, 1, 3, 4],\n",
       "       [4, 3, 6, 4, 1],\n",
       "       [6, 5, 6, 3, 5],\n",
       "       [1, 6, 4, 1, 6],\n",
       "       [3, 4, 2, 5, 3]])"
      ]
     },
     "execution_count": 53,
     "metadata": {},
     "output_type": "execute_result"
    }
   ],
   "source": [
    "##for a matrix, use dimension (row, col)\n",
    "dice_distribution.rvs((5,5))\n",
    "## rvs is a way to get a random sequence of numbers"
   ]
  },
  {
   "cell_type": "code",
   "execution_count": 59,
   "id": "35dcdfe7",
   "metadata": {},
   "outputs": [],
   "source": [
    "n = 10000000\n",
    "x = dice_distribution.rvs(n)"
   ]
  },
  {
   "cell_type": "code",
   "execution_count": 60,
   "id": "47a63374",
   "metadata": {},
   "outputs": [
    {
     "data": {
      "text/plain": [
       "array([2, 5, 5, ..., 2, 6, 5])"
      ]
     },
     "execution_count": 60,
     "metadata": {},
     "output_type": "execute_result"
    }
   ],
   "source": [
    "x"
   ]
  },
  {
   "cell_type": "code",
   "execution_count": 61,
   "id": "7af31a3e",
   "metadata": {},
   "outputs": [
    {
     "data": {
      "text/plain": [
       "Text(0.5, 1.0, 'Outcome of 10,000,000 Dice Rolls')"
      ]
     },
     "execution_count": 61,
     "metadata": {},
     "output_type": "execute_result"
    },
    {
     "data": {
      "image/png": "[encoded data removed]",
      "text/plain": [
       "<Figure size 900x600 with 1 Axes>"
      ]
     },
     "metadata": {},
     "output_type": "display_data"
    }
   ],
   "source": [
    "plt.hist(x, bins = range (0,9), align = 'left', width = 1, edgecolor = 'black')\n",
    "plt.title(f'Outcome of {n:,} Dice Rolls')"
   ]
  },
  {
   "cell_type": "code",
   "execution_count": 62,
   "id": "c67e4141",
   "metadata": {},
   "outputs": [
    {
     "data": {
      "text/plain": [
       "0.16666666666666666"
      ]
     },
     "execution_count": 62,
     "metadata": {},
     "output_type": "execute_result"
    }
   ],
   "source": [
    "## use pmf to find the probability that a roll = 3\n",
    "dice_distribution.pmf(3)"
   ]
  },
  {
   "cell_type": "code",
   "execution_count": null,
   "id": "2f5ea022",
   "metadata": {},
   "outputs": [],
   "source": []
  }
 ],
 "metadata": {
  "kernelspec": {
   "display_name": "Python 3 (ipykernel)",
   "language": "python",
   "name": "python3"
  },
  "language_info": {
   "codemirror_mode": {
    "name": "ipython",
    "version": 3
   },
   "file_extension": ".py",
   "mimetype": "text/x-python",
   "name": "python",
   "nbconvert_exporter": "python",
   "pygments_lexer": "ipython3",
   "version": "3.9.13"
  }
 },
 "nbformat": 4,
 "nbformat_minor": 5
}
