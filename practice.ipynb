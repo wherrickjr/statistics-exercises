{
 "cells": [
  {
   "cell_type": "code",
   "execution_count": 1,
   "id": "9865aaba",
   "metadata": {},
   "outputs": [],
   "source": [
    "\n",
    "%matplotlib inline\n",
    "import numpy as np\n",
    "import pandas as pd\n",
    "import matplotlib.pyplot as plt\n",
    "from scipy import stats\n",
    "import viz # curriculum example visualizations"
   ]
  },
  {
   "cell_type": "code",
   "execution_count": 2,
   "id": "dfe3fd5f",
   "metadata": {},
   "outputs": [],
   "source": [
    "men = np.random.choice([1, 2, 3, 4], size = [10000, 6])"
   ]
  },
  {
   "cell_type": "code",
   "execution_count": 3,
   "id": "808ed6c7",
   "metadata": {},
   "outputs": [],
   "source": [
    "mage1d = men.sum(axis = 1)\n",
    "x = mage1d.reshape(10000, 1)"
   ]
  },
  {
   "cell_type": "code",
   "execution_count": 4,
   "id": "e8da40c1",
   "metadata": {},
   "outputs": [
    {
     "data": {
      "text/plain": [
       "array([[6, 5, 3, 1],\n",
       "       [3, 2, 5, 2],\n",
       "       [3, 3, 2, 1],\n",
       "       ...,\n",
       "       [5, 3, 5, 6],\n",
       "       [2, 4, 2, 4],\n",
       "       [4, 4, 1, 3]])"
      ]
     },
     "execution_count": 4,
     "metadata": {},
     "output_type": "execute_result"
    }
   ],
   "source": [
    "mage2a = np.random.choice([1, 2, 3, 4, 5, 6], size = [10000, 4])\n",
    "mage2a"
   ]
  },
  {
   "cell_type": "code",
   "execution_count": 5,
   "id": "a937caca",
   "metadata": {},
   "outputs": [],
   "source": [
    "attack2 = mage2a.sum(axis = 1)"
   ]
  },
  {
   "cell_type": "code",
   "execution_count": 6,
   "id": "1395a206",
   "metadata": {},
   "outputs": [],
   "source": [
    "y = attack2.reshape(10000, 1)"
   ]
  },
  {
   "cell_type": "code",
   "execution_count": 7,
   "id": "87e08757",
   "metadata": {},
   "outputs": [],
   "source": [
    "m2attack1 = np.append(x, y, axis = 1)"
   ]
  },
  {
   "cell_type": "code",
   "execution_count": 8,
   "id": "3faf4f9d",
   "metadata": {},
   "outputs": [
    {
     "data": {
      "text/plain": [
       "array([[15, 15],\n",
       "       [20, 12],\n",
       "       [14,  9],\n",
       "       ...,\n",
       "       [11, 19],\n",
       "       [19, 12],\n",
       "       [12, 12]])"
      ]
     },
     "execution_count": 8,
     "metadata": {},
     "output_type": "execute_result"
    }
   ],
   "source": [
    "m2attack1"
   ]
  },
  {
   "cell_type": "code",
   "execution_count": 9,
   "id": "5f4ac0c8",
   "metadata": {},
   "outputs": [
    {
     "data": {
      "text/plain": [
       "0.3706"
      ]
     },
     "execution_count": 9,
     "metadata": {},
     "output_type": "execute_result"
    }
   ],
   "source": [
    "pd.DataFrame(m2attack1).apply(lambda hgh: hgh[0] < hgh[1], axis = 1).mean() \n",
    "# probability that mage 2 will beat mage 1\n"
   ]
  },
  {
   "cell_type": "code",
   "execution_count": 10,
   "id": "221949de",
   "metadata": {},
   "outputs": [
    {
     "data": {
      "text/plain": [
       "0.5413"
      ]
     },
     "execution_count": 10,
     "metadata": {},
     "output_type": "execute_result"
    }
   ],
   "source": [
    "pd.DataFrame(m2attack1).apply(lambda hgh: hgh[0] > hgh[1], axis = 1).mean()\n",
    "##"
   ]
  },
  {
   "cell_type": "markdown",
   "id": "de95e97b",
   "metadata": {},
   "source": [
    "# rvs - random value generation\n"
   ]
  },
  {
   "cell_type": "code",
   "execution_count": 11,
   "id": "0da13c2b",
   "metadata": {},
   "outputs": [],
   "source": [
    "dice_distribution = stats.randint(1,7)"
   ]
  },
  {
   "cell_type": "code",
   "execution_count": 12,
   "id": "df209dfc",
   "metadata": {},
   "outputs": [
    {
     "data": {
      "text/plain": [
       "array([1, 6, 5, 4, 3])"
      ]
     },
     "execution_count": 12,
     "metadata": {},
     "output_type": "execute_result"
    }
   ],
   "source": [
    "dice_distribution.rvs(5)"
   ]
  },
  {
   "cell_type": "code",
   "execution_count": 13,
   "id": "cc55dfb7",
   "metadata": {},
   "outputs": [
    {
     "data": {
      "text/plain": [
       "array([[2, 4, 3, 6, 3],\n",
       "       [3, 6, 4, 3, 6],\n",
       "       [1, 4, 3, 3, 4],\n",
       "       [5, 4, 2, 1, 3],\n",
       "       [2, 5, 1, 2, 5]])"
      ]
     },
     "execution_count": 13,
     "metadata": {},
     "output_type": "execute_result"
    }
   ],
   "source": [
    "##for a matrix, use dimension (row, col)\n",
    "dice_distribution.rvs((5,5))\n",
    "## rvs is a way to get a random sequence of numbers"
   ]
  },
  {
   "cell_type": "code",
   "execution_count": 14,
   "id": "35dcdfe7",
   "metadata": {},
   "outputs": [],
   "source": [
    "n = 10000000\n",
    "x = dice_distribution.rvs(n)"
   ]
  },
  {
   "cell_type": "code",
   "execution_count": 15,
   "id": "47a63374",
   "metadata": {},
   "outputs": [
    {
     "data": {
      "text/plain": [
       "array([2, 5, 5, ..., 1, 5, 4])"
      ]
     },
     "execution_count": 15,
     "metadata": {},
     "output_type": "execute_result"
    }
   ],
   "source": [
    "x"
   ]
  },
  {
   "cell_type": "code",
   "execution_count": 16,
   "id": "7af31a3e",
   "metadata": {},
   "outputs": [
    {
     "data": {
      "text/plain": [
       "Text(0.5, 1.0, 'Outcome of 10,000,000 Dice Rolls')"
      ]
     },
     "execution_count": 16,
     "metadata": {},
     "output_type": "execute_result"
    },
    {
     "data": {
      "image/png": "[encoded data removed]",
      "text/plain": [
       "<Figure size 900x600 with 1 Axes>"
      ]
     },
     "metadata": {},
     "output_type": "display_data"
    }
   ],
   "source": [
    "plt.hist(x, bins = range (0,9), align = 'left', width = 1, edgecolor = 'black')\n",
    "plt.title(f'Outcome of {n:,} Dice Rolls')"
   ]
  },
  {
   "cell_type": "code",
   "execution_count": 17,
   "id": "c67e4141",
   "metadata": {},
   "outputs": [
    {
     "data": {
      "text/plain": [
       "0.16666666666666666"
      ]
     },
     "execution_count": 17,
     "metadata": {},
     "output_type": "execute_result"
    }
   ],
   "source": [
    "## use pmf to find the probability that a roll = 3\n",
    "dice_distribution.pmf(3)"
   ]
  },
  {
   "cell_type": "markdown",
   "id": "c561269a",
   "metadata": {},
   "source": [
    "## December 5th, Warm UP:"
   ]
  },
  {
   "cell_type": "code",
   "execution_count": 18,
   "id": "2f5ea022",
   "metadata": {},
   "outputs": [],
   "source": [
    "from pydataset import data"
   ]
  },
  {
   "cell_type": "code",
   "execution_count": 19,
   "id": "1635f9d0",
   "metadata": {},
   "outputs": [],
   "source": [
    "cake = data(\"cake\")"
   ]
  },
  {
   "cell_type": "markdown",
   "id": "3b9abfb8",
   "metadata": {},
   "source": [
    "$H_0$ : there is no difference in average temperature between the 3 different recipes\n",
    "$\\mu_{a} == \\mu _{b} == \\mu _{c}$\n",
    "\n",
    "$H_a$ : there is a difference between the 3 different recipes\n",
    "$\\mu_{a} != \\mu _{b} != \\mu _{c}$"
   ]
  },
  {
   "cell_type": "code",
   "execution_count": 20,
   "id": "56d76aae",
   "metadata": {},
   "outputs": [],
   "source": [
    "cakeA = cake[cake['recipe'] == 'A']\n",
    "cakeB = cake[cake['recipe'] == 'B']\n",
    "cakeC = cake[cake['recipe'] == 'C']\n"
   ]
  },
  {
   "cell_type": "code",
   "execution_count": 21,
   "id": "67cc825f",
   "metadata": {},
   "outputs": [
    {
     "data": {
      "text/plain": [
       "F_onewayResult(statistic=0.0, pvalue=1.0)"
      ]
     },
     "execution_count": 21,
     "metadata": {},
     "output_type": "execute_result"
    }
   ],
   "source": [
    "stats.f_oneway(cakeA.temperature, cakeB.temperature, cakeC.temperature)"
   ]
  },
  {
   "cell_type": "markdown",
   "id": "2f910a59",
   "metadata": {},
   "source": [
    "## Fail to reject the null"
   ]
  },
  {
   "cell_type": "code",
   "execution_count": 22,
   "id": "9545f2ec",
   "metadata": {},
   "outputs": [],
   "source": [
    "import env\n",
    "import seaborn as sns"
   ]
  },
  {
   "cell_type": "code",
   "execution_count": 26,
   "id": "ecd98e01",
   "metadata": {},
   "outputs": [],
   "source": [
    "def get_db_url(username, password, host, db):\n",
    "    return f'mysql+pymysql://{username}:{password}@{host}/{db}'\n",
    "url = get_db_url(env.username, env.password, env.host, db='telco_churn')"
   ]
  },
  {
   "cell_type": "code",
   "execution_count": 29,
   "id": "335fdb4e",
   "metadata": {},
   "outputs": [],
   "source": [
    "query = 'select * from customers'"
   ]
  },
  {
   "cell_type": "code",
   "execution_count": 31,
   "id": "e17c285f",
   "metadata": {},
   "outputs": [],
   "source": [
    "df = pd.read_sql(query, url)"
   ]
  },
  {
   "cell_type": "markdown",
   "id": "4344557b",
   "metadata": {},
   "source": [
    "# Does tenure correlate with total charges?"
   ]
  },
  {
   "cell_type": "markdown",
   "id": "f469d025",
   "metadata": {},
   "source": [
    "### Hypotheses:\n",
    "\n",
    "#### $H_0$ : There is no linear correlation between tenure and total charges\n",
    "#### $H_a$ : There is a linear correlation between tenure and total charges\n"
   ]
  },
  {
   "cell_type": "code",
   "execution_count": 53,
   "id": "30a34e35",
   "metadata": {},
   "outputs": [
    {
     "data": {
      "text/html": [
       "<div>\n",
       "<style scoped>\n",
       "    .dataframe tbody tr th:only-of-type {\n",
       "        vertical-align: middle;\n",
       "    }\n",
       "\n",
       "    .dataframe tbody tr th {\n",
       "        vertical-align: top;\n",
       "    }\n",
       "\n",
       "    .dataframe thead th {\n",
       "        text-align: right;\n",
       "    }\n",
       "</style>\n",
       "<table border=\"1\" class=\"dataframe\">\n",
       "  <thead>\n",
       "    <tr style=\"text-align: right;\">\n",
       "      <th></th>\n",
       "      <th>tenure</th>\n",
       "      <th>total_charges</th>\n",
       "    </tr>\n",
       "  </thead>\n",
       "  <tbody>\n",
       "    <tr>\n",
       "      <th>0</th>\n",
       "      <td>9</td>\n",
       "      <td>593.3</td>\n",
       "    </tr>\n",
       "    <tr>\n",
       "      <th>1</th>\n",
       "      <td>9</td>\n",
       "      <td>542.4</td>\n",
       "    </tr>\n",
       "    <tr>\n",
       "      <th>2</th>\n",
       "      <td>4</td>\n",
       "      <td>280.85</td>\n",
       "    </tr>\n",
       "    <tr>\n",
       "      <th>3</th>\n",
       "      <td>13</td>\n",
       "      <td>1237.85</td>\n",
       "    </tr>\n",
       "    <tr>\n",
       "      <th>4</th>\n",
       "      <td>3</td>\n",
       "      <td>267.4</td>\n",
       "    </tr>\n",
       "    <tr>\n",
       "      <th>...</th>\n",
       "      <td>...</td>\n",
       "      <td>...</td>\n",
       "    </tr>\n",
       "    <tr>\n",
       "      <th>7038</th>\n",
       "      <td>13</td>\n",
       "      <td>742.9</td>\n",
       "    </tr>\n",
       "    <tr>\n",
       "      <th>7039</th>\n",
       "      <td>22</td>\n",
       "      <td>1873.7</td>\n",
       "    </tr>\n",
       "    <tr>\n",
       "      <th>7040</th>\n",
       "      <td>2</td>\n",
       "      <td>92.75</td>\n",
       "    </tr>\n",
       "    <tr>\n",
       "      <th>7041</th>\n",
       "      <td>67</td>\n",
       "      <td>4627.65</td>\n",
       "    </tr>\n",
       "    <tr>\n",
       "      <th>7042</th>\n",
       "      <td>63</td>\n",
       "      <td>3707.6</td>\n",
       "    </tr>\n",
       "  </tbody>\n",
       "</table>\n",
       "<p>7043 rows × 2 columns</p>\n",
       "</div>"
      ],
      "text/plain": [
       "      tenure total_charges\n",
       "0          9         593.3\n",
       "1          9         542.4\n",
       "2          4        280.85\n",
       "3         13       1237.85\n",
       "4          3         267.4\n",
       "...      ...           ...\n",
       "7038      13         742.9\n",
       "7039      22        1873.7\n",
       "7040       2         92.75\n",
       "7041      67       4627.65\n",
       "7042      63        3707.6\n",
       "\n",
       "[7043 rows x 2 columns]"
      ]
     },
     "execution_count": 53,
     "metadata": {},
     "output_type": "execute_result"
    }
   ],
   "source": [
    "alpha = 0.05\n",
    "# select data\n",
    "total_charges_df = df[['tenure', 'total_charges']]\n",
    "total_charges_df"
   ]
  },
  {
   "cell_type": "code",
   "execution_count": 57,
   "id": "77d156ce",
   "metadata": {},
   "outputs": [
    {
     "name": "stderr",
     "output_type": "stream",
     "text": [
      "/var/folders/9m/3m9g9yzs77j2m_79z47fjdr00000gq/T/ipykernel_20996/727599955.py:3: SettingWithCopyWarning: \n",
      "A value is trying to be set on a copy of a slice from a DataFrame.\n",
      "Try using .loc[row_indexer,col_indexer] = value instead\n",
      "\n",
      "See the caveats in the documentation: https://pandas.pydata.org/pandas-docs/stable/user_guide/indexing.html#returning-a-view-versus-a-copy\n",
      "  total_charges_df['total_charges'] = total_charges_df['total_charges'].str.replace(' ', '0').astype('float')\n"
     ]
    }
   ],
   "source": [
    "# get rid of nulls/NA/naan in a column:\n",
    "total_charges_df.total_charges.sort_values()\n",
    "total_charges_df['total_charges'] = total_charges_df['total_charges'].str.replace(' ', '0').astype('float')\n",
    "\n",
    "# assign total_charges column that has blanks to 0:\n"
   ]
  },
  {
   "cell_type": "code",
   "execution_count": 60,
   "id": "dc534879",
   "metadata": {},
   "outputs": [],
   "source": [
    "r, p = stats.spearmanr(total_charges_df.tenure, total_charges_df.total_charges)"
   ]
  },
  {
   "cell_type": "code",
   "execution_count": 62,
   "id": "616b0a8f",
   "metadata": {},
   "outputs": [
    {
     "data": {
      "text/plain": [
       "(0.8896957900597577, 0.0)"
      ]
     },
     "execution_count": 62,
     "metadata": {},
     "output_type": "execute_result"
    }
   ],
   "source": [
    "r, p\n",
    "# there is a strong linear correlation between tenure and total charge"
   ]
  },
  {
   "cell_type": "markdown",
   "id": "b87e045b",
   "metadata": {},
   "source": [
    "## is there a correlation between tenure and monthly charges when controlling\n",
    "\n",
    "\n",
    "$H_0$ : there is no linear correlation between tenure and monthly charges\n",
    "\n",
    "$H_a$: there is a linear correlation"
   ]
  },
  {
   "cell_type": "code",
   "execution_count": null,
   "id": "1bdad233",
   "metadata": {},
   "outputs": [],
   "source": [
    "phone"
   ]
  }
 ],
 "metadata": {
  "kernelspec": {
   "display_name": "Python 3 (ipykernel)",
   "language": "python",
   "name": "python3"
  },
  "language_info": {
   "codemirror_mode": {
    "name": "ipython",
    "version": 3
   },
   "file_extension": ".py",
   "mimetype": "text/x-python",
   "name": "python",
   "nbconvert_exporter": "python",
   "pygments_lexer": "ipython3",
   "version": "3.9.13"
  }
 },
 "nbformat": 4,
 "nbformat_minor": 5
}
